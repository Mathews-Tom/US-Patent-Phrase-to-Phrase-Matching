{
 "cells": [
  {
   "cell_type": "markdown",
   "id": "f03b526b",
   "metadata": {
    "papermill": {
     "duration": 0.10851,
     "end_time": "2022-04-30T06:42:59.600527",
     "exception": false,
     "start_time": "2022-04-30T06:42:59.492017",
     "status": "completed"
    },
    "tags": []
   },
   "source": [
    "## US Patent Phrase to Phrase Matching Competition"
   ]
  },
  {
   "cell_type": "markdown",
   "id": "83296dcd",
   "metadata": {
    "papermill": {
     "duration": 0.074853,
     "end_time": "2022-04-30T06:42:59.752384",
     "exception": false,
     "start_time": "2022-04-30T06:42:59.677531",
     "status": "completed"
    },
    "tags": []
   },
   "source": [
    "In this notebook we will tackle the [U.S. Patent Phrase to Phrase Matching](https://www.kaggle.com/competitions/us-patent-phrase-to-phrase-matching/) competition. The focus generally should be two things:\n",
    "\n",
    "1. Creating an effective validation set\n",
    "1. Iterating rapidly to find changes which improve results on the validation set.\n",
    "\n",
    "If you can do these two things, then you can try out lots of experiments and find what works, and what doesn't. Without these two things, it will be nearly impossible to do well in a Kaggle competition (and, indeed, to create highly accurate models in real life!)\n",
    "\n",
    "I will show a couple of different ways to create an appropriate validation set, and will explain how to expand them into an appropriate cross-validation system. I'll use just plain HuggingFace Transformers for everything, and will keep the code concise and simple. The more code you have, the more you have to maintain, and the more chances there are to make mistakes. So keep it simple!\n",
    "\n",
    "OK, let's get started..."
   ]
  },
  {
   "cell_type": "markdown",
   "id": "0356ee3e",
   "metadata": {
    "papermill": {
     "duration": 0.118702,
     "end_time": "2022-04-30T06:42:59.946650",
     "exception": false,
     "start_time": "2022-04-30T06:42:59.827948",
     "status": "completed"
    },
    "tags": []
   },
   "source": [
    "A lot of the basic imports you'll want (`np`, `pd`, `plt`, etc) are provided by fastai, so let's grab them in one line:"
   ]
  },
  {
   "cell_type": "code",
   "execution_count": 1,
   "id": "14c48370",
   "metadata": {
    "execution": {
     "iopub.execute_input": "2022-04-30T06:43:00.109696Z",
     "iopub.status.busy": "2022-04-30T06:43:00.109116Z",
     "iopub.status.idle": "2022-04-30T06:43:00.472363Z",
     "shell.execute_reply": "2022-04-30T06:43:00.471744Z",
     "shell.execute_reply.started": "2022-04-22T06:20:20.454313Z"
    },
    "papermill": {
     "duration": 0.450647,
     "end_time": "2022-04-30T06:43:00.472519",
     "exception": false,
     "start_time": "2022-04-30T06:43:00.021872",
     "status": "completed"
    },
    "tags": []
   },
   "outputs": [],
   "source": [
    "from fastai.imports import *"
   ]
  },
  {
   "cell_type": "markdown",
   "id": "9661c854",
   "metadata": {
    "papermill": {
     "duration": 0.075594,
     "end_time": "2022-04-30T06:43:00.626923",
     "exception": false,
     "start_time": "2022-04-30T06:43:00.551329",
     "status": "completed"
    },
    "tags": []
   },
   "source": [
    "It's nice to be able to run things locally too, to save your Kaggle GPU hours, so set a variable to make it easy to see where we are:"
   ]
  },
  {
   "cell_type": "code",
   "execution_count": 2,
   "id": "3416a0db",
   "metadata": {
    "execution": {
     "iopub.execute_input": "2022-04-30T06:43:00.783330Z",
     "iopub.status.busy": "2022-04-30T06:43:00.782518Z",
     "iopub.status.idle": "2022-04-30T06:43:00.784885Z",
     "shell.execute_reply": "2022-04-30T06:43:00.784482Z",
     "shell.execute_reply.started": "2022-04-22T06:20:20.865425Z"
    },
    "papermill": {
     "duration": 0.081374,
     "end_time": "2022-04-30T06:43:00.785025",
     "exception": false,
     "start_time": "2022-04-30T06:43:00.703651",
     "status": "completed"
    },
    "tags": []
   },
   "outputs": [],
   "source": [
    "iskaggle = os.environ.get('KAGGLE_KERNEL_RUN_TYPE', '')"
   ]
  },
  {
   "cell_type": "markdown",
   "id": "6c9bec03",
   "metadata": {
    "heading_collapsed": true,
    "papermill": {
     "duration": 0.075687,
     "end_time": "2022-04-30T06:43:00.935204",
     "exception": false,
     "start_time": "2022-04-30T06:43:00.859517",
     "status": "completed"
    },
    "tags": []
   },
   "source": [
    "## Import and EDA"
   ]
  },
  {
   "cell_type": "markdown",
   "id": "26bcb687",
   "metadata": {
    "hidden": true,
    "papermill": {
     "duration": 0.07489,
     "end_time": "2022-04-30T06:43:01.085676",
     "exception": false,
     "start_time": "2022-04-30T06:43:01.010786",
     "status": "completed"
    },
    "tags": []
   },
   "source": [
    "Set a path to our data. Use `pathlib.Path` because it makes everything so much easier, and make it work automatically regardless if you're working on your own PC or on Kaggle!"
   ]
  },
  {
   "cell_type": "code",
   "execution_count": 3,
   "id": "ca32fcb7",
   "metadata": {
    "execution": {
     "iopub.execute_input": "2022-04-30T06:43:01.241902Z",
     "iopub.status.busy": "2022-04-30T06:43:01.241088Z",
     "iopub.status.idle": "2022-04-30T06:43:01.248206Z",
     "shell.execute_reply": "2022-04-30T06:43:01.248622Z",
     "shell.execute_reply.started": "2022-04-22T06:20:20.872936Z"
    },
    "hidden": true,
    "papermill": {
     "duration": 0.087935,
     "end_time": "2022-04-30T06:43:01.248756",
     "exception": false,
     "start_time": "2022-04-30T06:43:01.160821",
     "status": "completed"
    },
    "tags": []
   },
   "outputs": [
    {
     "data": {
      "text/plain": [
       "(#3) [Path('../input/us-patent-phrase-to-phrase-matching/sample_submission.csv'),Path('../input/us-patent-phrase-to-phrase-matching/train.csv'),Path('../input/us-patent-phrase-to-phrase-matching/test.csv')]"
      ]
     },
     "execution_count": 3,
     "metadata": {},
     "output_type": "execute_result"
    }
   ],
   "source": [
    "path = (Path('../input/us-patent-phrase-to-phrase-matching') if iskaggle\n",
    "        else Path.home()/'data'/'us-patent-phrase-to-phrase-matching')\n",
    "path.ls()"
   ]
  },
  {
   "cell_type": "markdown",
   "id": "5117b9de",
   "metadata": {
    "hidden": true,
    "papermill": {
     "duration": 0.075257,
     "end_time": "2022-04-30T06:43:01.399553",
     "exception": false,
     "start_time": "2022-04-30T06:43:01.324296",
     "status": "completed"
    },
    "tags": []
   },
   "source": [
    "Let's look at the training set:"
   ]
  },
  {
   "cell_type": "code",
   "execution_count": 4,
   "id": "1777689a",
   "metadata": {
    "execution": {
     "iopub.execute_input": "2022-04-30T06:43:01.584146Z",
     "iopub.status.busy": "2022-04-30T06:43:01.582363Z",
     "iopub.status.idle": "2022-04-30T06:43:01.715069Z",
     "shell.execute_reply": "2022-04-30T06:43:01.716138Z",
     "shell.execute_reply.started": "2022-04-22T06:20:20.886505Z"
    },
    "hidden": true,
    "papermill": {
     "duration": 0.240557,
     "end_time": "2022-04-30T06:43:01.716340",
     "exception": false,
     "start_time": "2022-04-30T06:43:01.475783",
     "status": "completed"
    },
    "tags": []
   },
   "outputs": [
    {
     "data": {
      "text/html": [
       "<div>\n",
       "<style scoped>\n",
       "    .dataframe tbody tr th:only-of-type {\n",
       "        vertical-align: middle;\n",
       "    }\n",
       "\n",
       "    .dataframe tbody tr th {\n",
       "        vertical-align: top;\n",
       "    }\n",
       "\n",
       "    .dataframe thead th {\n",
       "        text-align: right;\n",
       "    }\n",
       "</style>\n",
       "<table border=\"1\" class=\"dataframe\">\n",
       "  <thead>\n",
       "    <tr style=\"text-align: right;\">\n",
       "      <th></th>\n",
       "      <th>id</th>\n",
       "      <th>anchor</th>\n",
       "      <th>target</th>\n",
       "      <th>context</th>\n",
       "      <th>score</th>\n",
       "    </tr>\n",
       "  </thead>\n",
       "  <tbody>\n",
       "    <tr>\n",
       "      <th>0</th>\n",
       "      <td>37d61fd2272659b1</td>\n",
       "      <td>abatement</td>\n",
       "      <td>abatement of pollution</td>\n",
       "      <td>A47</td>\n",
       "      <td>0.50</td>\n",
       "    </tr>\n",
       "    <tr>\n",
       "      <th>1</th>\n",
       "      <td>7b9652b17b68b7a4</td>\n",
       "      <td>abatement</td>\n",
       "      <td>act of abating</td>\n",
       "      <td>A47</td>\n",
       "      <td>0.75</td>\n",
       "    </tr>\n",
       "    <tr>\n",
       "      <th>2</th>\n",
       "      <td>36d72442aefd8232</td>\n",
       "      <td>abatement</td>\n",
       "      <td>active catalyst</td>\n",
       "      <td>A47</td>\n",
       "      <td>0.25</td>\n",
       "    </tr>\n",
       "    <tr>\n",
       "      <th>3</th>\n",
       "      <td>5296b0c19e1ce60e</td>\n",
       "      <td>abatement</td>\n",
       "      <td>eliminating process</td>\n",
       "      <td>A47</td>\n",
       "      <td>0.50</td>\n",
       "    </tr>\n",
       "    <tr>\n",
       "      <th>4</th>\n",
       "      <td>54c1e3b9184cb5b6</td>\n",
       "      <td>abatement</td>\n",
       "      <td>forest region</td>\n",
       "      <td>A47</td>\n",
       "      <td>0.00</td>\n",
       "    </tr>\n",
       "  </tbody>\n",
       "</table>\n",
       "</div>"
      ],
      "text/plain": [
       "                 id     anchor                  target context  score\n",
       "0  37d61fd2272659b1  abatement  abatement of pollution     A47   0.50\n",
       "1  7b9652b17b68b7a4  abatement          act of abating     A47   0.75\n",
       "2  36d72442aefd8232  abatement         active catalyst     A47   0.25\n",
       "3  5296b0c19e1ce60e  abatement     eliminating process     A47   0.50\n",
       "4  54c1e3b9184cb5b6  abatement           forest region     A47   0.00"
      ]
     },
     "execution_count": 4,
     "metadata": {},
     "output_type": "execute_result"
    }
   ],
   "source": [
    "train_df = pd.read_csv(path/'train.csv')\n",
    "train_df.head()"
   ]
  },
  {
   "cell_type": "markdown",
   "id": "0f54a392",
   "metadata": {
    "hidden": true,
    "papermill": {
     "duration": 0.123633,
     "end_time": "2022-04-30T06:43:01.982433",
     "exception": false,
     "start_time": "2022-04-30T06:43:01.858800",
     "status": "completed"
    },
    "tags": []
   },
   "source": [
    "...and the test set:"
   ]
  },
  {
   "cell_type": "code",
   "execution_count": 5,
   "id": "12f225bf",
   "metadata": {
    "execution": {
     "iopub.execute_input": "2022-04-30T06:43:02.188848Z",
     "iopub.status.busy": "2022-04-30T06:43:02.188058Z",
     "iopub.status.idle": "2022-04-30T06:43:02.198091Z",
     "shell.execute_reply": "2022-04-30T06:43:02.197636Z",
     "shell.execute_reply.started": "2022-04-22T06:20:20.980872Z"
    },
    "hidden": true,
    "papermill": {
     "duration": 0.091503,
     "end_time": "2022-04-30T06:43:02.198219",
     "exception": false,
     "start_time": "2022-04-30T06:43:02.106716",
     "status": "completed"
    },
    "tags": []
   },
   "outputs": [
    {
     "data": {
      "text/plain": [
       "36"
      ]
     },
     "execution_count": 5,
     "metadata": {},
     "output_type": "execute_result"
    }
   ],
   "source": [
    "test_df = pd.read_csv(path/'test.csv')\n",
    "len(test_df)"
   ]
  },
  {
   "cell_type": "code",
   "execution_count": 6,
   "id": "6d8e6eb6",
   "metadata": {
    "execution": {
     "iopub.execute_input": "2022-04-30T06:43:02.363345Z",
     "iopub.status.busy": "2022-04-30T06:43:02.362496Z",
     "iopub.status.idle": "2022-04-30T06:43:02.365467Z",
     "shell.execute_reply": "2022-04-30T06:43:02.365857Z",
     "shell.execute_reply.started": "2022-04-22T06:20:20.993502Z"
    },
    "hidden": true,
    "papermill": {
     "duration": 0.089135,
     "end_time": "2022-04-30T06:43:02.366003",
     "exception": false,
     "start_time": "2022-04-30T06:43:02.276868",
     "status": "completed"
    },
    "tags": []
   },
   "outputs": [
    {
     "data": {
      "text/html": [
       "<div>\n",
       "<style scoped>\n",
       "    .dataframe tbody tr th:only-of-type {\n",
       "        vertical-align: middle;\n",
       "    }\n",
       "\n",
       "    .dataframe tbody tr th {\n",
       "        vertical-align: top;\n",
       "    }\n",
       "\n",
       "    .dataframe thead th {\n",
       "        text-align: right;\n",
       "    }\n",
       "</style>\n",
       "<table border=\"1\" class=\"dataframe\">\n",
       "  <thead>\n",
       "    <tr style=\"text-align: right;\">\n",
       "      <th></th>\n",
       "      <th>id</th>\n",
       "      <th>anchor</th>\n",
       "      <th>target</th>\n",
       "      <th>context</th>\n",
       "    </tr>\n",
       "  </thead>\n",
       "  <tbody>\n",
       "    <tr>\n",
       "      <th>0</th>\n",
       "      <td>4112d61851461f60</td>\n",
       "      <td>opc drum</td>\n",
       "      <td>inorganic photoconductor drum</td>\n",
       "      <td>G02</td>\n",
       "    </tr>\n",
       "    <tr>\n",
       "      <th>1</th>\n",
       "      <td>09e418c93a776564</td>\n",
       "      <td>adjust gas flow</td>\n",
       "      <td>altering gas flow</td>\n",
       "      <td>F23</td>\n",
       "    </tr>\n",
       "    <tr>\n",
       "      <th>2</th>\n",
       "      <td>36baf228038e314b</td>\n",
       "      <td>lower trunnion</td>\n",
       "      <td>lower locating</td>\n",
       "      <td>B60</td>\n",
       "    </tr>\n",
       "    <tr>\n",
       "      <th>3</th>\n",
       "      <td>1f37ead645e7f0c8</td>\n",
       "      <td>cap component</td>\n",
       "      <td>upper portion</td>\n",
       "      <td>D06</td>\n",
       "    </tr>\n",
       "    <tr>\n",
       "      <th>4</th>\n",
       "      <td>71a5b6ad068d531f</td>\n",
       "      <td>neural stimulation</td>\n",
       "      <td>artificial neural network</td>\n",
       "      <td>H04</td>\n",
       "    </tr>\n",
       "  </tbody>\n",
       "</table>\n",
       "</div>"
      ],
      "text/plain": [
       "                 id              anchor                         target context\n",
       "0  4112d61851461f60            opc drum  inorganic photoconductor drum     G02\n",
       "1  09e418c93a776564     adjust gas flow              altering gas flow     F23\n",
       "2  36baf228038e314b      lower trunnion                 lower locating     B60\n",
       "3  1f37ead645e7f0c8       cap component                  upper portion     D06\n",
       "4  71a5b6ad068d531f  neural stimulation      artificial neural network     H04"
      ]
     },
     "execution_count": 6,
     "metadata": {},
     "output_type": "execute_result"
    }
   ],
   "source": [
    "test_df.head()"
   ]
  },
  {
   "cell_type": "markdown",
   "id": "0495ab60",
   "metadata": {
    "hidden": true,
    "papermill": {
     "duration": 0.076042,
     "end_time": "2022-04-30T06:43:02.518483",
     "exception": false,
     "start_time": "2022-04-30T06:43:02.442441",
     "status": "completed"
    },
    "tags": []
   },
   "source": [
    "Let's look at the distribution of values of `target`:"
   ]
  },
  {
   "cell_type": "code",
   "execution_count": 7,
   "id": "b5deb273",
   "metadata": {
    "execution": {
     "iopub.execute_input": "2022-04-30T06:43:02.695722Z",
     "iopub.status.busy": "2022-04-30T06:43:02.694868Z",
     "iopub.status.idle": "2022-04-30T06:43:02.703451Z",
     "shell.execute_reply": "2022-04-30T06:43:02.703875Z",
     "shell.execute_reply.started": "2022-04-22T06:20:21.00612Z"
    },
    "hidden": true,
    "papermill": {
     "duration": 0.108825,
     "end_time": "2022-04-30T06:43:02.704036",
     "exception": false,
     "start_time": "2022-04-30T06:43:02.595211",
     "status": "completed"
    },
    "tags": []
   },
   "outputs": [
    {
     "data": {
      "text/plain": [
       "composition                    24\n",
       "data                           22\n",
       "metal                          22\n",
       "motor                          22\n",
       "assembly                       21\n",
       "                               ..\n",
       "switching switch over valve     1\n",
       "switching switch off valve      1\n",
       "switching over valve            1\n",
       "switching off valve             1\n",
       "wooden substrate                1\n",
       "Name: target, Length: 29340, dtype: int64"
      ]
     },
     "execution_count": 7,
     "metadata": {},
     "output_type": "execute_result"
    }
   ],
   "source": [
    "train_df.target.value_counts()"
   ]
  },
  {
   "cell_type": "markdown",
   "id": "37527da6",
   "metadata": {
    "hidden": true,
    "papermill": {
     "duration": 0.077016,
     "end_time": "2022-04-30T06:43:02.858424",
     "exception": false,
     "start_time": "2022-04-30T06:43:02.781408",
     "status": "completed"
    },
    "tags": []
   },
   "source": [
    "We see that there's nearly as many unique targets as items in the training set, so they're nearly but not quite unique. Most importantly, we can see that these generally contain very few words (1-4 words in the above sample).\n",
    "\n",
    "Let's check `anchor`:"
   ]
  },
  {
   "cell_type": "code",
   "execution_count": 8,
   "id": "e748139d",
   "metadata": {
    "execution": {
     "iopub.execute_input": "2022-04-30T06:43:03.022370Z",
     "iopub.status.busy": "2022-04-30T06:43:03.021580Z",
     "iopub.status.idle": "2022-04-30T06:43:03.028732Z",
     "shell.execute_reply": "2022-04-30T06:43:03.028326Z",
     "shell.execute_reply.started": "2022-04-22T06:20:21.037269Z"
    },
    "hidden": true,
    "papermill": {
     "duration": 0.092178,
     "end_time": "2022-04-30T06:43:03.028845",
     "exception": false,
     "start_time": "2022-04-30T06:43:02.936667",
     "status": "completed"
    },
    "tags": []
   },
   "outputs": [
    {
     "data": {
      "text/plain": [
       "component composite coating              152\n",
       "sheet supply roller                      150\n",
       "source voltage                           140\n",
       "perfluoroalkyl group                     136\n",
       "el display                               135\n",
       "                                        ... \n",
       "plug nozzle                                2\n",
       "shannon                                    2\n",
       "dry coating composition1                   2\n",
       "peripheral nervous system stimulation      1\n",
       "conduct conducting material                1\n",
       "Name: anchor, Length: 733, dtype: int64"
      ]
     },
     "execution_count": 8,
     "metadata": {},
     "output_type": "execute_result"
    }
   ],
   "source": [
    "train_df.anchor.value_counts()"
   ]
  },
  {
   "cell_type": "markdown",
   "id": "dbef7d8c",
   "metadata": {
    "hidden": true,
    "papermill": {
     "duration": 0.07807,
     "end_time": "2022-04-30T06:43:03.184135",
     "exception": false,
     "start_time": "2022-04-30T06:43:03.106065",
     "status": "completed"
    },
    "tags": []
   },
   "source": [
    "We can see here that there's far fewer unique values (just 733) and that again they're very short (2-4 words in this sample).\n",
    "\n",
    "Now we'll do `context`"
   ]
  },
  {
   "cell_type": "code",
   "execution_count": 9,
   "id": "860f203a",
   "metadata": {
    "execution": {
     "iopub.execute_input": "2022-04-30T06:43:03.351960Z",
     "iopub.status.busy": "2022-04-30T06:43:03.348544Z",
     "iopub.status.idle": "2022-04-30T06:43:03.354521Z",
     "shell.execute_reply": "2022-04-30T06:43:03.354932Z",
     "shell.execute_reply.started": "2022-04-22T06:20:21.053663Z"
    },
    "hidden": true,
    "papermill": {
     "duration": 0.092249,
     "end_time": "2022-04-30T06:43:03.355079",
     "exception": false,
     "start_time": "2022-04-30T06:43:03.262830",
     "status": "completed"
    },
    "tags": []
   },
   "outputs": [
    {
     "data": {
      "text/plain": [
       "H01    2186\n",
       "H04    2177\n",
       "G01    1812\n",
       "A61    1477\n",
       "F16    1091\n",
       "       ... \n",
       "B03      47\n",
       "F17      33\n",
       "B31      24\n",
       "A62      23\n",
       "F26      18\n",
       "Name: context, Length: 106, dtype: int64"
      ]
     },
     "execution_count": 9,
     "metadata": {},
     "output_type": "execute_result"
    }
   ],
   "source": [
    "train_df.context.value_counts()"
   ]
  },
  {
   "cell_type": "markdown",
   "id": "f0d8de64",
   "metadata": {
    "hidden": true,
    "papermill": {
     "duration": 0.077222,
     "end_time": "2022-04-30T06:43:03.510568",
     "exception": false,
     "start_time": "2022-04-30T06:43:03.433346",
     "status": "completed"
    },
    "tags": []
   },
   "source": [
    "These are just short codes. Some of them have very few examples (18 in the smallest case) The first character is the section the patent was filed under -- let's create a column for that and look at the distribution:"
   ]
  },
  {
   "cell_type": "code",
   "execution_count": 10,
   "id": "41f19539",
   "metadata": {
    "execution": {
     "iopub.execute_input": "2022-04-30T06:43:03.678570Z",
     "iopub.status.busy": "2022-04-30T06:43:03.677784Z",
     "iopub.status.idle": "2022-04-30T06:43:03.707632Z",
     "shell.execute_reply": "2022-04-30T06:43:03.708045Z",
     "shell.execute_reply.started": "2022-04-22T06:20:21.069238Z"
    },
    "hidden": true,
    "papermill": {
     "duration": 0.12017,
     "end_time": "2022-04-30T06:43:03.708197",
     "exception": false,
     "start_time": "2022-04-30T06:43:03.588027",
     "status": "completed"
    },
    "tags": []
   },
   "outputs": [
    {
     "data": {
      "text/plain": [
       "B    8019\n",
       "H    6195\n",
       "G    6013\n",
       "C    5288\n",
       "A    4094\n",
       "F    4054\n",
       "E    1531\n",
       "D    1279\n",
       "Name: section, dtype: int64"
      ]
     },
     "execution_count": 10,
     "metadata": {},
     "output_type": "execute_result"
    }
   ],
   "source": [
    "train_df['section'] = train_df.context.str[0]\n",
    "train_df.section.value_counts()"
   ]
  },
  {
   "cell_type": "markdown",
   "id": "52d53380",
   "metadata": {
    "hidden": true,
    "papermill": {
     "duration": 0.07812,
     "end_time": "2022-04-30T06:43:03.864896",
     "exception": false,
     "start_time": "2022-04-30T06:43:03.786776",
     "status": "completed"
    },
    "tags": []
   },
   "source": [
    "It seems likely that these sections might be useful, since they've got quite a bit more data in each.\n",
    "\n",
    "Finally, we'll take a look at a histogram of the scores:"
   ]
  },
  {
   "cell_type": "code",
   "execution_count": 11,
   "id": "9d36bbb1",
   "metadata": {
    "execution": {
     "iopub.execute_input": "2022-04-30T06:43:04.026425Z",
     "iopub.status.busy": "2022-04-30T06:43:04.025794Z",
     "iopub.status.idle": "2022-04-30T06:43:04.257634Z",
     "shell.execute_reply": "2022-04-30T06:43:04.258016Z",
     "shell.execute_reply.started": "2022-04-22T06:20:21.111272Z"
    },
    "hidden": true,
    "papermill": {
     "duration": 0.314589,
     "end_time": "2022-04-30T06:43:04.258166",
     "exception": false,
     "start_time": "2022-04-30T06:43:03.943577",
     "status": "completed"
    },
    "tags": []
   },
   "outputs": [
    {
     "data": {
      "image/png": "[encoded data removed]",
      "text/plain": [
       "<Figure size 432x288 with 1 Axes>"
      ]
     },
     "metadata": {
      "needs_background": "light"
     },
     "output_type": "display_data"
    }
   ],
   "source": [
    "train_df.score.hist();"
   ]
  },
  {
   "cell_type": "markdown",
   "id": "fda8a4c3",
   "metadata": {
    "hidden": true,
    "papermill": {
     "duration": 0.079726,
     "end_time": "2022-04-30T06:43:04.417086",
     "exception": false,
     "start_time": "2022-04-30T06:43:04.337360",
     "status": "completed"
    },
    "tags": []
   },
   "source": [
    "There's a small number that are scored `1.0` - here's a sample:"
   ]
  },
  {
   "cell_type": "code",
   "execution_count": 12,
   "id": "6657ad29",
   "metadata": {
    "execution": {
     "iopub.execute_input": "2022-04-30T06:43:04.580919Z",
     "iopub.status.busy": "2022-04-30T06:43:04.579795Z",
     "iopub.status.idle": "2022-04-30T06:43:04.600415Z",
     "shell.execute_reply": "2022-04-30T06:43:04.600796Z",
     "shell.execute_reply.started": "2022-04-22T06:20:21.353334Z"
    },
    "hidden": true,
    "papermill": {
     "duration": 0.104779,
     "end_time": "2022-04-30T06:43:04.600966",
     "exception": false,
     "start_time": "2022-04-30T06:43:04.496187",
     "status": "completed"
    },
    "tags": []
   },
   "outputs": [
    {
     "data": {
      "text/html": [
       "<div>\n",
       "<style scoped>\n",
       "    .dataframe tbody tr th:only-of-type {\n",
       "        vertical-align: middle;\n",
       "    }\n",
       "\n",
       "    .dataframe tbody tr th {\n",
       "        vertical-align: top;\n",
       "    }\n",
       "\n",
       "    .dataframe thead th {\n",
       "        text-align: right;\n",
       "    }\n",
       "</style>\n",
       "<table border=\"1\" class=\"dataframe\">\n",
       "  <thead>\n",
       "    <tr style=\"text-align: right;\">\n",
       "      <th></th>\n",
       "      <th>id</th>\n",
       "      <th>anchor</th>\n",
       "      <th>target</th>\n",
       "      <th>context</th>\n",
       "      <th>score</th>\n",
       "      <th>section</th>\n",
       "    </tr>\n",
       "  </thead>\n",
       "  <tbody>\n",
       "    <tr>\n",
       "      <th>28</th>\n",
       "      <td>473137168ebf7484</td>\n",
       "      <td>abatement</td>\n",
       "      <td>abating</td>\n",
       "      <td>F24</td>\n",
       "      <td>1.0</td>\n",
       "      <td>F</td>\n",
       "    </tr>\n",
       "    <tr>\n",
       "      <th>158</th>\n",
       "      <td>621b048d70aa8867</td>\n",
       "      <td>absorbent properties</td>\n",
       "      <td>absorbent characteristics</td>\n",
       "      <td>D01</td>\n",
       "      <td>1.0</td>\n",
       "      <td>D</td>\n",
       "    </tr>\n",
       "    <tr>\n",
       "      <th>161</th>\n",
       "      <td>bc20a1c961cb073a</td>\n",
       "      <td>absorbent properties</td>\n",
       "      <td>absorption properties</td>\n",
       "      <td>D01</td>\n",
       "      <td>1.0</td>\n",
       "      <td>D</td>\n",
       "    </tr>\n",
       "    <tr>\n",
       "      <th>311</th>\n",
       "      <td>e955700dffd68624</td>\n",
       "      <td>acid absorption</td>\n",
       "      <td>absorption of acid</td>\n",
       "      <td>B08</td>\n",
       "      <td>1.0</td>\n",
       "      <td>B</td>\n",
       "    </tr>\n",
       "    <tr>\n",
       "      <th>315</th>\n",
       "      <td>3a09aba546aac675</td>\n",
       "      <td>acid absorption</td>\n",
       "      <td>acid absorption</td>\n",
       "      <td>B08</td>\n",
       "      <td>1.0</td>\n",
       "      <td>B</td>\n",
       "    </tr>\n",
       "    <tr>\n",
       "      <th>...</th>\n",
       "      <td>...</td>\n",
       "      <td>...</td>\n",
       "      <td>...</td>\n",
       "      <td>...</td>\n",
       "      <td>...</td>\n",
       "      <td>...</td>\n",
       "    </tr>\n",
       "    <tr>\n",
       "      <th>36398</th>\n",
       "      <td>913141526432f1d6</td>\n",
       "      <td>wiring trough</td>\n",
       "      <td>wiring troughs</td>\n",
       "      <td>F16</td>\n",
       "      <td>1.0</td>\n",
       "      <td>F</td>\n",
       "    </tr>\n",
       "    <tr>\n",
       "      <th>36435</th>\n",
       "      <td>ee0746f2a8ecef97</td>\n",
       "      <td>wood article</td>\n",
       "      <td>wood articles</td>\n",
       "      <td>B05</td>\n",
       "      <td>1.0</td>\n",
       "      <td>B</td>\n",
       "    </tr>\n",
       "    <tr>\n",
       "      <th>36440</th>\n",
       "      <td>ecaf479135cf0dfd</td>\n",
       "      <td>wood article</td>\n",
       "      <td>wooden article</td>\n",
       "      <td>B05</td>\n",
       "      <td>1.0</td>\n",
       "      <td>B</td>\n",
       "    </tr>\n",
       "    <tr>\n",
       "      <th>36464</th>\n",
       "      <td>8ceaa2b5c2d56250</td>\n",
       "      <td>wood article</td>\n",
       "      <td>wood article</td>\n",
       "      <td>B44</td>\n",
       "      <td>1.0</td>\n",
       "      <td>B</td>\n",
       "    </tr>\n",
       "    <tr>\n",
       "      <th>36468</th>\n",
       "      <td>8e1386cbefd7f245</td>\n",
       "      <td>wood article</td>\n",
       "      <td>wooden article</td>\n",
       "      <td>B44</td>\n",
       "      <td>1.0</td>\n",
       "      <td>B</td>\n",
       "    </tr>\n",
       "  </tbody>\n",
       "</table>\n",
       "<p>1154 rows × 6 columns</p>\n",
       "</div>"
      ],
      "text/plain": [
       "                     id                anchor                     target  \\\n",
       "28     473137168ebf7484             abatement                    abating   \n",
       "158    621b048d70aa8867  absorbent properties  absorbent characteristics   \n",
       "161    bc20a1c961cb073a  absorbent properties      absorption properties   \n",
       "311    e955700dffd68624       acid absorption         absorption of acid   \n",
       "315    3a09aba546aac675       acid absorption            acid absorption   \n",
       "...                 ...                   ...                        ...   \n",
       "36398  913141526432f1d6         wiring trough             wiring troughs   \n",
       "36435  ee0746f2a8ecef97          wood article              wood articles   \n",
       "36440  ecaf479135cf0dfd          wood article             wooden article   \n",
       "36464  8ceaa2b5c2d56250          wood article               wood article   \n",
       "36468  8e1386cbefd7f245          wood article             wooden article   \n",
       "\n",
       "      context  score section  \n",
       "28        F24    1.0       F  \n",
       "158       D01    1.0       D  \n",
       "161       D01    1.0       D  \n",
       "311       B08    1.0       B  \n",
       "315       B08    1.0       B  \n",
       "...       ...    ...     ...  \n",
       "36398     F16    1.0       F  \n",
       "36435     B05    1.0       B  \n",
       "36440     B05    1.0       B  \n",
       "36464     B44    1.0       B  \n",
       "36468     B44    1.0       B  \n",
       "\n",
       "[1154 rows x 6 columns]"
      ]
     },
     "execution_count": 12,
     "metadata": {},
     "output_type": "execute_result"
    }
   ],
   "source": [
    "train_df[train_df.score==1]"
   ]
  },
  {
   "cell_type": "markdown",
   "id": "dfdbc36a",
   "metadata": {
    "hidden": true,
    "papermill": {
     "duration": 0.07971,
     "end_time": "2022-04-30T06:43:04.760498",
     "exception": false,
     "start_time": "2022-04-30T06:43:04.680788",
     "status": "completed"
    },
    "tags": []
   },
   "source": [
    "We can see from this that these are just minor rewordings of the same concept, and isn't likely to be specific to `context`. Any pretrained model should be pretty good at finding these already."
   ]
  },
  {
   "cell_type": "markdown",
   "id": "b7374399",
   "metadata": {
    "heading_collapsed": true,
    "papermill": {
     "duration": 0.079251,
     "end_time": "2022-04-30T06:43:04.919308",
     "exception": false,
     "start_time": "2022-04-30T06:43:04.840057",
     "status": "completed"
    },
    "tags": []
   },
   "source": [
    "## Training"
   ]
  },
  {
   "cell_type": "markdown",
   "id": "c2d3581f",
   "metadata": {
    "hidden": true,
    "papermill": {
     "duration": 0.082581,
     "end_time": "2022-04-30T06:43:05.084695",
     "exception": false,
     "start_time": "2022-04-30T06:43:05.002114",
     "status": "completed"
    },
    "tags": []
   },
   "source": [
    "Time to import the stuff we'll need for training:"
   ]
  },
  {
   "cell_type": "code",
   "execution_count": 13,
   "id": "39b61624",
   "metadata": {
    "execution": {
     "iopub.execute_input": "2022-04-30T06:43:05.249503Z",
     "iopub.status.busy": "2022-04-30T06:43:05.248852Z",
     "iopub.status.idle": "2022-04-30T06:43:11.756106Z",
     "shell.execute_reply": "2022-04-30T06:43:11.755522Z",
     "shell.execute_reply.started": "2022-04-22T06:20:21.3816Z"
    },
    "hidden": true,
    "papermill": {
     "duration": 6.591903,
     "end_time": "2022-04-30T06:43:11.756257",
     "exception": false,
     "start_time": "2022-04-30T06:43:05.164354",
     "status": "completed"
    },
    "tags": []
   },
   "outputs": [],
   "source": [
    "from torch.utils.data import DataLoader\n",
    "import warnings,transformers,logging,torch\n",
    "from transformers import TrainingArguments,Trainer\n",
    "from transformers import AutoModelForSequenceClassification,AutoTokenizer"
   ]
  },
  {
   "cell_type": "code",
   "execution_count": 14,
   "id": "557e6ecc",
   "metadata": {
    "execution": {
     "iopub.execute_input": "2022-04-30T06:43:11.921634Z",
     "iopub.status.busy": "2022-04-30T06:43:11.919802Z",
     "iopub.status.idle": "2022-04-30T06:43:21.149465Z",
     "shell.execute_reply": "2022-04-30T06:43:21.148592Z",
     "shell.execute_reply.started": "2022-04-22T06:20:28.038781Z"
    },
    "hidden": true,
    "papermill": {
     "duration": 9.312757,
     "end_time": "2022-04-30T06:43:21.149643",
     "exception": false,
     "start_time": "2022-04-30T06:43:11.836886",
     "status": "completed"
    },
    "tags": []
   },
   "outputs": [
    {
     "name": "stdout",
     "output_type": "stream",
     "text": [
      "\u001b[33mWARNING: Running pip as the 'root' user can result in broken permissions and conflicting behaviour with the system package manager. It is recommended to use a virtual environment instead: https://pip.pypa.io/warnings/venv\u001b[0m\r\n"
     ]
    }
   ],
   "source": [
    "if iskaggle:\n",
    "    !pip install -q datasets\n",
    "import datasets\n",
    "from datasets import load_dataset, Dataset, DatasetDict"
   ]
  },
  {
   "cell_type": "markdown",
   "id": "93fbbb62",
   "metadata": {
    "hidden": true,
    "papermill": {
     "duration": 0.089018,
     "end_time": "2022-04-30T06:43:21.328434",
     "exception": false,
     "start_time": "2022-04-30T06:43:21.239416",
     "status": "completed"
    },
    "tags": []
   },
   "source": [
    "HuggingFace Transformers tends to be rather enthusiastic about spitting out lots of warnings, so let's quieten it down for our sanity:"
   ]
  },
  {
   "cell_type": "code",
   "execution_count": 15,
   "id": "0f972d27",
   "metadata": {
    "execution": {
     "iopub.execute_input": "2022-04-30T06:43:21.510150Z",
     "iopub.status.busy": "2022-04-30T06:43:21.507814Z",
     "iopub.status.idle": "2022-04-30T06:43:21.512574Z",
     "shell.execute_reply": "2022-04-30T06:43:21.512168Z",
     "shell.execute_reply.started": "2022-04-22T06:20:36.980831Z"
    },
    "hidden": true,
    "papermill": {
     "duration": 0.095295,
     "end_time": "2022-04-30T06:43:21.512689",
     "exception": false,
     "start_time": "2022-04-30T06:43:21.417394",
     "status": "completed"
    },
    "tags": []
   },
   "outputs": [],
   "source": [
    "warnings.simplefilter('ignore')\n",
    "logging.disable(logging.WARNING)"
   ]
  },
  {
   "cell_type": "markdown",
   "id": "5a3cbef6",
   "metadata": {
    "hidden": true,
    "papermill": {
     "duration": 0.079564,
     "end_time": "2022-04-30T06:43:21.671749",
     "exception": false,
     "start_time": "2022-04-30T06:43:21.592185",
     "status": "completed"
    },
    "tags": []
   },
   "source": [
    "I tried to find a model that I could train reasonably at home in under two minutes, but got reasonable accuracy from. I found that deberta-v3-small fits the bill, so let's use it:"
   ]
  },
  {
   "cell_type": "code",
   "execution_count": 16,
   "id": "a07c18ff",
   "metadata": {
    "execution": {
     "iopub.execute_input": "2022-04-30T06:43:21.836510Z",
     "iopub.status.busy": "2022-04-30T06:43:21.835678Z",
     "iopub.status.idle": "2022-04-30T06:43:21.838077Z",
     "shell.execute_reply": "2022-04-30T06:43:21.837643Z",
     "shell.execute_reply.started": "2022-04-22T06:20:36.993986Z"
    },
    "hidden": true,
    "papermill": {
     "duration": 0.085843,
     "end_time": "2022-04-30T06:43:21.838197",
     "exception": false,
     "start_time": "2022-04-30T06:43:21.752354",
     "status": "completed"
    },
    "tags": []
   },
   "outputs": [],
   "source": [
    "model_name = 'microsoft/deberta-v3-small'\n",
    "# model_name = 'anferico/bert-for-patents'\n",
    "# model_name = 'AI-Growth-Lab/PatentSBERTa'"
   ]
  },
  {
   "cell_type": "markdown",
   "id": "47f73e59",
   "metadata": {
    "hidden": true,
    "papermill": {
     "duration": 0.079853,
     "end_time": "2022-04-30T06:43:21.998504",
     "exception": false,
     "start_time": "2022-04-30T06:43:21.918651",
     "status": "completed"
    },
    "tags": []
   },
   "source": [
    "We can now create a tokenizer for this model. Note that pretrained models assume that text is tokenized in a particular way. In order to ensure that your tokenizer matches your model, use the `AutoTokenizer`, passing in your model name."
   ]
  },
  {
   "cell_type": "code",
   "execution_count": 17,
   "id": "3de692bb",
   "metadata": {
    "execution": {
     "iopub.execute_input": "2022-04-30T06:43:22.164187Z",
     "iopub.status.busy": "2022-04-30T06:43:22.163307Z",
     "iopub.status.idle": "2022-04-30T06:43:29.023197Z",
     "shell.execute_reply": "2022-04-30T06:43:29.022241Z",
     "shell.execute_reply.started": "2022-04-22T06:20:37.004722Z"
    },
    "hidden": true,
    "papermill": {
     "duration": 6.944579,
     "end_time": "2022-04-30T06:43:29.023345",
     "exception": false,
     "start_time": "2022-04-30T06:43:22.078766",
     "status": "completed"
    },
    "tags": []
   },
   "outputs": [
    {
     "data": {
      "application/vnd.jupyter.widget-view+json": {
       "model_id": "e13e2e1491494564b791a21fb2cdd402",
       "version_major": 2,
       "version_minor": 0
      },
      "text/plain": [
       "Downloading:   0%|          | 0.00/52.0 [00:00<?, ?B/s]"
      ]
     },
     "metadata": {},
     "output_type": "display_data"
    },
    {
     "data": {
      "application/vnd.jupyter.widget-view+json": {
       "model_id": "42c861f6477648ffb8c3fa9139fbb40f",
       "version_major": 2,
       "version_minor": 0
      },
      "text/plain": [
       "Downloading:   0%|          | 0.00/578 [00:00<?, ?B/s]"
      ]
     },
     "metadata": {},
     "output_type": "display_data"
    },
    {
     "data": {
      "application/vnd.jupyter.widget-view+json": {
       "model_id": "0ec4684adda24e6b9d7cafab4165dd77",
       "version_major": 2,
       "version_minor": 0
      },
      "text/plain": [
       "Downloading:   0%|          | 0.00/2.35M [00:00<?, ?B/s]"
      ]
     },
     "metadata": {},
     "output_type": "display_data"
    }
   ],
   "source": [
    "tokenz = AutoTokenizer.from_pretrained(model_name)"
   ]
  },
  {
   "cell_type": "markdown",
   "id": "9cff1ec8",
   "metadata": {
    "hidden": true,
    "papermill": {
     "duration": 0.081485,
     "end_time": "2022-04-30T06:43:29.186453",
     "exception": false,
     "start_time": "2022-04-30T06:43:29.104968",
     "status": "completed"
    },
    "tags": []
   },
   "source": [
    "We'll need to combine the context, anchor, and target together somehow. There's not much research as to the best way to do this, so we may need to iterate a bit. To start with, we'll just combine them all into a single string. The model will need to know where each section starts, so we can use the special separator token to tell it:"
   ]
  },
  {
   "cell_type": "code",
   "execution_count": 18,
   "id": "7beaf8fb",
   "metadata": {
    "execution": {
     "iopub.execute_input": "2022-04-30T06:43:29.354868Z",
     "iopub.status.busy": "2022-04-30T06:43:29.354135Z",
     "iopub.status.idle": "2022-04-30T06:43:29.357079Z",
     "shell.execute_reply": "2022-04-30T06:43:29.357488Z",
     "shell.execute_reply.started": "2022-04-22T06:20:41.922512Z"
    },
    "hidden": true,
    "papermill": {
     "duration": 0.088981,
     "end_time": "2022-04-30T06:43:29.357616",
     "exception": false,
     "start_time": "2022-04-30T06:43:29.268635",
     "status": "completed"
    },
    "tags": []
   },
   "outputs": [
    {
     "data": {
      "text/plain": [
       "'[SEP]'"
      ]
     },
     "execution_count": 18,
     "metadata": {},
     "output_type": "execute_result"
    }
   ],
   "source": [
    "sep = tokenz.sep_token\n",
    "sep"
   ]
  },
  {
   "cell_type": "markdown",
   "id": "84830ad8",
   "metadata": {
    "hidden": true,
    "papermill": {
     "duration": 0.081639,
     "end_time": "2022-04-30T06:43:29.521832",
     "exception": false,
     "start_time": "2022-04-30T06:43:29.440193",
     "status": "completed"
    },
    "tags": []
   },
   "source": [
    "Let's now created our combined column:"
   ]
  },
  {
   "cell_type": "code",
   "execution_count": 19,
   "id": "f780b687",
   "metadata": {
    "execution": {
     "iopub.execute_input": "2022-04-30T06:43:29.704700Z",
     "iopub.status.busy": "2022-04-30T06:43:29.703815Z",
     "iopub.status.idle": "2022-04-30T06:43:29.721545Z",
     "shell.execute_reply": "2022-04-30T06:43:29.721032Z",
     "shell.execute_reply.started": "2022-04-22T06:20:41.934983Z"
    },
    "hidden": true,
    "papermill": {
     "duration": 0.108331,
     "end_time": "2022-04-30T06:43:29.721683",
     "exception": false,
     "start_time": "2022-04-30T06:43:29.613352",
     "status": "completed"
    },
    "tags": []
   },
   "outputs": [],
   "source": [
    "train_df['inputs'] = train_df.context + sep + train_df.anchor + sep + train_df.target"
   ]
  },
  {
   "cell_type": "markdown",
   "id": "3b5ba11d",
   "metadata": {
    "hidden": true,
    "papermill": {
     "duration": 0.08305,
     "end_time": "2022-04-30T06:43:29.889172",
     "exception": false,
     "start_time": "2022-04-30T06:43:29.806122",
     "status": "completed"
    },
    "tags": []
   },
   "source": [
    "Generally we'll get best performance if we convert pandas DataFrames into HuggingFace Datasets, so we'll convert them over, and also rename the score column to what Transformers expects for the dependent variable, which is `label`:"
   ]
  },
  {
   "cell_type": "code",
   "execution_count": 20,
   "id": "0c532d96",
   "metadata": {
    "execution": {
     "iopub.execute_input": "2022-04-30T06:43:30.060093Z",
     "iopub.status.busy": "2022-04-30T06:43:30.059503Z",
     "iopub.status.idle": "2022-04-30T06:43:30.100282Z",
     "shell.execute_reply": "2022-04-30T06:43:30.099763Z",
     "shell.execute_reply.started": "2022-04-22T06:20:41.962235Z"
    },
    "hidden": true,
    "papermill": {
     "duration": 0.127141,
     "end_time": "2022-04-30T06:43:30.100410",
     "exception": false,
     "start_time": "2022-04-30T06:43:29.973269",
     "status": "completed"
    },
    "tags": []
   },
   "outputs": [],
   "source": [
    "train_ds = Dataset.from_pandas(train_df).rename_column('score', 'label')\n",
    "test_ds = Dataset.from_pandas(test_df)"
   ]
  },
  {
   "cell_type": "markdown",
   "id": "204a1fad",
   "metadata": {
    "hidden": true,
    "papermill": {
     "duration": 0.082295,
     "end_time": "2022-04-30T06:43:30.265048",
     "exception": false,
     "start_time": "2022-04-30T06:43:30.182753",
     "status": "completed"
    },
    "tags": []
   },
   "source": [
    "To tokenize the data, we'll create a function (since that's what `Dataset.map` will need):"
   ]
  },
  {
   "cell_type": "code",
   "execution_count": 21,
   "id": "dfa162ce",
   "metadata": {
    "execution": {
     "iopub.execute_input": "2022-04-30T06:43:30.434204Z",
     "iopub.status.busy": "2022-04-30T06:43:30.433322Z",
     "iopub.status.idle": "2022-04-30T06:43:30.435071Z",
     "shell.execute_reply": "2022-04-30T06:43:30.435562Z",
     "shell.execute_reply.started": "2022-04-22T06:20:42.001037Z"
    },
    "hidden": true,
    "papermill": {
     "duration": 0.088123,
     "end_time": "2022-04-30T06:43:30.435693",
     "exception": false,
     "start_time": "2022-04-30T06:43:30.347570",
     "status": "completed"
    },
    "tags": []
   },
   "outputs": [],
   "source": [
    "def token_func(x): return tokenz(x[\"inputs\"])"
   ]
  },
  {
   "cell_type": "markdown",
   "id": "62210bcd",
   "metadata": {
    "hidden": true,
    "papermill": {
     "duration": 0.081855,
     "end_time": "2022-04-30T06:43:30.598927",
     "exception": false,
     "start_time": "2022-04-30T06:43:30.517072",
     "status": "completed"
    },
    "tags": []
   },
   "source": [
    "Let's try tokenizing one input and see how it looks"
   ]
  },
  {
   "cell_type": "code",
   "execution_count": 22,
   "id": "8a650f33",
   "metadata": {
    "execution": {
     "iopub.execute_input": "2022-04-30T06:43:30.769895Z",
     "iopub.status.busy": "2022-04-30T06:43:30.767698Z",
     "iopub.status.idle": "2022-04-30T06:43:30.773093Z",
     "shell.execute_reply": "2022-04-30T06:43:30.772650Z",
     "shell.execute_reply.started": "2022-04-22T06:20:42.00764Z"
    },
    "hidden": true,
    "papermill": {
     "duration": 0.092621,
     "end_time": "2022-04-30T06:43:30.773213",
     "exception": false,
     "start_time": "2022-04-30T06:43:30.680592",
     "status": "completed"
    },
    "tags": []
   },
   "outputs": [
    {
     "data": {
      "text/plain": [
       "{'input_ids': [1, 336, 5753, 2, 47284, 2, 47284, 265, 6435, 2], 'token_type_ids': [0, 0, 0, 0, 0, 0, 0, 0, 0, 0], 'attention_mask': [1, 1, 1, 1, 1, 1, 1, 1, 1, 1]}"
      ]
     },
     "execution_count": 22,
     "metadata": {},
     "output_type": "execute_result"
    }
   ],
   "source": [
    "token_func(train_ds[0])"
   ]
  },
  {
   "cell_type": "markdown",
   "id": "9ff9099e",
   "metadata": {
    "hidden": true,
    "papermill": {
     "duration": 0.081856,
     "end_time": "2022-04-30T06:43:30.936666",
     "exception": false,
     "start_time": "2022-04-30T06:43:30.854810",
     "status": "completed"
    },
    "tags": []
   },
   "source": [
    "The only bit we care about at the moment is `input_ids`. We can see in the tokens that it starts with a special token `1` (which represents the start of text), and then has our three fields separated by the separator token `2`. We can check the indices of the special token IDs like so:"
   ]
  },
  {
   "cell_type": "code",
   "execution_count": 23,
   "id": "48f6515a",
   "metadata": {
    "execution": {
     "iopub.execute_input": "2022-04-30T06:43:31.105735Z",
     "iopub.status.busy": "2022-04-30T06:43:31.105096Z",
     "iopub.status.idle": "2022-04-30T06:43:31.107783Z",
     "shell.execute_reply": "2022-04-30T06:43:31.108197Z",
     "shell.execute_reply.started": "2022-04-22T06:20:42.026918Z"
    },
    "hidden": true,
    "papermill": {
     "duration": 0.089297,
     "end_time": "2022-04-30T06:43:31.108327",
     "exception": false,
     "start_time": "2022-04-30T06:43:31.019030",
     "status": "completed"
    },
    "tags": []
   },
   "outputs": [
    {
     "data": {
      "text/plain": [
       "['[CLS]', '[SEP]', '[UNK]', '[PAD]', '[MASK]']"
      ]
     },
     "execution_count": 23,
     "metadata": {},
     "output_type": "execute_result"
    }
   ],
   "source": [
    "tokenz.all_special_tokens"
   ]
  },
  {
   "cell_type": "markdown",
   "id": "99afc9c2",
   "metadata": {
    "hidden": true,
    "papermill": {
     "duration": 0.081844,
     "end_time": "2022-04-30T06:43:31.271517",
     "exception": false,
     "start_time": "2022-04-30T06:43:31.189673",
     "status": "completed"
    },
    "tags": []
   },
   "source": [
    "We can now tokenize the input. We'll use batching to speed it up, and remove the columns we no longer need:"
   ]
  },
  {
   "cell_type": "code",
   "execution_count": 24,
   "id": "770b5e9c",
   "metadata": {
    "execution": {
     "iopub.execute_input": "2022-04-30T06:43:31.665607Z",
     "iopub.status.busy": "2022-04-30T06:43:31.655602Z",
     "iopub.status.idle": "2022-04-30T06:43:38.255048Z",
     "shell.execute_reply": "2022-04-30T06:43:38.254605Z",
     "shell.execute_reply.started": "2022-04-22T06:20:42.038115Z"
    },
    "hidden": true,
    "papermill": {
     "duration": 6.901422,
     "end_time": "2022-04-30T06:43:38.255181",
     "exception": false,
     "start_time": "2022-04-30T06:43:31.353759",
     "status": "completed"
    },
    "tags": []
   },
   "outputs": [
    {
     "data": {
      "application/vnd.jupyter.widget-view+json": {
       "model_id": "3a34cd6db65c4d3db5a4e44f4867aac7",
       "version_major": 2,
       "version_minor": 0
      },
      "text/plain": [
       "  0%|          | 0/37 [00:00<?, ?ba/s]"
      ]
     },
     "metadata": {},
     "output_type": "display_data"
    }
   ],
   "source": [
    "inps = \"anchor\",\"target\",\"context\"\n",
    "token_ds = train_ds.map(token_func, \n",
    "                        batched = True, \n",
    "                        remove_columns = inps + ('inputs','id','section'))"
   ]
  },
  {
   "cell_type": "markdown",
   "id": "b6c290a8",
   "metadata": {
    "hidden": true,
    "papermill": {
     "duration": 0.082841,
     "end_time": "2022-04-30T06:43:38.421567",
     "exception": false,
     "start_time": "2022-04-30T06:43:38.338726",
     "status": "completed"
    },
    "tags": []
   },
   "source": [
    "Looking at the first item of the dataset we should see the same information as when we checked `token_func` above:"
   ]
  },
  {
   "cell_type": "code",
   "execution_count": 25,
   "id": "c3144484",
   "metadata": {
    "execution": {
     "iopub.execute_input": "2022-04-30T06:43:38.589041Z",
     "iopub.status.busy": "2022-04-30T06:43:38.588239Z",
     "iopub.status.idle": "2022-04-30T06:43:38.594459Z",
     "shell.execute_reply": "2022-04-30T06:43:38.594865Z",
     "shell.execute_reply.started": "2022-04-22T06:20:44.500178Z"
    },
    "hidden": true,
    "papermill": {
     "duration": 0.091556,
     "end_time": "2022-04-30T06:43:38.595022",
     "exception": false,
     "start_time": "2022-04-30T06:43:38.503466",
     "status": "completed"
    },
    "tags": []
   },
   "outputs": [
    {
     "data": {
      "text/plain": [
       "{'label': 0.5,\n",
       " 'input_ids': [1, 336, 5753, 2, 47284, 2, 47284, 265, 6435, 2],\n",
       " 'token_type_ids': [0, 0, 0, 0, 0, 0, 0, 0, 0, 0],\n",
       " 'attention_mask': [1, 1, 1, 1, 1, 1, 1, 1, 1, 1]}"
      ]
     },
     "execution_count": 25,
     "metadata": {},
     "output_type": "execute_result"
    }
   ],
   "source": [
    "token_ds[0]"
   ]
  },
  {
   "cell_type": "markdown",
   "id": "586e8a37",
   "metadata": {
    "heading_collapsed": true,
    "papermill": {
     "duration": 0.08241,
     "end_time": "2022-04-30T06:43:38.759892",
     "exception": false,
     "start_time": "2022-04-30T06:43:38.677482",
     "status": "completed"
    },
    "tags": []
   },
   "source": [
    "## Creating a validation set"
   ]
  },
  {
   "cell_type": "markdown",
   "id": "cfcd3612",
   "metadata": {
    "hidden": true,
    "papermill": {
     "duration": 0.083291,
     "end_time": "2022-04-30T06:43:38.927239",
     "exception": false,
     "start_time": "2022-04-30T06:43:38.843948",
     "status": "completed"
    },
    "tags": []
   },
   "source": [
    "According to [this post](https://www.kaggle.com/competitions/us-patent-phrase-to-phrase-matching/discussion/315220), the private test anchors do not overlap with the training set. So let's do the same thing for our validation set.\n",
    "\n",
    "First, create a randomly shuffled list of anchors:"
   ]
  },
  {
   "cell_type": "code",
   "execution_count": 26,
   "id": "1c84dfa6",
   "metadata": {
    "execution": {
     "iopub.execute_input": "2022-04-30T06:43:39.101891Z",
     "iopub.status.busy": "2022-04-30T06:43:39.101075Z",
     "iopub.status.idle": "2022-04-30T06:43:39.106763Z",
     "shell.execute_reply": "2022-04-30T06:43:39.106372Z",
     "shell.execute_reply.started": "2022-04-22T06:20:44.517031Z"
    },
    "hidden": true,
    "papermill": {
     "duration": 0.096898,
     "end_time": "2022-04-30T06:43:39.106877",
     "exception": false,
     "start_time": "2022-04-30T06:43:39.009979",
     "status": "completed"
    },
    "tags": []
   },
   "outputs": [
    {
     "data": {
      "text/plain": [
       "array(['time digital signal', 'antiatherosclerotic', 'filled interior',\n",
       "       'dispersed powder', 'locking formation'], dtype=object)"
      ]
     },
     "execution_count": 26,
     "metadata": {},
     "output_type": "execute_result"
    }
   ],
   "source": [
    "anchors = train_df.anchor.unique()\n",
    "np.random.seed(42)\n",
    "np.random.shuffle(anchors)\n",
    "anchors[:5]"
   ]
  },
  {
   "cell_type": "markdown",
   "id": "2459b169",
   "metadata": {
    "hidden": true,
    "papermill": {
     "duration": 0.083184,
     "end_time": "2022-04-30T06:43:39.273157",
     "exception": false,
     "start_time": "2022-04-30T06:43:39.189973",
     "status": "completed"
    },
    "tags": []
   },
   "source": [
    "Now we can pick some proportion (e.g 25%) of these anchors to go in the validation set:"
   ]
  },
  {
   "cell_type": "code",
   "execution_count": 27,
   "id": "75872e4e",
   "metadata": {
    "execution": {
     "iopub.execute_input": "2022-04-30T06:43:39.446353Z",
     "iopub.status.busy": "2022-04-30T06:43:39.445541Z",
     "iopub.status.idle": "2022-04-30T06:43:39.447443Z",
     "shell.execute_reply": "2022-04-30T06:43:39.447844Z",
     "shell.execute_reply.started": "2022-04-22T06:20:44.540085Z"
    },
    "hidden": true,
    "papermill": {
     "duration": 0.091473,
     "end_time": "2022-04-30T06:43:39.447989",
     "exception": false,
     "start_time": "2022-04-30T06:43:39.356516",
     "status": "completed"
    },
    "tags": []
   },
   "outputs": [],
   "source": [
    "val_prop = 0.25\n",
    "val_sz = int(len(anchors) * val_prop)\n",
    "val_anchors = anchors[:val_sz]"
   ]
  },
  {
   "cell_type": "markdown",
   "id": "e3e5c67e",
   "metadata": {
    "hidden": true,
    "papermill": {
     "duration": 0.086547,
     "end_time": "2022-04-30T06:43:39.623929",
     "exception": false,
     "start_time": "2022-04-30T06:43:39.537382",
     "status": "completed"
    },
    "tags": []
   },
   "source": [
    "Now we can get a list of which rows match `val_anchors`, and get their indices:"
   ]
  },
  {
   "cell_type": "code",
   "execution_count": 28,
   "id": "13ba50e4",
   "metadata": {
    "execution": {
     "iopub.execute_input": "2022-04-30T06:43:39.994729Z",
     "iopub.status.busy": "2022-04-30T06:43:39.993823Z",
     "iopub.status.idle": "2022-04-30T06:43:39.999976Z",
     "shell.execute_reply": "2022-04-30T06:43:39.999545Z",
     "shell.execute_reply.started": "2022-04-22T06:20:44.556865Z"
    },
    "hidden": true,
    "papermill": {
     "duration": 0.292622,
     "end_time": "2022-04-30T06:43:40.000112",
     "exception": false,
     "start_time": "2022-04-30T06:43:39.707490",
     "status": "completed"
    },
    "tags": []
   },
   "outputs": [
    {
     "data": {
      "text/plain": [
       "(9116, 27357)"
      ]
     },
     "execution_count": 28,
     "metadata": {},
     "output_type": "execute_result"
    }
   ],
   "source": [
    "is_val = np.isin(train_df.anchor, val_anchors)\n",
    "idxs = np.arange(len(train_df))\n",
    "val_idxs = idxs[ is_val]\n",
    "trn_idxs = idxs[~is_val]\n",
    "len(val_idxs),len(trn_idxs)"
   ]
  },
  {
   "cell_type": "markdown",
   "id": "fd4f624b",
   "metadata": {
    "hidden": true,
    "papermill": {
     "duration": 0.084695,
     "end_time": "2022-04-30T06:43:40.170097",
     "exception": false,
     "start_time": "2022-04-30T06:43:40.085402",
     "status": "completed"
    },
    "tags": []
   },
   "source": [
    "Our training and validation `Dataset`s can now be selected, and put into a `DatasetDict` ready for training:"
   ]
  },
  {
   "cell_type": "code",
   "execution_count": 29,
   "id": "fbec8a73",
   "metadata": {
    "execution": {
     "iopub.execute_input": "2022-04-30T06:43:40.344349Z",
     "iopub.status.busy": "2022-04-30T06:43:40.343587Z",
     "iopub.status.idle": "2022-04-30T06:43:40.360378Z",
     "shell.execute_reply": "2022-04-30T06:43:40.359942Z",
     "shell.execute_reply.started": "2022-04-22T06:20:44.829984Z"
    },
    "hidden": true,
    "papermill": {
     "duration": 0.105376,
     "end_time": "2022-04-30T06:43:40.360500",
     "exception": false,
     "start_time": "2022-04-30T06:43:40.255124",
     "status": "completed"
    },
    "tags": []
   },
   "outputs": [],
   "source": [
    "dds = DatasetDict({\"train\": token_ds.select(trn_idxs),\n",
    "                   \"test\": token_ds.select(val_idxs)})"
   ]
  },
  {
   "cell_type": "markdown",
   "id": "71aca1d4",
   "metadata": {
    "hidden": true,
    "papermill": {
     "duration": 0.083263,
     "end_time": "2022-04-30T06:43:40.528034",
     "exception": false,
     "start_time": "2022-04-30T06:43:40.444771",
     "status": "completed"
    },
    "tags": []
   },
   "source": [
    "BTW, a lot of people do more complex stuff for creating their validation set, but with a dataset this large there's not much point. As you can see, the mean scores in the two groups are very similar despite just doing a random shuffle:"
   ]
  },
  {
   "cell_type": "code",
   "execution_count": 30,
   "id": "cdf77cb4",
   "metadata": {
    "execution": {
     "iopub.execute_input": "2022-04-30T06:43:40.703156Z",
     "iopub.status.busy": "2022-04-30T06:43:40.702228Z",
     "iopub.status.idle": "2022-04-30T06:43:40.712739Z",
     "shell.execute_reply": "2022-04-30T06:43:40.712292Z",
     "shell.execute_reply.started": "2022-04-22T06:20:44.853388Z"
    },
    "hidden": true,
    "papermill": {
     "duration": 0.101341,
     "end_time": "2022-04-30T06:43:40.712859",
     "exception": false,
     "start_time": "2022-04-30T06:43:40.611518",
     "status": "completed"
    },
    "tags": []
   },
   "outputs": [
    {
     "data": {
      "text/plain": [
       "(0.3623021530138539, 0.3613426941641071)"
      ]
     },
     "execution_count": 30,
     "metadata": {},
     "output_type": "execute_result"
    }
   ],
   "source": [
    "train_df.iloc[trn_idxs].score.mean(), train_df.iloc[val_idxs].score.mean()"
   ]
  },
  {
   "cell_type": "markdown",
   "id": "b8ac3e53",
   "metadata": {
    "heading_collapsed": true,
    "papermill": {
     "duration": 0.083689,
     "end_time": "2022-04-30T06:43:40.880674",
     "exception": false,
     "start_time": "2022-04-30T06:43:40.796985",
     "status": "completed"
    },
    "tags": []
   },
   "source": [
    "## Initial model"
   ]
  },
  {
   "cell_type": "markdown",
   "id": "82b32ce5",
   "metadata": {
    "hidden": true,
    "papermill": {
     "duration": 0.084527,
     "end_time": "2022-04-30T06:43:41.049112",
     "exception": false,
     "start_time": "2022-04-30T06:43:40.964585",
     "status": "completed"
    },
    "tags": []
   },
   "source": [
    "Let's now train our model! We'll need to specify a metric, which is the correlation coefficient provided by numpy (we need to return a dictionary since that's how Transformers knows what label to use):"
   ]
  },
  {
   "cell_type": "code",
   "execution_count": 31,
   "id": "4fe82f33",
   "metadata": {
    "execution": {
     "iopub.execute_input": "2022-04-30T06:43:41.222670Z",
     "iopub.status.busy": "2022-04-30T06:43:41.221785Z",
     "iopub.status.idle": "2022-04-30T06:43:41.224271Z",
     "shell.execute_reply": "2022-04-30T06:43:41.223821Z",
     "shell.execute_reply.started": "2022-04-22T06:20:44.873865Z"
    },
    "hidden": true,
    "papermill": {
     "duration": 0.091052,
     "end_time": "2022-04-30T06:43:41.224395",
     "exception": false,
     "start_time": "2022-04-30T06:43:41.133343",
     "status": "completed"
    },
    "tags": []
   },
   "outputs": [],
   "source": [
    "def corr(eval_pred): return {'pearson': np.corrcoef(*eval_pred)[0][1]}"
   ]
  },
  {
   "cell_type": "markdown",
   "id": "716df2b1",
   "metadata": {
    "hidden": true,
    "papermill": {
     "duration": 0.083799,
     "end_time": "2022-04-30T06:43:41.392787",
     "exception": false,
     "start_time": "2022-04-30T06:43:41.308988",
     "status": "completed"
    },
    "tags": []
   },
   "source": [
    "We pick a learning rate and batch size that fits our GPU, and pick a reasonable weight decay and small number of epochs:"
   ]
  },
  {
   "cell_type": "code",
   "execution_count": 32,
   "id": "984f7179",
   "metadata": {
    "execution": {
     "iopub.execute_input": "2022-04-30T06:43:41.569877Z",
     "iopub.status.busy": "2022-04-30T06:43:41.569021Z",
     "iopub.status.idle": "2022-04-30T06:43:41.571428Z",
     "shell.execute_reply": "2022-04-30T06:43:41.571007Z",
     "shell.execute_reply.started": "2022-04-22T06:20:44.879661Z"
    },
    "hidden": true,
    "papermill": {
     "duration": 0.092209,
     "end_time": "2022-04-30T06:43:41.571547",
     "exception": false,
     "start_time": "2022-04-30T06:43:41.479338",
     "status": "completed"
    },
    "tags": []
   },
   "outputs": [],
   "source": [
    "learning_rate = 8e-5\n",
    "batch_size = 128\n",
    "weight_decay = 0.01\n",
    "epochs = 4"
   ]
  },
  {
   "cell_type": "markdown",
   "id": "e586855a",
   "metadata": {
    "hidden": true,
    "papermill": {
     "duration": 0.083868,
     "end_time": "2022-04-30T06:43:41.740999",
     "exception": false,
     "start_time": "2022-04-30T06:43:41.657131",
     "status": "completed"
    },
    "tags": []
   },
   "source": [
    "Three epochs might not sound like much, but you'll see once we train that most of the progress can be made in that time, so this is good for experimentation.\n",
    "\n",
    "Transformers uses the `TrainingArguments` class to set up arguments. We'll use a cosine scheduler with warmup, since at fast.ai we've found that's pretty reliable. We'll use fp16 since it's much faster on modern GPUs, and saves some memory. We evaluate using double-sized batches, since no gradients are stored so we can do twice as many rows at a time."
   ]
  },
  {
   "cell_type": "code",
   "execution_count": 33,
   "id": "6d651904",
   "metadata": {
    "execution": {
     "iopub.execute_input": "2022-04-30T06:43:41.918821Z",
     "iopub.status.busy": "2022-04-30T06:43:41.917857Z",
     "iopub.status.idle": "2022-04-30T06:43:41.979954Z",
     "shell.execute_reply": "2022-04-30T06:43:41.979472Z",
     "shell.execute_reply.started": "2022-04-22T06:20:44.888573Z"
    },
    "hidden": true,
    "papermill": {
     "duration": 0.154257,
     "end_time": "2022-04-30T06:43:41.980083",
     "exception": false,
     "start_time": "2022-04-30T06:43:41.825826",
     "status": "completed"
    },
    "tags": []
   },
   "outputs": [],
   "source": [
    "args = TrainingArguments('outputs', \n",
    "                         learning_rate = learning_rate, \n",
    "                         warmup_ratio = 0.1, \n",
    "                         lr_scheduler_type = 'cosine', \n",
    "                         fp16 = True,\n",
    "                         evaluation_strategy = \"epoch\", \n",
    "                         per_device_train_batch_size = batch_size, \n",
    "                         per_device_eval_batch_size = batch_size * 2,\n",
    "                         num_train_epochs = epochs, \n",
    "                         weight_decay = weight_decay, \n",
    "                         report_to = 'none')\n",
    "\n",
    "def get_model(model_name = model_name, num_labels = 1):\n",
    "    return AutoModelForSequenceClassification.from_pretrained(model_name, num_labels = num_labels)\n",
    "\n",
    "def get_trainer(dds, model=None):\n",
    "    if model is None: model = get_model()\n",
    "    return Trainer(model, \n",
    "                   args, \n",
    "                   train_dataset = dds['train'], \n",
    "                   eval_dataset = dds['test'],\n",
    "                   tokenizer = tokenz, \n",
    "                   compute_metrics = corr)"
   ]
  },
  {
   "cell_type": "markdown",
   "id": "7396e9f7",
   "metadata": {
    "hidden": true,
    "papermill": {
     "duration": 0.084215,
     "end_time": "2022-04-30T06:43:42.149796",
     "exception": false,
     "start_time": "2022-04-30T06:43:42.065581",
     "status": "completed"
    },
    "tags": []
   },
   "source": [
    "We can now create our model, and `Trainer`, which is a class which combines the data and model together (just like `Learner` in fastai):"
   ]
  },
  {
   "cell_type": "code",
   "execution_count": 34,
   "id": "8c0c32d3",
   "metadata": {
    "execution": {
     "iopub.execute_input": "2022-04-30T06:43:42.327208Z",
     "iopub.status.busy": "2022-04-30T06:43:42.323588Z",
     "iopub.status.idle": "2022-04-30T06:44:00.202409Z",
     "shell.execute_reply": "2022-04-30T06:44:00.202899Z",
     "shell.execute_reply.started": "2022-04-22T06:20:44.953727Z"
    },
    "hidden": true,
    "papermill": {
     "duration": 17.968153,
     "end_time": "2022-04-30T06:44:00.203090",
     "exception": false,
     "start_time": "2022-04-30T06:43:42.234937",
     "status": "completed"
    },
    "tags": []
   },
   "outputs": [
    {
     "data": {
      "application/vnd.jupyter.widget-view+json": {
       "model_id": "6db8a86a21474a3f922cb9d380de8167",
       "version_major": 2,
       "version_minor": 0
      },
      "text/plain": [
       "Downloading:   0%|          | 0.00/273M [00:00<?, ?B/s]"
      ]
     },
     "metadata": {},
     "output_type": "display_data"
    }
   ],
   "source": [
    "model = get_model(model_name)\n",
    "\n",
    "trainer = Trainer(model, \n",
    "                  args, \n",
    "                  train_dataset = dds['train'], \n",
    "                  eval_dataset = dds['test'],\n",
    "                  tokenizer = tokenz, \n",
    "                  compute_metrics = corr)"
   ]
  },
  {
   "cell_type": "markdown",
   "id": "41bf0d06",
   "metadata": {
    "hidden": true,
    "papermill": {
     "duration": 0.087049,
     "end_time": "2022-04-30T06:44:00.378512",
     "exception": false,
     "start_time": "2022-04-30T06:44:00.291463",
     "status": "completed"
    },
    "tags": []
   },
   "source": [
    "Let's train our model!"
   ]
  },
  {
   "cell_type": "code",
   "execution_count": 35,
   "id": "ae01af8d",
   "metadata": {
    "execution": {
     "iopub.execute_input": "2022-04-30T06:44:00.553697Z",
     "iopub.status.busy": "2022-04-30T06:44:00.553017Z",
     "iopub.status.idle": "2022-04-30T06:48:22.636606Z",
     "shell.execute_reply": "2022-04-30T06:48:22.637119Z",
     "shell.execute_reply.started": "2022-04-22T06:21:25.741Z"
    },
    "hidden": true,
    "papermill": {
     "duration": 262.174808,
     "end_time": "2022-04-30T06:48:22.637307",
     "exception": false,
     "start_time": "2022-04-30T06:44:00.462499",
     "status": "completed"
    },
    "tags": []
   },
   "outputs": [
    {
     "data": {
      "text/html": [
       "\n",
       "    <div>\n",
       "      \n",
       "      <progress value='856' max='856' style='width:300px; height:20px; vertical-align: middle;'></progress>\n",
       "      [856/856 04:21, Epoch 4/4]\n",
       "    </div>\n",
       "    <table border=\"1\" class=\"dataframe\">\n",
       "  <thead>\n",
       " <tr style=\"text-align: left;\">\n",
       "      <th>Epoch</th>\n",
       "      <th>Training Loss</th>\n",
       "      <th>Validation Loss</th>\n",
       "      <th>Pearson</th>\n",
       "    </tr>\n",
       "  </thead>\n",
       "  <tbody>\n",
       "    <tr>\n",
       "      <td>1</td>\n",
       "      <td>No log</td>\n",
       "      <td>0.025282</td>\n",
       "      <td>0.794241</td>\n",
       "    </tr>\n",
       "    <tr>\n",
       "      <td>2</td>\n",
       "      <td>No log</td>\n",
       "      <td>0.024034</td>\n",
       "      <td>0.810726</td>\n",
       "    </tr>\n",
       "    <tr>\n",
       "      <td>3</td>\n",
       "      <td>0.043800</td>\n",
       "      <td>0.023913</td>\n",
       "      <td>0.815180</td>\n",
       "    </tr>\n",
       "    <tr>\n",
       "      <td>4</td>\n",
       "      <td>0.043800</td>\n",
       "      <td>0.024524</td>\n",
       "      <td>0.815052</td>\n",
       "    </tr>\n",
       "  </tbody>\n",
       "</table><p>"
      ],
      "text/plain": [
       "<IPython.core.display.HTML object>"
      ]
     },
     "metadata": {},
     "output_type": "display_data"
    }
   ],
   "source": [
    "trainer.train();"
   ]
  },
  {
   "cell_type": "markdown",
   "id": "747e2657",
   "metadata": {
    "papermill": {
     "duration": 0.085673,
     "end_time": "2022-04-30T06:48:22.811118",
     "exception": false,
     "start_time": "2022-04-30T06:48:22.725445",
     "status": "completed"
    },
    "tags": []
   },
   "source": [
    "## Improving the model"
   ]
  },
  {
   "cell_type": "markdown",
   "id": "0802199b",
   "metadata": {
    "papermill": {
     "duration": 0.085866,
     "end_time": "2022-04-30T06:48:22.983381",
     "exception": false,
     "start_time": "2022-04-30T06:48:22.897515",
     "status": "completed"
    },
    "tags": []
   },
   "source": [
    "We now want to start iterating to improve this. To do that, we need to know whether the model gives stable results. I tried training it 3 times from scratch, and got a range of outcomes from 0.808-0.810. This is stable enough to make a start - if we're not finding improvements that are visible within this range, then they're not very significant! Later on, if and when we feel confident that we've got the basics right, we can use cross validation and more epochs of training.\n",
    "\n",
    "Iteration speed is critical, so we need to quickly be able to try different data processing and trainer parameters. So let's create a function to quickly apply tokenization and create our `DatasetDict`:"
   ]
  },
  {
   "cell_type": "markdown",
   "id": "63cb9933",
   "metadata": {
    "papermill": {
     "duration": 0.085208,
     "end_time": "2022-04-30T06:48:23.154238",
     "exception": false,
     "start_time": "2022-04-30T06:48:23.069030",
     "status": "completed"
    },
    "tags": []
   },
   "source": [
    "#### Context Titles\n",
    "Updating train and test dataframe with context titles."
   ]
  },
  {
   "cell_type": "code",
   "execution_count": 36,
   "id": "cde64e47",
   "metadata": {
    "execution": {
     "iopub.execute_input": "2022-04-30T06:48:23.334378Z",
     "iopub.status.busy": "2022-04-30T06:48:23.333357Z",
     "iopub.status.idle": "2022-04-30T06:48:29.175073Z",
     "shell.execute_reply": "2022-04-30T06:48:29.174578Z",
     "shell.execute_reply.started": "2022-04-22T06:24:45.705527Z"
    },
    "papermill": {
     "duration": 5.935658,
     "end_time": "2022-04-30T06:48:29.175218",
     "exception": false,
     "start_time": "2022-04-30T06:48:23.239560",
     "status": "completed"
    },
    "tags": []
   },
   "outputs": [
    {
     "name": "stdout",
     "output_type": "stream",
     "text": [
      "--2022-04-30 06:48:23--  https://www.cooperativepatentclassification.org/sites/default/files/cpc/bulk/CPCSchemeXML202202.zip\r\n",
      "Resolving www.cooperativepatentclassification.org (www.cooperativepatentclassification.org)... 145.64.161.65\r\n",
      "Connecting to www.cooperativepatentclassification.org (www.cooperativepatentclassification.org)|145.64.161.65|:443... connected.\r\n",
      "HTTP request sent, awaiting response... 200 OK\r\n",
      "Length: 10097679 (9.6M) [application/zip]\r\n",
      "Saving to: ‘CPCSchemeXML202202.zip’\r\n",
      "\r\n",
      "CPCSchemeXML202202. 100%[===================>]   9.63M  8.04MB/s    in 1.2s    \r\n",
      "\r\n",
      "2022-04-30 06:48:25 (8.04 MB/s) - ‘CPCSchemeXML202202.zip’ saved [10097679/10097679]\r\n",
      "\r\n",
      "--2022-04-30 06:48:26--  https://www.cooperativepatentclassification.org/sites/default/files/cpc/bulk/CPCTitleList202202.zip\r\n",
      "Resolving www.cooperativepatentclassification.org (www.cooperativepatentclassification.org)... 145.64.161.65\r\n",
      "Connecting to www.cooperativepatentclassification.org (www.cooperativepatentclassification.org)|145.64.161.65|:443... connected.\r\n",
      "HTTP request sent, awaiting response... 200 OK\r\n",
      "Length: 4815683 (4.6M) [application/zip]\r\n",
      "Saving to: ‘CPCTitleList202202.zip’\r\n",
      "\r\n",
      "CPCTitleList202202. 100%[===================>]   4.59M  8.85MB/s    in 0.5s    \r\n",
      "\r\n",
      "2022-04-30 06:48:26 (8.85 MB/s) - ‘CPCTitleList202202.zip’ saved [4815683/4815683]\r\n",
      "\r\n"
     ]
    }
   ],
   "source": [
    "!wget https://www.cooperativepatentclassification.org/sites/default/files/cpc/bulk/CPCSchemeXML202202.zip\n",
    "!wget https://www.cooperativepatentclassification.org/sites/default/files/cpc/bulk/CPCTitleList202202.zip\n",
    "!unzip -q CPCSchemeXML202202.zip -d CPCSchemeXML202202\n",
    "!unzip -q CPCTitleList202202.zip -d CPCTitleList202202"
   ]
  },
  {
   "cell_type": "code",
   "execution_count": 37,
   "id": "1c5f4f25",
   "metadata": {
    "execution": {
     "iopub.execute_input": "2022-04-30T06:48:29.369492Z",
     "iopub.status.busy": "2022-04-30T06:48:29.368638Z",
     "iopub.status.idle": "2022-04-30T06:48:29.370521Z",
     "shell.execute_reply": "2022-04-30T06:48:29.370936Z",
     "shell.execute_reply.started": "2022-04-22T06:24:45.707312Z"
    },
    "papermill": {
     "duration": 0.103862,
     "end_time": "2022-04-30T06:48:29.371080",
     "exception": false,
     "start_time": "2022-04-30T06:48:29.267218",
     "status": "completed"
    },
    "tags": []
   },
   "outputs": [],
   "source": [
    "def get_cpc_titles():\n",
    "    contexts = []\n",
    "    pattern = \"[A-Z]\\d+\"\n",
    "    folder_name = \"CPCSchemeXML202202\"\n",
    "    if os.getcwd() == \"/kaggle/working\":\n",
    "        folder_name = f\"/kaggle/working/{folder_name}\"\n",
    "    for file_name in os.listdir(\"CPCSchemeXML202202\"):\n",
    "        result = re.findall(pattern, file_name)\n",
    "        if result:\n",
    "            contexts.append(result)\n",
    "    contexts = sorted(set(sum(contexts, [])))\n",
    "    results = {}\n",
    "    for cpc in ['A', 'B', 'C', 'D', 'E', 'F', 'G', 'H', 'Y']:\n",
    "        folder_name = \"CPCTitleList202202\"\n",
    "        if os.getcwd() == \"/kaggle/working\":\n",
    "            folder_name = f\"/kaggle/working/{folder_name}\"\n",
    "        with open(f\"{folder_name}/cpc-section-{cpc}_20220201.txt\") as f:\n",
    "            s = f.read()\n",
    "        pattern = f\"{cpc}\\t\\t.+\"\n",
    "        result = re.findall(pattern, s)\n",
    "        cpc_result = result[0].lstrip(pattern)\n",
    "        for context in [c for c in contexts if c[0] == cpc]:\n",
    "            pattern = f\"{context}\\t\\t.+\"\n",
    "            result = re.findall(pattern, s)\n",
    "            results[context] = cpc_result + \". \" + result[0].lstrip(pattern)\n",
    "    return results"
   ]
  },
  {
   "cell_type": "code",
   "execution_count": 38,
   "id": "eb356ad7",
   "metadata": {
    "execution": {
     "iopub.execute_input": "2022-04-30T06:48:29.566180Z",
     "iopub.status.busy": "2022-04-30T06:48:29.565346Z",
     "iopub.status.idle": "2022-04-30T06:48:29.935887Z",
     "shell.execute_reply": "2022-04-30T06:48:29.935390Z",
     "shell.execute_reply.started": "2022-04-22T06:24:45.709044Z"
    },
    "papermill": {
     "duration": 0.474608,
     "end_time": "2022-04-30T06:48:29.936044",
     "exception": false,
     "start_time": "2022-04-30T06:48:29.461436",
     "status": "completed"
    },
    "tags": []
   },
   "outputs": [],
   "source": [
    "cpc_titles = get_cpc_titles()\n",
    "\n",
    "with open('cpc_titles.json', 'w') as fp:\n",
    "    json.dump(cpc_titles, fp)"
   ]
  },
  {
   "cell_type": "code",
   "execution_count": 39,
   "id": "a3470e51",
   "metadata": {
    "execution": {
     "iopub.execute_input": "2022-04-30T06:48:30.143522Z",
     "iopub.status.busy": "2022-04-30T06:48:30.141577Z",
     "iopub.status.idle": "2022-04-30T06:48:30.151400Z",
     "shell.execute_reply": "2022-04-30T06:48:30.150987Z",
     "shell.execute_reply.started": "2022-04-22T06:24:45.711028Z"
    },
    "papermill": {
     "duration": 0.123094,
     "end_time": "2022-04-30T06:48:30.151534",
     "exception": false,
     "start_time": "2022-04-30T06:48:30.028440",
     "status": "completed"
    },
    "tags": []
   },
   "outputs": [
    {
     "data": {
      "text/html": [
       "<div>\n",
       "<style scoped>\n",
       "    .dataframe tbody tr th:only-of-type {\n",
       "        vertical-align: middle;\n",
       "    }\n",
       "\n",
       "    .dataframe tbody tr th {\n",
       "        vertical-align: top;\n",
       "    }\n",
       "\n",
       "    .dataframe thead th {\n",
       "        text-align: right;\n",
       "    }\n",
       "</style>\n",
       "<table border=\"1\" class=\"dataframe\">\n",
       "  <thead>\n",
       "    <tr style=\"text-align: right;\">\n",
       "      <th></th>\n",
       "      <th>id</th>\n",
       "      <th>anchor</th>\n",
       "      <th>target</th>\n",
       "      <th>context</th>\n",
       "      <th>score</th>\n",
       "      <th>section</th>\n",
       "      <th>inputs</th>\n",
       "      <th>context_title</th>\n",
       "    </tr>\n",
       "  </thead>\n",
       "  <tbody>\n",
       "    <tr>\n",
       "      <th>0</th>\n",
       "      <td>37d61fd2272659b1</td>\n",
       "      <td>abatement</td>\n",
       "      <td>abatement of pollution</td>\n",
       "      <td>A47</td>\n",
       "      <td>0.50</td>\n",
       "      <td>A</td>\n",
       "      <td>A47[SEP]abatement[SEP]abatement of pollution</td>\n",
       "      <td>HUMAN NECESSITIES. FURNITURE; DOMESTIC ARTICLES OR APPLIANCES; COFFEE MILLS; SPICE MILLS; SUCTION CLEANERS IN GENERAL</td>\n",
       "    </tr>\n",
       "    <tr>\n",
       "      <th>1</th>\n",
       "      <td>7b9652b17b68b7a4</td>\n",
       "      <td>abatement</td>\n",
       "      <td>act of abating</td>\n",
       "      <td>A47</td>\n",
       "      <td>0.75</td>\n",
       "      <td>A</td>\n",
       "      <td>A47[SEP]abatement[SEP]act of abating</td>\n",
       "      <td>HUMAN NECESSITIES. FURNITURE; DOMESTIC ARTICLES OR APPLIANCES; COFFEE MILLS; SPICE MILLS; SUCTION CLEANERS IN GENERAL</td>\n",
       "    </tr>\n",
       "    <tr>\n",
       "      <th>2</th>\n",
       "      <td>36d72442aefd8232</td>\n",
       "      <td>abatement</td>\n",
       "      <td>active catalyst</td>\n",
       "      <td>A47</td>\n",
       "      <td>0.25</td>\n",
       "      <td>A</td>\n",
       "      <td>A47[SEP]abatement[SEP]active catalyst</td>\n",
       "      <td>HUMAN NECESSITIES. FURNITURE; DOMESTIC ARTICLES OR APPLIANCES; COFFEE MILLS; SPICE MILLS; SUCTION CLEANERS IN GENERAL</td>\n",
       "    </tr>\n",
       "    <tr>\n",
       "      <th>3</th>\n",
       "      <td>5296b0c19e1ce60e</td>\n",
       "      <td>abatement</td>\n",
       "      <td>eliminating process</td>\n",
       "      <td>A47</td>\n",
       "      <td>0.50</td>\n",
       "      <td>A</td>\n",
       "      <td>A47[SEP]abatement[SEP]eliminating process</td>\n",
       "      <td>HUMAN NECESSITIES. FURNITURE; DOMESTIC ARTICLES OR APPLIANCES; COFFEE MILLS; SPICE MILLS; SUCTION CLEANERS IN GENERAL</td>\n",
       "    </tr>\n",
       "    <tr>\n",
       "      <th>4</th>\n",
       "      <td>54c1e3b9184cb5b6</td>\n",
       "      <td>abatement</td>\n",
       "      <td>forest region</td>\n",
       "      <td>A47</td>\n",
       "      <td>0.00</td>\n",
       "      <td>A</td>\n",
       "      <td>A47[SEP]abatement[SEP]forest region</td>\n",
       "      <td>HUMAN NECESSITIES. FURNITURE; DOMESTIC ARTICLES OR APPLIANCES; COFFEE MILLS; SPICE MILLS; SUCTION CLEANERS IN GENERAL</td>\n",
       "    </tr>\n",
       "  </tbody>\n",
       "</table>\n",
       "</div>"
      ],
      "text/plain": [
       "                 id     anchor                  target context  score section  \\\n",
       "0  37d61fd2272659b1  abatement  abatement of pollution     A47   0.50       A   \n",
       "1  7b9652b17b68b7a4  abatement          act of abating     A47   0.75       A   \n",
       "2  36d72442aefd8232  abatement         active catalyst     A47   0.25       A   \n",
       "3  5296b0c19e1ce60e  abatement     eliminating process     A47   0.50       A   \n",
       "4  54c1e3b9184cb5b6  abatement           forest region     A47   0.00       A   \n",
       "\n",
       "                                         inputs  \\\n",
       "0  A47[SEP]abatement[SEP]abatement of pollution   \n",
       "1          A47[SEP]abatement[SEP]act of abating   \n",
       "2         A47[SEP]abatement[SEP]active catalyst   \n",
       "3     A47[SEP]abatement[SEP]eliminating process   \n",
       "4           A47[SEP]abatement[SEP]forest region   \n",
       "\n",
       "                                                                                                           context_title  \n",
       "0  HUMAN NECESSITIES. FURNITURE; DOMESTIC ARTICLES OR APPLIANCES; COFFEE MILLS; SPICE MILLS; SUCTION CLEANERS IN GENERAL  \n",
       "1  HUMAN NECESSITIES. FURNITURE; DOMESTIC ARTICLES OR APPLIANCES; COFFEE MILLS; SPICE MILLS; SUCTION CLEANERS IN GENERAL  \n",
       "2  HUMAN NECESSITIES. FURNITURE; DOMESTIC ARTICLES OR APPLIANCES; COFFEE MILLS; SPICE MILLS; SUCTION CLEANERS IN GENERAL  \n",
       "3  HUMAN NECESSITIES. FURNITURE; DOMESTIC ARTICLES OR APPLIANCES; COFFEE MILLS; SPICE MILLS; SUCTION CLEANERS IN GENERAL  \n",
       "4  HUMAN NECESSITIES. FURNITURE; DOMESTIC ARTICLES OR APPLIANCES; COFFEE MILLS; SPICE MILLS; SUCTION CLEANERS IN GENERAL  "
      ]
     },
     "metadata": {},
     "output_type": "display_data"
    },
    {
     "data": {
      "text/html": [
       "<div>\n",
       "<style scoped>\n",
       "    .dataframe tbody tr th:only-of-type {\n",
       "        vertical-align: middle;\n",
       "    }\n",
       "\n",
       "    .dataframe tbody tr th {\n",
       "        vertical-align: top;\n",
       "    }\n",
       "\n",
       "    .dataframe thead th {\n",
       "        text-align: right;\n",
       "    }\n",
       "</style>\n",
       "<table border=\"1\" class=\"dataframe\">\n",
       "  <thead>\n",
       "    <tr style=\"text-align: right;\">\n",
       "      <th></th>\n",
       "      <th>id</th>\n",
       "      <th>anchor</th>\n",
       "      <th>target</th>\n",
       "      <th>context</th>\n",
       "      <th>context_title</th>\n",
       "    </tr>\n",
       "  </thead>\n",
       "  <tbody>\n",
       "    <tr>\n",
       "      <th>0</th>\n",
       "      <td>4112d61851461f60</td>\n",
       "      <td>opc drum</td>\n",
       "      <td>inorganic photoconductor drum</td>\n",
       "      <td>G02</td>\n",
       "      <td>PHYSICS. OPTICS</td>\n",
       "    </tr>\n",
       "    <tr>\n",
       "      <th>1</th>\n",
       "      <td>09e418c93a776564</td>\n",
       "      <td>adjust gas flow</td>\n",
       "      <td>altering gas flow</td>\n",
       "      <td>F23</td>\n",
       "      <td>MECHANICAL ENGINEERING; LIGHTING; HEATING; WEAPONS; BLASTING. COMBUSTION APPARATUS; COMBUSTION PROCESSES</td>\n",
       "    </tr>\n",
       "    <tr>\n",
       "      <th>2</th>\n",
       "      <td>36baf228038e314b</td>\n",
       "      <td>lower trunnion</td>\n",
       "      <td>lower locating</td>\n",
       "      <td>B60</td>\n",
       "      <td>PERFORMING OPERATIONS; TRANSPORTING. VEHICLES IN GENERAL</td>\n",
       "    </tr>\n",
       "    <tr>\n",
       "      <th>3</th>\n",
       "      <td>1f37ead645e7f0c8</td>\n",
       "      <td>cap component</td>\n",
       "      <td>upper portion</td>\n",
       "      <td>D06</td>\n",
       "      <td>TEXTILES; PAPER. TREATMENT OF TEXTILES OR THE LIKE; LAUNDERING; FLEXIBLE MATERIALS NOT OTHERWISE PROVIDED FOR</td>\n",
       "    </tr>\n",
       "    <tr>\n",
       "      <th>4</th>\n",
       "      <td>71a5b6ad068d531f</td>\n",
       "      <td>neural stimulation</td>\n",
       "      <td>artificial neural network</td>\n",
       "      <td>H04</td>\n",
       "      <td>ELECTRICITY. ELECTRIC COMMUNICATION TECHNIQUE</td>\n",
       "    </tr>\n",
       "  </tbody>\n",
       "</table>\n",
       "</div>"
      ],
      "text/plain": [
       "                 id              anchor                         target  \\\n",
       "0  4112d61851461f60            opc drum  inorganic photoconductor drum   \n",
       "1  09e418c93a776564     adjust gas flow              altering gas flow   \n",
       "2  36baf228038e314b      lower trunnion                 lower locating   \n",
       "3  1f37ead645e7f0c8       cap component                  upper portion   \n",
       "4  71a5b6ad068d531f  neural stimulation      artificial neural network   \n",
       "\n",
       "  context  \\\n",
       "0     G02   \n",
       "1     F23   \n",
       "2     B60   \n",
       "3     D06   \n",
       "4     H04   \n",
       "\n",
       "                                                                                                   context_title  \n",
       "0                                                                                                PHYSICS. OPTICS  \n",
       "1       MECHANICAL ENGINEERING; LIGHTING; HEATING; WEAPONS; BLASTING. COMBUSTION APPARATUS; COMBUSTION PROCESSES  \n",
       "2                                                       PERFORMING OPERATIONS; TRANSPORTING. VEHICLES IN GENERAL  \n",
       "3  TEXTILES; PAPER. TREATMENT OF TEXTILES OR THE LIKE; LAUNDERING; FLEXIBLE MATERIALS NOT OTHERWISE PROVIDED FOR  \n",
       "4                                                                  ELECTRICITY. ELECTRIC COMMUNICATION TECHNIQUE  "
      ]
     },
     "metadata": {},
     "output_type": "display_data"
    }
   ],
   "source": [
    "train_df['context_title'] = train_df['context'].map(cpc_titles)\n",
    "test_df['context_title'] = test_df['context'].map(cpc_titles)\n",
    "display(train_df.head())\n",
    "display(test_df.head())"
   ]
  },
  {
   "cell_type": "code",
   "execution_count": 40,
   "id": "a34916f0",
   "metadata": {
    "execution": {
     "iopub.execute_input": "2022-04-30T06:48:30.374945Z",
     "iopub.status.busy": "2022-04-30T06:48:30.354392Z",
     "iopub.status.idle": "2022-04-30T06:48:30.508009Z",
     "shell.execute_reply": "2022-04-30T06:48:30.508482Z",
     "shell.execute_reply.started": "2022-04-22T06:24:45.712692Z"
    },
    "papermill": {
     "duration": 0.264689,
     "end_time": "2022-04-30T06:48:30.508646",
     "exception": false,
     "start_time": "2022-04-30T06:48:30.243957",
     "status": "completed"
    },
    "tags": []
   },
   "outputs": [
    {
     "data": {
      "text/html": [
       "<div>\n",
       "<style scoped>\n",
       "    .dataframe tbody tr th:only-of-type {\n",
       "        vertical-align: middle;\n",
       "    }\n",
       "\n",
       "    .dataframe tbody tr th {\n",
       "        vertical-align: top;\n",
       "    }\n",
       "\n",
       "    .dataframe thead th {\n",
       "        text-align: right;\n",
       "    }\n",
       "</style>\n",
       "<table border=\"1\" class=\"dataframe\">\n",
       "  <thead>\n",
       "    <tr style=\"text-align: right;\">\n",
       "      <th></th>\n",
       "      <th>id</th>\n",
       "      <th>anchor</th>\n",
       "      <th>target</th>\n",
       "      <th>context</th>\n",
       "      <th>score</th>\n",
       "      <th>section</th>\n",
       "      <th>inputs</th>\n",
       "      <th>context_title</th>\n",
       "    </tr>\n",
       "  </thead>\n",
       "  <tbody>\n",
       "    <tr>\n",
       "      <th>0</th>\n",
       "      <td>37d61fd2272659b1</td>\n",
       "      <td>abatement</td>\n",
       "      <td>abatement of pollution</td>\n",
       "      <td>A47</td>\n",
       "      <td>0.50</td>\n",
       "      <td>A</td>\n",
       "      <td>A47[SEP]abatement[SEP]abatement of pollution</td>\n",
       "      <td>human necessities furniture domestic articles or appliances coffee mills spice mills suction cleaners in general</td>\n",
       "    </tr>\n",
       "    <tr>\n",
       "      <th>1</th>\n",
       "      <td>7b9652b17b68b7a4</td>\n",
       "      <td>abatement</td>\n",
       "      <td>act of abating</td>\n",
       "      <td>A47</td>\n",
       "      <td>0.75</td>\n",
       "      <td>A</td>\n",
       "      <td>A47[SEP]abatement[SEP]act of abating</td>\n",
       "      <td>human necessities furniture domestic articles or appliances coffee mills spice mills suction cleaners in general</td>\n",
       "    </tr>\n",
       "    <tr>\n",
       "      <th>2</th>\n",
       "      <td>36d72442aefd8232</td>\n",
       "      <td>abatement</td>\n",
       "      <td>active catalyst</td>\n",
       "      <td>A47</td>\n",
       "      <td>0.25</td>\n",
       "      <td>A</td>\n",
       "      <td>A47[SEP]abatement[SEP]active catalyst</td>\n",
       "      <td>human necessities furniture domestic articles or appliances coffee mills spice mills suction cleaners in general</td>\n",
       "    </tr>\n",
       "    <tr>\n",
       "      <th>3</th>\n",
       "      <td>5296b0c19e1ce60e</td>\n",
       "      <td>abatement</td>\n",
       "      <td>eliminating process</td>\n",
       "      <td>A47</td>\n",
       "      <td>0.50</td>\n",
       "      <td>A</td>\n",
       "      <td>A47[SEP]abatement[SEP]eliminating process</td>\n",
       "      <td>human necessities furniture domestic articles or appliances coffee mills spice mills suction cleaners in general</td>\n",
       "    </tr>\n",
       "    <tr>\n",
       "      <th>4</th>\n",
       "      <td>54c1e3b9184cb5b6</td>\n",
       "      <td>abatement</td>\n",
       "      <td>forest region</td>\n",
       "      <td>A47</td>\n",
       "      <td>0.00</td>\n",
       "      <td>A</td>\n",
       "      <td>A47[SEP]abatement[SEP]forest region</td>\n",
       "      <td>human necessities furniture domestic articles or appliances coffee mills spice mills suction cleaners in general</td>\n",
       "    </tr>\n",
       "  </tbody>\n",
       "</table>\n",
       "</div>"
      ],
      "text/plain": [
       "                 id     anchor                  target context  score section  \\\n",
       "0  37d61fd2272659b1  abatement  abatement of pollution     A47   0.50       A   \n",
       "1  7b9652b17b68b7a4  abatement          act of abating     A47   0.75       A   \n",
       "2  36d72442aefd8232  abatement         active catalyst     A47   0.25       A   \n",
       "3  5296b0c19e1ce60e  abatement     eliminating process     A47   0.50       A   \n",
       "4  54c1e3b9184cb5b6  abatement           forest region     A47   0.00       A   \n",
       "\n",
       "                                         inputs  \\\n",
       "0  A47[SEP]abatement[SEP]abatement of pollution   \n",
       "1          A47[SEP]abatement[SEP]act of abating   \n",
       "2         A47[SEP]abatement[SEP]active catalyst   \n",
       "3     A47[SEP]abatement[SEP]eliminating process   \n",
       "4           A47[SEP]abatement[SEP]forest region   \n",
       "\n",
       "                                                                                                      context_title  \n",
       "0  human necessities furniture domestic articles or appliances coffee mills spice mills suction cleaners in general  \n",
       "1  human necessities furniture domestic articles or appliances coffee mills spice mills suction cleaners in general  \n",
       "2  human necessities furniture domestic articles or appliances coffee mills spice mills suction cleaners in general  \n",
       "3  human necessities furniture domestic articles or appliances coffee mills spice mills suction cleaners in general  \n",
       "4  human necessities furniture domestic articles or appliances coffee mills spice mills suction cleaners in general  "
      ]
     },
     "metadata": {},
     "output_type": "display_data"
    },
    {
     "data": {
      "text/html": [
       "<div>\n",
       "<style scoped>\n",
       "    .dataframe tbody tr th:only-of-type {\n",
       "        vertical-align: middle;\n",
       "    }\n",
       "\n",
       "    .dataframe tbody tr th {\n",
       "        vertical-align: top;\n",
       "    }\n",
       "\n",
       "    .dataframe thead th {\n",
       "        text-align: right;\n",
       "    }\n",
       "</style>\n",
       "<table border=\"1\" class=\"dataframe\">\n",
       "  <thead>\n",
       "    <tr style=\"text-align: right;\">\n",
       "      <th></th>\n",
       "      <th>id</th>\n",
       "      <th>anchor</th>\n",
       "      <th>target</th>\n",
       "      <th>context</th>\n",
       "      <th>context_title</th>\n",
       "    </tr>\n",
       "  </thead>\n",
       "  <tbody>\n",
       "    <tr>\n",
       "      <th>0</th>\n",
       "      <td>4112d61851461f60</td>\n",
       "      <td>opc drum</td>\n",
       "      <td>inorganic photoconductor drum</td>\n",
       "      <td>G02</td>\n",
       "      <td>physics optics</td>\n",
       "    </tr>\n",
       "    <tr>\n",
       "      <th>1</th>\n",
       "      <td>09e418c93a776564</td>\n",
       "      <td>adjust gas flow</td>\n",
       "      <td>altering gas flow</td>\n",
       "      <td>F23</td>\n",
       "      <td>mechanical engineering lighting heating weapons blasting combustion apparatus combustion processes</td>\n",
       "    </tr>\n",
       "    <tr>\n",
       "      <th>2</th>\n",
       "      <td>36baf228038e314b</td>\n",
       "      <td>lower trunnion</td>\n",
       "      <td>lower locating</td>\n",
       "      <td>B60</td>\n",
       "      <td>performing operations transporting vehicles in general</td>\n",
       "    </tr>\n",
       "    <tr>\n",
       "      <th>3</th>\n",
       "      <td>1f37ead645e7f0c8</td>\n",
       "      <td>cap component</td>\n",
       "      <td>upper portion</td>\n",
       "      <td>D06</td>\n",
       "      <td>textiles paper treatment of textiles or the like laundering flexible materials not otherwise provided for</td>\n",
       "    </tr>\n",
       "    <tr>\n",
       "      <th>4</th>\n",
       "      <td>71a5b6ad068d531f</td>\n",
       "      <td>neural stimulation</td>\n",
       "      <td>artificial neural network</td>\n",
       "      <td>H04</td>\n",
       "      <td>electricity electric communication technique</td>\n",
       "    </tr>\n",
       "  </tbody>\n",
       "</table>\n",
       "</div>"
      ],
      "text/plain": [
       "                 id              anchor                         target  \\\n",
       "0  4112d61851461f60            opc drum  inorganic photoconductor drum   \n",
       "1  09e418c93a776564     adjust gas flow              altering gas flow   \n",
       "2  36baf228038e314b      lower trunnion                 lower locating   \n",
       "3  1f37ead645e7f0c8       cap component                  upper portion   \n",
       "4  71a5b6ad068d531f  neural stimulation      artificial neural network   \n",
       "\n",
       "  context  \\\n",
       "0     G02   \n",
       "1     F23   \n",
       "2     B60   \n",
       "3     D06   \n",
       "4     H04   \n",
       "\n",
       "                                                                                               context_title  \n",
       "0                                                                                             physics optics  \n",
       "1         mechanical engineering lighting heating weapons blasting combustion apparatus combustion processes  \n",
       "2                                                     performing operations transporting vehicles in general  \n",
       "3  textiles paper treatment of textiles or the like laundering flexible materials not otherwise provided for  \n",
       "4                                                               electricity electric communication technique  "
      ]
     },
     "metadata": {},
     "output_type": "display_data"
    }
   ],
   "source": [
    "train_df[\"context_title\"] = train_df[\"context_title\"].apply(lambda x: re.sub('[;.]', '', x))\n",
    "test_df[\"context_title\"] = test_df[\"context_title\"].apply(lambda x: re.sub('[;.]', '', x))\n",
    "train_df[\"context_title\"] = train_df[\"context_title\"].apply(lambda x: x.lower())\n",
    "test_df[\"context_title\"] = test_df[\"context_title\"].apply(lambda x: x.lower())\n",
    "display(train_df.head())\n",
    "display(test_df.head())"
   ]
  },
  {
   "cell_type": "code",
   "execution_count": 41,
   "id": "74c86193",
   "metadata": {
    "execution": {
     "iopub.execute_input": "2022-04-30T06:48:30.708792Z",
     "iopub.status.busy": "2022-04-30T06:48:30.708050Z",
     "iopub.status.idle": "2022-04-30T06:48:30.710255Z",
     "shell.execute_reply": "2022-04-30T06:48:30.710644Z",
     "shell.execute_reply.started": "2022-04-22T06:24:45.714435Z"
    },
    "papermill": {
     "duration": 0.101623,
     "end_time": "2022-04-30T06:48:30.710784",
     "exception": false,
     "start_time": "2022-04-30T06:48:30.609161",
     "status": "completed"
    },
    "tags": []
   },
   "outputs": [],
   "source": [
    "def get_dds(df):\n",
    "    ds = Dataset.from_pandas(train_df).rename_column('score', 'label')\n",
    "    \n",
    "    tok_ds = ds.map(token_func, \n",
    "                    batched = True, \n",
    "                    remove_columns = inps + ('inputs','id','section'))\n",
    "    \n",
    "    return DatasetDict({\"train\":tok_ds.select(trn_idxs), \"test\": tok_ds.select(val_idxs)})"
   ]
  },
  {
   "cell_type": "markdown",
   "id": "18f23a80",
   "metadata": {
    "papermill": {
     "duration": 0.101515,
     "end_time": "2022-04-30T06:48:30.911415",
     "exception": false,
     "start_time": "2022-04-30T06:48:30.809900",
     "status": "completed"
    },
    "tags": []
   },
   "source": [
    "Let's now try out some ideas...\n",
    "\n",
    "Perhaps using the special separator character isn't a good idea, and we should use something we create instead. Let's see if that makes things better. First we'll change the separator and create the `DatasetDict`:"
   ]
  },
  {
   "cell_type": "code",
   "execution_count": 42,
   "id": "0003ed26",
   "metadata": {
    "execution": {
     "iopub.execute_input": "2022-04-30T06:48:31.132768Z",
     "iopub.status.busy": "2022-04-30T06:48:31.132205Z",
     "iopub.status.idle": "2022-04-30T06:48:40.355782Z",
     "shell.execute_reply": "2022-04-30T06:48:40.356214Z",
     "shell.execute_reply.started": "2022-04-22T06:24:45.716006Z"
    },
    "papermill": {
     "duration": 9.351282,
     "end_time": "2022-04-30T06:48:40.356379",
     "exception": false,
     "start_time": "2022-04-30T06:48:31.005097",
     "status": "completed"
    },
    "tags": []
   },
   "outputs": [
    {
     "data": {
      "application/vnd.jupyter.widget-view+json": {
       "model_id": "a592855d4d294c95853c0854007fee54",
       "version_major": 2,
       "version_minor": 0
      },
      "text/plain": [
       "  0%|          | 0/37 [00:00<?, ?ba/s]"
      ]
     },
     "metadata": {},
     "output_type": "display_data"
    }
   ],
   "source": [
    "sep = \" [s] \"\n",
    "train_df['inputs'] = train_df.context_title + sep + train_df.anchor + sep + train_df.target\n",
    "dds = get_dds(train_df)"
   ]
  },
  {
   "cell_type": "markdown",
   "id": "61bc233f",
   "metadata": {
    "papermill": {
     "duration": 0.093617,
     "end_time": "2022-04-30T06:48:40.546119",
     "exception": false,
     "start_time": "2022-04-30T06:48:40.452502",
     "status": "completed"
    },
    "tags": []
   },
   "source": [
    "...and create and train a model. "
   ]
  },
  {
   "cell_type": "code",
   "execution_count": 43,
   "id": "f5562ca0",
   "metadata": {
    "execution": {
     "iopub.execute_input": "2022-04-30T06:48:40.742900Z",
     "iopub.status.busy": "2022-04-30T06:48:40.742221Z",
     "iopub.status.idle": "2022-04-30T06:56:14.144973Z",
     "shell.execute_reply": "2022-04-30T06:56:14.145465Z",
     "shell.execute_reply.started": "2022-04-22T06:24:45.718731Z"
    },
    "papermill": {
     "duration": 453.505652,
     "end_time": "2022-04-30T06:56:14.145643",
     "exception": false,
     "start_time": "2022-04-30T06:48:40.639991",
     "status": "completed"
    },
    "tags": []
   },
   "outputs": [
    {
     "data": {
      "text/html": [
       "\n",
       "    <div>\n",
       "      \n",
       "      <progress value='856' max='856' style='width:300px; height:20px; vertical-align: middle;'></progress>\n",
       "      [856/856 07:29, Epoch 4/4]\n",
       "    </div>\n",
       "    <table border=\"1\" class=\"dataframe\">\n",
       "  <thead>\n",
       " <tr style=\"text-align: left;\">\n",
       "      <th>Epoch</th>\n",
       "      <th>Training Loss</th>\n",
       "      <th>Validation Loss</th>\n",
       "      <th>Pearson</th>\n",
       "    </tr>\n",
       "  </thead>\n",
       "  <tbody>\n",
       "    <tr>\n",
       "      <td>1</td>\n",
       "      <td>No log</td>\n",
       "      <td>0.023483</td>\n",
       "      <td>0.807700</td>\n",
       "    </tr>\n",
       "    <tr>\n",
       "      <td>2</td>\n",
       "      <td>No log</td>\n",
       "      <td>0.024399</td>\n",
       "      <td>0.818662</td>\n",
       "    </tr>\n",
       "    <tr>\n",
       "      <td>3</td>\n",
       "      <td>0.031800</td>\n",
       "      <td>0.023374</td>\n",
       "      <td>0.822717</td>\n",
       "    </tr>\n",
       "    <tr>\n",
       "      <td>4</td>\n",
       "      <td>0.031800</td>\n",
       "      <td>0.023924</td>\n",
       "      <td>0.823034</td>\n",
       "    </tr>\n",
       "  </tbody>\n",
       "</table><p>"
      ],
      "text/plain": [
       "<IPython.core.display.HTML object>"
      ]
     },
     "metadata": {},
     "output_type": "display_data"
    },
    {
     "data": {
      "text/plain": [
       "TrainOutput(global_step=856, training_loss=0.02364853720798671, metrics={'train_runtime': 450.0644, 'train_samples_per_second': 243.139, 'train_steps_per_second': 1.902, 'total_flos': 1480809273976230.0, 'train_loss': 0.02364853720798671, 'epoch': 4.0})"
      ]
     },
     "execution_count": 43,
     "metadata": {},
     "output_type": "execute_result"
    }
   ],
   "source": [
    "get_trainer(dds).train()"
   ]
  },
  {
   "cell_type": "markdown",
   "id": "1df4b557",
   "metadata": {
    "papermill": {
     "duration": 0.094894,
     "end_time": "2022-04-30T06:56:14.340078",
     "exception": false,
     "start_time": "2022-04-30T06:56:14.245184",
     "status": "completed"
    },
    "tags": []
   },
   "source": [
    "That's looking quite a bit better, so we'll keep that change.\n",
    "\n",
    "Often changing to lowercase is helpful. Let's see if that helps too:"
   ]
  },
  {
   "cell_type": "code",
   "execution_count": 44,
   "id": "8cee4c9d",
   "metadata": {
    "execution": {
     "iopub.execute_input": "2022-04-30T06:56:14.556592Z",
     "iopub.status.busy": "2022-04-30T06:56:14.537863Z",
     "iopub.status.idle": "2022-04-30T07:04:01.718586Z",
     "shell.execute_reply": "2022-04-30T07:04:01.719565Z",
     "shell.execute_reply.started": "2022-04-22T06:24:45.72031Z"
    },
    "papermill": {
     "duration": 467.284536,
     "end_time": "2022-04-30T07:04:01.719771",
     "exception": false,
     "start_time": "2022-04-30T06:56:14.435235",
     "status": "completed"
    },
    "tags": []
   },
   "outputs": [
    {
     "data": {
      "application/vnd.jupyter.widget-view+json": {
       "model_id": "091567550bb0432486dd78634cbe6bea",
       "version_major": 2,
       "version_minor": 0
      },
      "text/plain": [
       "  0%|          | 0/37 [00:00<?, ?ba/s]"
      ]
     },
     "metadata": {},
     "output_type": "display_data"
    },
    {
     "data": {
      "text/html": [
       "\n",
       "    <div>\n",
       "      \n",
       "      <progress value='856' max='856' style='width:300px; height:20px; vertical-align: middle;'></progress>\n",
       "      [856/856 07:34, Epoch 4/4]\n",
       "    </div>\n",
       "    <table border=\"1\" class=\"dataframe\">\n",
       "  <thead>\n",
       " <tr style=\"text-align: left;\">\n",
       "      <th>Epoch</th>\n",
       "      <th>Training Loss</th>\n",
       "      <th>Validation Loss</th>\n",
       "      <th>Pearson</th>\n",
       "    </tr>\n",
       "  </thead>\n",
       "  <tbody>\n",
       "    <tr>\n",
       "      <td>1</td>\n",
       "      <td>No log</td>\n",
       "      <td>0.023483</td>\n",
       "      <td>0.807700</td>\n",
       "    </tr>\n",
       "    <tr>\n",
       "      <td>2</td>\n",
       "      <td>No log</td>\n",
       "      <td>0.024399</td>\n",
       "      <td>0.818662</td>\n",
       "    </tr>\n",
       "    <tr>\n",
       "      <td>3</td>\n",
       "      <td>0.031800</td>\n",
       "      <td>0.023374</td>\n",
       "      <td>0.822717</td>\n",
       "    </tr>\n",
       "    <tr>\n",
       "      <td>4</td>\n",
       "      <td>0.031800</td>\n",
       "      <td>0.023924</td>\n",
       "      <td>0.823034</td>\n",
       "    </tr>\n",
       "  </tbody>\n",
       "</table><p>"
      ],
      "text/plain": [
       "<IPython.core.display.HTML object>"
      ]
     },
     "metadata": {},
     "output_type": "display_data"
    },
    {
     "data": {
      "text/plain": [
       "TrainOutput(global_step=856, training_loss=0.02364853720798671, metrics={'train_runtime': 454.8833, 'train_samples_per_second': 240.563, 'train_steps_per_second': 1.882, 'total_flos': 1480809273976230.0, 'train_loss': 0.02364853720798671, 'epoch': 4.0})"
      ]
     },
     "execution_count": 44,
     "metadata": {},
     "output_type": "execute_result"
    }
   ],
   "source": [
    "train_df['inputs'] = train_df.inputs.str.lower()\n",
    "dds = get_dds(train_df)\n",
    "get_trainer(dds).train()"
   ]
  },
  {
   "cell_type": "markdown",
   "id": "671b3683",
   "metadata": {
    "papermill": {
     "duration": 0.23711,
     "end_time": "2022-04-30T07:04:02.120176",
     "exception": false,
     "start_time": "2022-04-30T07:04:01.883066",
     "status": "completed"
    },
    "tags": []
   },
   "source": [
    "That one is less clear. We'll keep that change too since most times I run it, it's a little better."
   ]
  },
  {
   "cell_type": "markdown",
   "id": "6b96f266",
   "metadata": {
    "papermill": {
     "duration": 0.141165,
     "end_time": "2022-04-30T07:04:02.420734",
     "exception": false,
     "start_time": "2022-04-30T07:04:02.279569",
     "status": "completed"
    },
    "tags": []
   },
   "source": [
    "## Special tokens"
   ]
  },
  {
   "cell_type": "markdown",
   "id": "9496f85a",
   "metadata": {
    "papermill": {
     "duration": 0.096533,
     "end_time": "2022-04-30T07:04:02.614577",
     "exception": false,
     "start_time": "2022-04-30T07:04:02.518044",
     "status": "completed"
    },
    "tags": []
   },
   "source": [
    "What if we made the patent section a special token? Then potentially the model might learn to recognize that different sections need to be handled in different ways. To do that, we'll use, e.g. `[A]` for section A. We'll then add those as special tokens:"
   ]
  },
  {
   "cell_type": "code",
   "execution_count": 45,
   "id": "6ca74b53",
   "metadata": {
    "execution": {
     "iopub.execute_input": "2022-04-30T07:04:02.822501Z",
     "iopub.status.busy": "2022-04-30T07:04:02.821946Z",
     "iopub.status.idle": "2022-04-30T07:04:02.827186Z",
     "shell.execute_reply": "2022-04-30T07:04:02.826740Z",
     "shell.execute_reply.started": "2022-04-22T06:24:45.722182Z"
    },
    "papermill": {
     "duration": 0.114582,
     "end_time": "2022-04-30T07:04:02.827306",
     "exception": false,
     "start_time": "2022-04-30T07:04:02.712724",
     "status": "completed"
    },
    "tags": []
   },
   "outputs": [
    {
     "data": {
      "text/html": [
       "<div>\n",
       "<style scoped>\n",
       "    .dataframe tbody tr th:only-of-type {\n",
       "        vertical-align: middle;\n",
       "    }\n",
       "\n",
       "    .dataframe tbody tr th {\n",
       "        vertical-align: top;\n",
       "    }\n",
       "\n",
       "    .dataframe thead th {\n",
       "        text-align: right;\n",
       "    }\n",
       "</style>\n",
       "<table border=\"1\" class=\"dataframe\">\n",
       "  <thead>\n",
       "    <tr style=\"text-align: right;\">\n",
       "      <th></th>\n",
       "      <th>id</th>\n",
       "      <th>anchor</th>\n",
       "      <th>target</th>\n",
       "      <th>context</th>\n",
       "      <th>score</th>\n",
       "      <th>section</th>\n",
       "      <th>inputs</th>\n",
       "      <th>context_title</th>\n",
       "    </tr>\n",
       "  </thead>\n",
       "  <tbody>\n",
       "    <tr>\n",
       "      <th>0</th>\n",
       "      <td>37d61fd2272659b1</td>\n",
       "      <td>abatement</td>\n",
       "      <td>abatement of pollution</td>\n",
       "      <td>A47</td>\n",
       "      <td>0.50</td>\n",
       "      <td>A</td>\n",
       "      <td>human necessities furniture domestic articles or appliances coffee mills spice mills suction cleaners in general [s] abatement [s] abatement of pollution</td>\n",
       "      <td>human necessities furniture domestic articles or appliances coffee mills spice mills suction cleaners in general</td>\n",
       "    </tr>\n",
       "    <tr>\n",
       "      <th>1</th>\n",
       "      <td>7b9652b17b68b7a4</td>\n",
       "      <td>abatement</td>\n",
       "      <td>act of abating</td>\n",
       "      <td>A47</td>\n",
       "      <td>0.75</td>\n",
       "      <td>A</td>\n",
       "      <td>human necessities furniture domestic articles or appliances coffee mills spice mills suction cleaners in general [s] abatement [s] act of abating</td>\n",
       "      <td>human necessities furniture domestic articles or appliances coffee mills spice mills suction cleaners in general</td>\n",
       "    </tr>\n",
       "    <tr>\n",
       "      <th>2</th>\n",
       "      <td>36d72442aefd8232</td>\n",
       "      <td>abatement</td>\n",
       "      <td>active catalyst</td>\n",
       "      <td>A47</td>\n",
       "      <td>0.25</td>\n",
       "      <td>A</td>\n",
       "      <td>human necessities furniture domestic articles or appliances coffee mills spice mills suction cleaners in general [s] abatement [s] active catalyst</td>\n",
       "      <td>human necessities furniture domestic articles or appliances coffee mills spice mills suction cleaners in general</td>\n",
       "    </tr>\n",
       "    <tr>\n",
       "      <th>3</th>\n",
       "      <td>5296b0c19e1ce60e</td>\n",
       "      <td>abatement</td>\n",
       "      <td>eliminating process</td>\n",
       "      <td>A47</td>\n",
       "      <td>0.50</td>\n",
       "      <td>A</td>\n",
       "      <td>human necessities furniture domestic articles or appliances coffee mills spice mills suction cleaners in general [s] abatement [s] eliminating process</td>\n",
       "      <td>human necessities furniture domestic articles or appliances coffee mills spice mills suction cleaners in general</td>\n",
       "    </tr>\n",
       "    <tr>\n",
       "      <th>4</th>\n",
       "      <td>54c1e3b9184cb5b6</td>\n",
       "      <td>abatement</td>\n",
       "      <td>forest region</td>\n",
       "      <td>A47</td>\n",
       "      <td>0.00</td>\n",
       "      <td>A</td>\n",
       "      <td>human necessities furniture domestic articles or appliances coffee mills spice mills suction cleaners in general [s] abatement [s] forest region</td>\n",
       "      <td>human necessities furniture domestic articles or appliances coffee mills spice mills suction cleaners in general</td>\n",
       "    </tr>\n",
       "  </tbody>\n",
       "</table>\n",
       "</div>"
      ],
      "text/plain": [
       "                 id     anchor                  target context  score section  \\\n",
       "0  37d61fd2272659b1  abatement  abatement of pollution     A47   0.50       A   \n",
       "1  7b9652b17b68b7a4  abatement          act of abating     A47   0.75       A   \n",
       "2  36d72442aefd8232  abatement         active catalyst     A47   0.25       A   \n",
       "3  5296b0c19e1ce60e  abatement     eliminating process     A47   0.50       A   \n",
       "4  54c1e3b9184cb5b6  abatement           forest region     A47   0.00       A   \n",
       "\n",
       "                                                                                                                                                      inputs  \\\n",
       "0  human necessities furniture domestic articles or appliances coffee mills spice mills suction cleaners in general [s] abatement [s] abatement of pollution   \n",
       "1          human necessities furniture domestic articles or appliances coffee mills spice mills suction cleaners in general [s] abatement [s] act of abating   \n",
       "2         human necessities furniture domestic articles or appliances coffee mills spice mills suction cleaners in general [s] abatement [s] active catalyst   \n",
       "3     human necessities furniture domestic articles or appliances coffee mills spice mills suction cleaners in general [s] abatement [s] eliminating process   \n",
       "4           human necessities furniture domestic articles or appliances coffee mills spice mills suction cleaners in general [s] abatement [s] forest region   \n",
       "\n",
       "                                                                                                      context_title  \n",
       "0  human necessities furniture domestic articles or appliances coffee mills spice mills suction cleaners in general  \n",
       "1  human necessities furniture domestic articles or appliances coffee mills spice mills suction cleaners in general  \n",
       "2  human necessities furniture domestic articles or appliances coffee mills spice mills suction cleaners in general  \n",
       "3  human necessities furniture domestic articles or appliances coffee mills spice mills suction cleaners in general  \n",
       "4  human necessities furniture domestic articles or appliances coffee mills spice mills suction cleaners in general  "
      ]
     },
     "execution_count": 45,
     "metadata": {},
     "output_type": "execute_result"
    }
   ],
   "source": [
    "train_df.head()"
   ]
  },
  {
   "cell_type": "code",
   "execution_count": 46,
   "id": "ada7912f",
   "metadata": {
    "execution": {
     "iopub.execute_input": "2022-04-30T07:04:03.038424Z",
     "iopub.status.busy": "2022-04-30T07:04:03.037647Z",
     "iopub.status.idle": "2022-04-30T07:04:03.043588Z",
     "shell.execute_reply": "2022-04-30T07:04:03.044093Z",
     "shell.execute_reply.started": "2022-04-22T06:24:45.723842Z"
    },
    "papermill": {
     "duration": 0.119653,
     "end_time": "2022-04-30T07:04:03.044258",
     "exception": false,
     "start_time": "2022-04-30T07:04:02.924605",
     "status": "completed"
    },
    "tags": []
   },
   "outputs": [
    {
     "data": {
      "text/plain": [
       "8"
      ]
     },
     "execution_count": 46,
     "metadata": {},
     "output_type": "execute_result"
    }
   ],
   "source": [
    "train_df['section_token'] = '[' + train_df.section + ']'\n",
    "section_tokens = list(train_df.section_token.unique())\n",
    "tokenz.add_special_tokens({'additional_special_tokens': section_tokens})"
   ]
  },
  {
   "cell_type": "code",
   "execution_count": 47,
   "id": "3bf16885",
   "metadata": {
    "execution": {
     "iopub.execute_input": "2022-04-30T07:04:03.250281Z",
     "iopub.status.busy": "2022-04-30T07:04:03.249102Z",
     "iopub.status.idle": "2022-04-30T07:04:03.252633Z",
     "shell.execute_reply": "2022-04-30T07:04:03.252206Z",
     "shell.execute_reply.started": "2022-04-22T06:24:45.725596Z"
    },
    "papermill": {
     "duration": 0.110791,
     "end_time": "2022-04-30T07:04:03.252742",
     "exception": false,
     "start_time": "2022-04-30T07:04:03.141951",
     "status": "completed"
    },
    "tags": []
   },
   "outputs": [
    {
     "data": {
      "text/plain": [
       "0        [A]\n",
       "1        [A]\n",
       "2        [A]\n",
       "3        [A]\n",
       "4        [A]\n",
       "        ... \n",
       "36468    [B]\n",
       "36469    [B]\n",
       "36470    [B]\n",
       "36471    [B]\n",
       "36472    [B]\n",
       "Name: section_token, Length: 36473, dtype: object"
      ]
     },
     "execution_count": 47,
     "metadata": {},
     "output_type": "execute_result"
    }
   ],
   "source": [
    "train_df.section_token"
   ]
  },
  {
   "cell_type": "markdown",
   "id": "40aa23b7",
   "metadata": {
    "papermill": {
     "duration": 0.099066,
     "end_time": "2022-04-30T07:04:03.450274",
     "exception": false,
     "start_time": "2022-04-30T07:04:03.351208",
     "status": "completed"
    },
    "tags": []
   },
   "source": [
    "We concatenate the section token to the start of our inputs:"
   ]
  },
  {
   "cell_type": "code",
   "execution_count": 48,
   "id": "45293c86",
   "metadata": {
    "execution": {
     "iopub.execute_input": "2022-04-30T07:04:03.651467Z",
     "iopub.status.busy": "2022-04-30T07:04:03.650811Z",
     "iopub.status.idle": "2022-04-30T07:04:03.653500Z",
     "shell.execute_reply": "2022-04-30T07:04:03.653886Z",
     "shell.execute_reply.started": "2022-04-22T06:24:45.727391Z"
    },
    "papermill": {
     "duration": 0.105415,
     "end_time": "2022-04-30T07:04:03.654039",
     "exception": false,
     "start_time": "2022-04-30T07:04:03.548624",
     "status": "completed"
    },
    "tags": []
   },
   "outputs": [
    {
     "data": {
      "text/plain": [
       "' [s] '"
      ]
     },
     "execution_count": 48,
     "metadata": {},
     "output_type": "execute_result"
    }
   ],
   "source": [
    "sep"
   ]
  },
  {
   "cell_type": "code",
   "execution_count": 49,
   "id": "a8e986d1",
   "metadata": {
    "execution": {
     "iopub.execute_input": "2022-04-30T07:04:03.873784Z",
     "iopub.status.busy": "2022-04-30T07:04:03.869928Z",
     "iopub.status.idle": "2022-04-30T07:04:14.261805Z",
     "shell.execute_reply": "2022-04-30T07:04:14.261391Z",
     "shell.execute_reply.started": "2022-04-22T06:24:45.729057Z"
    },
    "papermill": {
     "duration": 10.509416,
     "end_time": "2022-04-30T07:04:14.261957",
     "exception": false,
     "start_time": "2022-04-30T07:04:03.752541",
     "status": "completed"
    },
    "tags": []
   },
   "outputs": [
    {
     "data": {
      "application/vnd.jupyter.widget-view+json": {
       "model_id": "b3faae0ebed9423b8d4885fb626161db",
       "version_major": 2,
       "version_minor": 0
      },
      "text/plain": [
       "  0%|          | 0/37 [00:00<?, ?ba/s]"
      ]
     },
     "metadata": {},
     "output_type": "display_data"
    }
   ],
   "source": [
    "train_df['inputs'] = train_df.section_token + sep + train_df.context_title + sep + train_df.anchor.str.lower() + sep + train_df.target\n",
    "dds = get_dds(train_df)"
   ]
  },
  {
   "cell_type": "markdown",
   "id": "39b918d3",
   "metadata": {
    "papermill": {
     "duration": 0.110392,
     "end_time": "2022-04-30T07:04:14.473421",
     "exception": false,
     "start_time": "2022-04-30T07:04:14.363029",
     "status": "completed"
    },
    "tags": []
   },
   "source": [
    "Since we've added more tokens, we need to resize the embedding matrix in the model:"
   ]
  },
  {
   "cell_type": "code",
   "execution_count": 50,
   "id": "17a47370",
   "metadata": {
    "execution": {
     "iopub.execute_input": "2022-04-30T07:04:14.678228Z",
     "iopub.status.busy": "2022-04-30T07:04:14.677414Z",
     "iopub.status.idle": "2022-04-30T07:04:19.026230Z",
     "shell.execute_reply": "2022-04-30T07:04:19.025761Z",
     "shell.execute_reply.started": "2022-04-22T06:24:45.730809Z"
    },
    "papermill": {
     "duration": 4.450464,
     "end_time": "2022-04-30T07:04:19.026361",
     "exception": false,
     "start_time": "2022-04-30T07:04:14.575897",
     "status": "completed"
    },
    "tags": []
   },
   "outputs": [
    {
     "data": {
      "text/plain": [
       "Embedding(128009, 768)"
      ]
     },
     "execution_count": 50,
     "metadata": {},
     "output_type": "execute_result"
    }
   ],
   "source": [
    "model = get_model()\n",
    "model.resize_token_embeddings(len(tokenz))"
   ]
  },
  {
   "cell_type": "markdown",
   "id": "650cc734",
   "metadata": {
    "papermill": {
     "duration": 0.101316,
     "end_time": "2022-04-30T07:04:19.229837",
     "exception": false,
     "start_time": "2022-04-30T07:04:19.128521",
     "status": "completed"
    },
    "tags": []
   },
   "source": [
    "Now we're ready to train:"
   ]
  },
  {
   "cell_type": "code",
   "execution_count": 51,
   "id": "984fc924",
   "metadata": {
    "execution": {
     "iopub.execute_input": "2022-04-30T07:04:19.440190Z",
     "iopub.status.busy": "2022-04-30T07:04:19.439192Z",
     "iopub.status.idle": "2022-04-30T07:12:22.764465Z",
     "shell.execute_reply": "2022-04-30T07:12:22.764832Z",
     "shell.execute_reply.started": "2022-04-22T06:24:45.732606Z"
    },
    "papermill": {
     "duration": 483.432855,
     "end_time": "2022-04-30T07:12:22.765026",
     "exception": false,
     "start_time": "2022-04-30T07:04:19.332171",
     "status": "completed"
    },
    "tags": []
   },
   "outputs": [
    {
     "data": {
      "text/html": [
       "\n",
       "    <div>\n",
       "      \n",
       "      <progress value='856' max='856' style='width:300px; height:20px; vertical-align: middle;'></progress>\n",
       "      [856/856 08:02, Epoch 4/4]\n",
       "    </div>\n",
       "    <table border=\"1\" class=\"dataframe\">\n",
       "  <thead>\n",
       " <tr style=\"text-align: left;\">\n",
       "      <th>Epoch</th>\n",
       "      <th>Training Loss</th>\n",
       "      <th>Validation Loss</th>\n",
       "      <th>Pearson</th>\n",
       "    </tr>\n",
       "  </thead>\n",
       "  <tbody>\n",
       "    <tr>\n",
       "      <td>1</td>\n",
       "      <td>No log</td>\n",
       "      <td>0.024950</td>\n",
       "      <td>0.795196</td>\n",
       "    </tr>\n",
       "    <tr>\n",
       "      <td>2</td>\n",
       "      <td>No log</td>\n",
       "      <td>0.025180</td>\n",
       "      <td>0.815941</td>\n",
       "    </tr>\n",
       "    <tr>\n",
       "      <td>3</td>\n",
       "      <td>0.033200</td>\n",
       "      <td>0.023064</td>\n",
       "      <td>0.821236</td>\n",
       "    </tr>\n",
       "    <tr>\n",
       "      <td>4</td>\n",
       "      <td>0.033200</td>\n",
       "      <td>0.023997</td>\n",
       "      <td>0.821565</td>\n",
       "    </tr>\n",
       "  </tbody>\n",
       "</table><p>"
      ],
      "text/plain": [
       "<IPython.core.display.HTML object>"
      ]
     },
     "metadata": {},
     "output_type": "display_data"
    },
    {
     "data": {
      "text/plain": [
       "TrainOutput(global_step=856, training_loss=0.02477204743946824, metrics={'train_runtime': 483.1547, 'train_samples_per_second': 226.486, 'train_steps_per_second': 1.772, 'total_flos': 1594058495359110.0, 'train_loss': 0.02477204743946824, 'epoch': 4.0})"
      ]
     },
     "execution_count": 51,
     "metadata": {},
     "output_type": "execute_result"
    }
   ],
   "source": [
    "trainer = get_trainer(dds, model=model)\n",
    "trainer.train()"
   ]
  },
  {
   "cell_type": "markdown",
   "id": "1519ba2a",
   "metadata": {
    "papermill": {
     "duration": 0.098767,
     "end_time": "2022-04-30T07:12:22.964485",
     "exception": false,
     "start_time": "2022-04-30T07:12:22.865718",
     "status": "completed"
    },
    "tags": []
   },
   "source": [
    "It looks like we've made another bit of an improvement!\n",
    "\n",
    "There's plenty more things you could try. Here's some thoughts:\n",
    "\n",
    "- Try a model pretrained on legal vocabulary. E.g. how about [BERT for patents](https://huggingface.co/anferico/bert-for-patents)?\n",
    "- You'd likely get better results by using a sentence similarity model. Did you know that there's a [patent similarity model](https://huggingface.co/AI-Growth-Lab/PatentSBERTa) you could try?\n",
    "- You could also fine-tune any HuggingFace model using the full patent database (which is provided in BigQuery), before applying it to this dataset\n",
    "- Replace the patent context field with the description of that context provided by the patent office\n",
    "- ...and try out your own ideas too!\n",
    "\n",
    "Before submitting a model, retrain it on the full dataset, rather than just the 75% training subset we've used here. Create a function like the ones above to make that easy for you!\""
   ]
  },
  {
   "cell_type": "markdown",
   "id": "0afa9918",
   "metadata": {
    "papermill": {
     "duration": 0.101474,
     "end_time": "2022-04-30T07:12:23.165740",
     "exception": false,
     "start_time": "2022-04-30T07:12:23.064266",
     "status": "completed"
    },
    "tags": []
   },
   "source": [
    "## Cross-validation"
   ]
  },
  {
   "cell_type": "code",
   "execution_count": 52,
   "id": "f9135a28",
   "metadata": {
    "execution": {
     "iopub.execute_input": "2022-04-30T07:12:23.371292Z",
     "iopub.status.busy": "2022-04-30T07:12:23.370452Z",
     "iopub.status.idle": "2022-04-30T07:12:23.373369Z",
     "shell.execute_reply": "2022-04-30T07:12:23.372932Z",
     "shell.execute_reply.started": "2022-04-22T06:24:45.736248Z"
    },
    "papermill": {
     "duration": 0.10616,
     "end_time": "2022-04-30T07:12:23.373493",
     "exception": false,
     "start_time": "2022-04-30T07:12:23.267333",
     "status": "completed"
    },
    "tags": []
   },
   "outputs": [],
   "source": [
    "n_folds = 4"
   ]
  },
  {
   "cell_type": "markdown",
   "id": "63c537ca",
   "metadata": {
    "papermill": {
     "duration": 0.099724,
     "end_time": "2022-04-30T07:12:23.572955",
     "exception": false,
     "start_time": "2022-04-30T07:12:23.473231",
     "status": "completed"
    },
    "tags": []
   },
   "source": [
    "Once you've gotten the low hanging fruit, you might want to use cross-validation to see the impact of minor changes. This time we'll use [StratifiedGroupKFold](https://scikit-learn.org/stable/modules/generated/sklearn.model_selection.StratifiedGroupKFold.html#sklearn.model_selection.StratifiedGroupKFold), partly just to show a different approach to before, and partly because it will give us slightly better balanced datasets."
   ]
  },
  {
   "cell_type": "code",
   "execution_count": 53,
   "id": "a8594050",
   "metadata": {
    "execution": {
     "iopub.execute_input": "2022-04-30T07:12:23.785832Z",
     "iopub.status.busy": "2022-04-30T07:12:23.785179Z",
     "iopub.status.idle": "2022-04-30T07:12:23.800141Z",
     "shell.execute_reply": "2022-04-30T07:12:23.799662Z",
     "shell.execute_reply.started": "2022-04-22T06:24:45.73806Z"
    },
    "papermill": {
     "duration": 0.123765,
     "end_time": "2022-04-30T07:12:23.800272",
     "exception": false,
     "start_time": "2022-04-30T07:12:23.676507",
     "status": "completed"
    },
    "tags": []
   },
   "outputs": [],
   "source": [
    "from sklearn.model_selection import StratifiedGroupKFold\n",
    "\n",
    "cv = StratifiedGroupKFold(n_splits=n_folds)"
   ]
  },
  {
   "cell_type": "markdown",
   "id": "e3964c18",
   "metadata": {
    "papermill": {
     "duration": 0.100516,
     "end_time": "2022-04-30T07:12:24.005898",
     "exception": false,
     "start_time": "2022-04-30T07:12:23.905382",
     "status": "completed"
    },
    "tags": []
   },
   "source": [
    "Here's how to split the data frame into `n_folds` groups, with non-overlapping anchors and matched scores, after randomly shuffling the rows:"
   ]
  },
  {
   "cell_type": "code",
   "execution_count": 54,
   "id": "44b0535f",
   "metadata": {
    "execution": {
     "iopub.execute_input": "2022-04-30T07:12:24.214872Z",
     "iopub.status.busy": "2022-04-30T07:12:24.214005Z",
     "iopub.status.idle": "2022-04-30T07:12:24.581650Z",
     "shell.execute_reply": "2022-04-30T07:12:24.582041Z",
     "shell.execute_reply.started": "2022-04-22T06:24:45.739804Z"
    },
    "papermill": {
     "duration": 0.476673,
     "end_time": "2022-04-30T07:12:24.582196",
     "exception": false,
     "start_time": "2022-04-30T07:12:24.105523",
     "status": "completed"
    },
    "tags": []
   },
   "outputs": [
    {
     "data": {
      "text/plain": [
       "[(array([    0,     1,     2, ..., 36469, 36471, 36472]),\n",
       "  array([    8,    13,    14, ..., 36453, 36464, 36470])),\n",
       " (array([    0,     1,     5, ..., 36470, 36471, 36472]),\n",
       "  array([    2,     3,     4, ..., 36459, 36461, 36462])),\n",
       " (array([    1,     2,     3, ..., 36467, 36470, 36472]),\n",
       "  array([    0,     7,    11, ..., 36468, 36469, 36471])),\n",
       " (array([    0,     2,     3, ..., 36469, 36470, 36471]),\n",
       "  array([    1,     5,     9, ..., 36465, 36467, 36472]))]"
      ]
     },
     "execution_count": 54,
     "metadata": {},
     "output_type": "execute_result"
    }
   ],
   "source": [
    "train_df = train_df.sample(frac=1, random_state=42)\n",
    "scores = (train_df.score * 100).astype(int)\n",
    "folds = list(cv.split(idxs, scores, train_df.anchor))\n",
    "folds"
   ]
  },
  {
   "cell_type": "markdown",
   "id": "1f6304bc",
   "metadata": {
    "papermill": {
     "duration": 0.099335,
     "end_time": "2022-04-30T07:12:24.782472",
     "exception": false,
     "start_time": "2022-04-30T07:12:24.683137",
     "status": "completed"
    },
    "tags": []
   },
   "source": [
    "We can now create a little function to split into training and validation sets based on a fold:"
   ]
  },
  {
   "cell_type": "code",
   "execution_count": 55,
   "id": "1a6f5523",
   "metadata": {
    "execution": {
     "iopub.execute_input": "2022-04-30T07:12:24.988929Z",
     "iopub.status.busy": "2022-04-30T07:12:24.987344Z",
     "iopub.status.idle": "2022-04-30T07:12:24.989511Z",
     "shell.execute_reply": "2022-04-30T07:12:24.989899Z",
     "shell.execute_reply.started": "2022-04-22T06:24:45.741511Z"
    },
    "papermill": {
     "duration": 0.107787,
     "end_time": "2022-04-30T07:12:24.990056",
     "exception": false,
     "start_time": "2022-04-30T07:12:24.882269",
     "status": "completed"
    },
    "tags": []
   },
   "outputs": [],
   "source": [
    "def get_fold(folds, fold_num):\n",
    "    trn,val = folds[fold_num]\n",
    "    return DatasetDict({\"train\":token_ds.select(trn), \"test\": token_ds.select(val)})"
   ]
  },
  {
   "cell_type": "markdown",
   "id": "6037ffc5",
   "metadata": {
    "papermill": {
     "duration": 0.103472,
     "end_time": "2022-04-30T07:12:25.193409",
     "exception": false,
     "start_time": "2022-04-30T07:12:25.089937",
     "status": "completed"
    },
    "tags": []
   },
   "source": [
    "Let's try it out:"
   ]
  },
  {
   "cell_type": "code",
   "execution_count": 56,
   "id": "3bd03b47",
   "metadata": {
    "execution": {
     "iopub.execute_input": "2022-04-30T07:12:25.416137Z",
     "iopub.status.busy": "2022-04-30T07:12:25.415498Z",
     "iopub.status.idle": "2022-04-30T07:12:25.430001Z",
     "shell.execute_reply": "2022-04-30T07:12:25.429562Z",
     "shell.execute_reply.started": "2022-04-22T06:24:45.745252Z"
    },
    "papermill": {
     "duration": 0.13157,
     "end_time": "2022-04-30T07:12:25.430127",
     "exception": false,
     "start_time": "2022-04-30T07:12:25.298557",
     "status": "completed"
    },
    "tags": []
   },
   "outputs": [
    {
     "data": {
      "text/plain": [
       "DatasetDict({\n",
       "    train: Dataset({\n",
       "        features: ['label', 'input_ids', 'token_type_ids', 'attention_mask'],\n",
       "        num_rows: 27346\n",
       "    })\n",
       "    test: Dataset({\n",
       "        features: ['label', 'input_ids', 'token_type_ids', 'attention_mask'],\n",
       "        num_rows: 9127\n",
       "    })\n",
       "})"
      ]
     },
     "execution_count": 56,
     "metadata": {},
     "output_type": "execute_result"
    }
   ],
   "source": [
    "dds = get_fold(folds, 0)\n",
    "dds"
   ]
  },
  {
   "cell_type": "markdown",
   "id": "48ad50a5",
   "metadata": {
    "papermill": {
     "duration": 0.116799,
     "end_time": "2022-04-30T07:12:25.656365",
     "exception": false,
     "start_time": "2022-04-30T07:12:25.539566",
     "status": "completed"
    },
    "tags": []
   },
   "source": [
    "We can now pass this into `get_trainer` as we did before. If we have, say, 4 folds, then doing that for each fold will give us 4 models, and 4 sets of predictions and metrics. You could ensemble the 4 models to get a stronger model, and can also average the 4 metrics to get a more accurate assessment of your model. Here's how to get the final epoch metrics from a trainer:"
   ]
  },
  {
   "cell_type": "code",
   "execution_count": 57,
   "id": "1f083ff8",
   "metadata": {
    "execution": {
     "iopub.execute_input": "2022-04-30T07:12:25.885130Z",
     "iopub.status.busy": "2022-04-30T07:12:25.884454Z",
     "iopub.status.idle": "2022-04-30T07:12:25.887394Z",
     "shell.execute_reply": "2022-04-30T07:12:25.887820Z",
     "shell.execute_reply.started": "2022-04-22T06:24:45.747032Z"
    },
    "papermill": {
     "duration": 0.11687,
     "end_time": "2022-04-30T07:12:25.887992",
     "exception": false,
     "start_time": "2022-04-30T07:12:25.771122",
     "status": "completed"
    },
    "tags": []
   },
   "outputs": [
    {
     "data": {
      "text/plain": [
       "0.8215654374401374"
      ]
     },
     "execution_count": 57,
     "metadata": {},
     "output_type": "execute_result"
    }
   ],
   "source": [
    "metrics = [o['eval_pearson'] for o in trainer.state.log_history if 'eval_pearson' in o]\n",
    "metrics[-1]"
   ]
  },
  {
   "cell_type": "markdown",
   "id": "4953a7ce",
   "metadata": {
    "papermill": {
     "duration": 0.099885,
     "end_time": "2022-04-30T07:12:26.098184",
     "exception": false,
     "start_time": "2022-04-30T07:12:25.998299",
     "status": "completed"
    },
    "tags": []
   },
   "source": [
    "I hope you've found this a helpful guide to improving your results in this competition - and on Kaggle more generally! If you like it, please remember to give it an upvote, and don't hesitate to add a comment if you have any questions or thoughts to add. And if the ideas here are helpful to you in creating your models, I'd really appreciate a link back to this notebook or a comment below to let me know what helped."
   ]
  },
  {
   "cell_type": "code",
   "execution_count": null,
   "id": "9e93ee22",
   "metadata": {
    "papermill": {
     "duration": 0.109146,
     "end_time": "2022-04-30T07:12:26.311869",
     "exception": false,
     "start_time": "2022-04-30T07:12:26.202723",
     "status": "completed"
    },
    "tags": []
   },
   "outputs": [],
   "source": []
  }
 ],
 "metadata": {
  "kernelspec": {
   "display_name": "Python 3",
   "language": "python",
   "name": "python3"
  },
  "language_info": {
   "codemirror_mode": {
    "name": "ipython",
    "version": 3
   },
   "file_extension": ".py",
   "mimetype": "text/x-python",
   "name": "python",
   "nbconvert_exporter": "python",
   "pygments_lexer": "ipython3",
   "version": "3.7.12"
  },
  "papermill": {
   "default_parameters": {},
   "duration": 1778.486955,
   "end_time": "2022-04-30T07:12:29.698147",
   "environment_variables": {},
   "exception": null,
   "input_path": "__notebook__.ipynb",
   "output_path": "__notebook__.ipynb",
   "parameters": {},
   "start_time": "2022-04-30T06:42:51.211192",
   "version": "2.3.3"
  },
  "widgets": {
   "application/vnd.jupyter.widget-state+json": {
    "state": {
     "042a8de10e18451c9cf0b69f64e15a1a": {
      "model_module": "@jupyter-widgets/controls",
      "model_module_version": "1.5.0",
      "model_name": "FloatProgressModel",
      "state": {
       "_dom_classes": [],
       "_model_module": "@jupyter-widgets/controls",
       "_model_module_version": "1.5.0",
       "_model_name": "FloatProgressModel",
       "_view_count": null,
       "_view_module": "@jupyter-widgets/controls",
       "_view_module_version": "1.5.0",
       "_view_name": "ProgressView",
       "bar_style": "success",
       "description": "",
       "description_tooltip": null,
       "layout": "IPY_MODEL_af27f6397b074ce1ad25e1f81b3d7965",
       "max": 2464616.0,
       "min": 0.0,
       "orientation": "horizontal",
       "style": "IPY_MODEL_e9a485a54de14cd2a8a83c6a4e87e659",
       "value": 2464616.0
      }
     },
     "043965cacf8140bba482a6c1e4c3dc75": {
      "model_module": "@jupyter-widgets/base",
      "model_module_version": "1.2.0",
      "model_name": "LayoutModel",
      "state": {
       "_model_module": "@jupyter-widgets/base",
       "_model_module_version": "1.2.0",
       "_model_name": "LayoutModel",
       "_view_count": null,
       "_view_module": "@jupyter-widgets/base",
       "_view_module_version": "1.2.0",
       "_view_name": "LayoutView",
       "align_content": null,
       "align_items": null,
       "align_self": null,
       "border": null,
       "bottom": null,
       "display": null,
       "flex": null,
       "flex_flow": null,
       "grid_area": null,
       "grid_auto_columns": null,
       "grid_auto_flow": null,
       "grid_auto_rows": null,
       "grid_column": null,
       "grid_gap": null,
       "grid_row": null,
       "grid_template_areas": null,
       "grid_template_columns": null,
       "grid_template_rows": null,
       "height": null,
       "justify_content": null,
       "justify_items": null,
       "left": null,
       "margin": null,
       "max_height": null,
       "max_width": null,
       "min_height": null,
       "min_width": null,
       "object_fit": null,
       "object_position": null,
       "order": null,
       "overflow": null,
       "overflow_x": null,
       "overflow_y": null,
       "padding": null,
       "right": null,
       "top": null,
       "visibility": null,
       "width": null
      }
     },
     "05f9d76ce1d1498bb8ff677c6d6347df": {
      "model_module": "@jupyter-widgets/base",
      "model_module_version": "1.2.0",
      "model_name": "LayoutModel",
      "state": {
       "_model_module": "@jupyter-widgets/base",
       "_model_module_version": "1.2.0",
       "_model_name": "LayoutModel",
       "_view_count": null,
       "_view_module": "@jupyter-widgets/base",
       "_view_module_version": "1.2.0",
       "_view_name": "LayoutView",
       "align_content": null,
       "align_items": null,
       "align_self": null,
       "border": null,
       "bottom": null,
       "display": null,
       "flex": null,
       "flex_flow": null,
       "grid_area": null,
       "grid_auto_columns": null,
       "grid_auto_flow": null,
       "grid_auto_rows": null,
       "grid_column": null,
       "grid_gap": null,
       "grid_row": null,
       "grid_template_areas": null,
       "grid_template_columns": null,
       "grid_template_rows": null,
       "height": null,
       "justify_content": null,
       "justify_items": null,
       "left": null,
       "margin": null,
       "max_height": null,
       "max_width": null,
       "min_height": null,
       "min_width": null,
       "object_fit": null,
       "object_position": null,
       "order": null,
       "overflow": null,
       "overflow_x": null,
       "overflow_y": null,
       "padding": null,
       "right": null,
       "top": null,
       "visibility": null,
       "width": null
      }
     },
     "091567550bb0432486dd78634cbe6bea": {
      "model_module": "@jupyter-widgets/controls",
      "model_module_version": "1.5.0",
      "model_name": "HBoxModel",
      "state": {
       "_dom_classes": [],
       "_model_module": "@jupyter-widgets/controls",
       "_model_module_version": "1.5.0",
       "_model_name": "HBoxModel",
       "_view_count": null,
       "_view_module": "@jupyter-widgets/controls",
       "_view_module_version": "1.5.0",
       "_view_name": "HBoxView",
       "box_style": "",
       "children": [
        "IPY_MODEL_cb7bda9dada94983aae454cf541ad094",
        "IPY_MODEL_397ebb47243b43a984452e889ab02656",
        "IPY_MODEL_9b2d9ef9ea31499dab36f646414423e5"
       ],
       "layout": "IPY_MODEL_c511025977e64a1785e80b03148772d4"
      }
     },
     "0b579dc10b5a4d2d8ea411f148b8ad4d": {
      "model_module": "@jupyter-widgets/controls",
      "model_module_version": "1.5.0",
      "model_name": "DescriptionStyleModel",
      "state": {
       "_model_module": "@jupyter-widgets/controls",
       "_model_module_version": "1.5.0",
       "_model_name": "DescriptionStyleModel",
       "_view_count": null,
       "_view_module": "@jupyter-widgets/base",
       "_view_module_version": "1.2.0",
       "_view_name": "StyleView",
       "description_width": ""
      }
     },
     "0d6104bb26524d68b96c700e906e55ab": {
      "model_module": "@jupyter-widgets/controls",
      "model_module_version": "1.5.0",
      "model_name": "HTMLModel",
      "state": {
       "_dom_classes": [],
       "_model_module": "@jupyter-widgets/controls",
       "_model_module_version": "1.5.0",
       "_model_name": "HTMLModel",
       "_view_count": null,
       "_view_module": "@jupyter-widgets/controls",
       "_view_module_version": "1.5.0",
       "_view_name": "HTMLView",
       "description": "",
       "description_tooltip": null,
       "layout": "IPY_MODEL_b4f939324f4d48db9b5767af3e7a48c9",
       "placeholder": "​",
       "style": "IPY_MODEL_cf12c6a4e37b4ceabfbb61ab68683693",
       "value": " 37/37 [00:09&lt;00:00,  4.73ba/s]"
      }
     },
     "0ec4684adda24e6b9d7cafab4165dd77": {
      "model_module": "@jupyter-widgets/controls",
      "model_module_version": "1.5.0",
      "model_name": "HBoxModel",
      "state": {
       "_dom_classes": [],
       "_model_module": "@jupyter-widgets/controls",
       "_model_module_version": "1.5.0",
       "_model_name": "HBoxModel",
       "_view_count": null,
       "_view_module": "@jupyter-widgets/controls",
       "_view_module_version": "1.5.0",
       "_view_name": "HBoxView",
       "box_style": "",
       "children": [
        "IPY_MODEL_1f2b00a99cf748c6ba609dcaf9418d1e",
        "IPY_MODEL_042a8de10e18451c9cf0b69f64e15a1a",
        "IPY_MODEL_d94bdd17e6364d0c820083a2a677d586"
       ],
       "layout": "IPY_MODEL_47cb31cd528144c4bfa97f0b7d0b3507"
      }
     },
     "0f0043c4bd0a45dda115b5f26d361cd6": {
      "model_module": "@jupyter-widgets/controls",
      "model_module_version": "1.5.0",
      "model_name": "DescriptionStyleModel",
      "state": {
       "_model_module": "@jupyter-widgets/controls",
       "_model_module_version": "1.5.0",
       "_model_name": "DescriptionStyleModel",
       "_view_count": null,
       "_view_module": "@jupyter-widgets/base",
       "_view_module_version": "1.2.0",
       "_view_name": "StyleView",
       "description_width": ""
      }
     },
     "1856ab8b3a2d4b84be683c632893adf3": {
      "model_module": "@jupyter-widgets/controls",
      "model_module_version": "1.5.0",
      "model_name": "FloatProgressModel",
      "state": {
       "_dom_classes": [],
       "_model_module": "@jupyter-widgets/controls",
       "_model_module_version": "1.5.0",
       "_model_name": "FloatProgressModel",
       "_view_count": null,
       "_view_module": "@jupyter-widgets/controls",
       "_view_module_version": "1.5.0",
       "_view_name": "ProgressView",
       "bar_style": "success",
       "description": "",
       "description_tooltip": null,
       "layout": "IPY_MODEL_d22213a717bf438ca83d29d4e917beff",
       "max": 37.0,
       "min": 0.0,
       "orientation": "horizontal",
       "style": "IPY_MODEL_38a28b7cdda547ddbcb5a36f3a186635",
       "value": 37.0
      }
     },
     "1f2b00a99cf748c6ba609dcaf9418d1e": {
      "model_module": "@jupyter-widgets/controls",
      "model_module_version": "1.5.0",
      "model_name": "HTMLModel",
      "state": {
       "_dom_classes": [],
       "_model_module": "@jupyter-widgets/controls",
       "_model_module_version": "1.5.0",
       "_model_name": "HTMLModel",
       "_view_count": null,
       "_view_module": "@jupyter-widgets/controls",
       "_view_module_version": "1.5.0",
       "_view_name": "HTMLView",
       "description": "",
       "description_tooltip": null,
       "layout": "IPY_MODEL_77f590728a0c422dac474f4f39993525",
       "placeholder": "​",
       "style": "IPY_MODEL_511d8573005e49b3b80b52d8e7a05883",
       "value": "Downloading: 100%"
      }
     },
     "24439cb230ea4c9e84a2cbba9d3b7c39": {
      "model_module": "@jupyter-widgets/controls",
      "model_module_version": "1.5.0",
      "model_name": "FloatProgressModel",
      "state": {
       "_dom_classes": [],
       "_model_module": "@jupyter-widgets/controls",
       "_model_module_version": "1.5.0",
       "_model_name": "FloatProgressModel",
       "_view_count": null,
       "_view_module": "@jupyter-widgets/controls",
       "_view_module_version": "1.5.0",
       "_view_name": "ProgressView",
       "bar_style": "success",
       "description": "",
       "description_tooltip": null,
       "layout": "IPY_MODEL_9bde5c89565e4fefbf0fd3e505a7fe59",
       "max": 37.0,
       "min": 0.0,
       "orientation": "horizontal",
       "style": "IPY_MODEL_f75a70d07de74838b78f245c8d8ff962",
       "value": 37.0
      }
     },
     "2476e8ae6cc941a58802302381b33108": {
      "model_module": "@jupyter-widgets/controls",
      "model_module_version": "1.5.0",
      "model_name": "HTMLModel",
      "state": {
       "_dom_classes": [],
       "_model_module": "@jupyter-widgets/controls",
       "_model_module_version": "1.5.0",
       "_model_name": "HTMLModel",
       "_view_count": null,
       "_view_module": "@jupyter-widgets/controls",
       "_view_module_version": "1.5.0",
       "_view_name": "HTMLView",
       "description": "",
       "description_tooltip": null,
       "layout": "IPY_MODEL_3ff8a4a9564c445897229fdbd873a88c",
       "placeholder": "​",
       "style": "IPY_MODEL_aee23dc38cf3419d86736bbc404a5f77",
       "value": " 273M/273M [00:10&lt;00:00, 31.4MB/s]"
      }
     },
     "254d6d491c8e493eb566e981771abc21": {
      "model_module": "@jupyter-widgets/controls",
      "model_module_version": "1.5.0",
      "model_name": "HTMLModel",
      "state": {
       "_dom_classes": [],
       "_model_module": "@jupyter-widgets/controls",
       "_model_module_version": "1.5.0",
       "_model_name": "HTMLModel",
       "_view_count": null,
       "_view_module": "@jupyter-widgets/controls",
       "_view_module_version": "1.5.0",
       "_view_name": "HTMLView",
       "description": "",
       "description_tooltip": null,
       "layout": "IPY_MODEL_b16fcdcaa3eb42c990f2fa076b31ae19",
       "placeholder": "​",
       "style": "IPY_MODEL_539cb01bd5d7450f91ffab21b53c9f8c",
       "value": " 578/578 [00:00&lt;00:00, 21.1kB/s]"
      }
     },
     "26c4b62c3b9347c4bbc67e6f8b78bbbc": {
      "model_module": "@jupyter-widgets/controls",
      "model_module_version": "1.5.0",
      "model_name": "ProgressStyleModel",
      "state": {
       "_model_module": "@jupyter-widgets/controls",
       "_model_module_version": "1.5.0",
       "_model_name": "ProgressStyleModel",
       "_view_count": null,
       "_view_module": "@jupyter-widgets/base",
       "_view_module_version": "1.2.0",
       "_view_name": "StyleView",
       "bar_color": null,
       "description_width": ""
      }
     },
     "297eb17b481e465fa1206be483e58e3f": {
      "model_module": "@jupyter-widgets/controls",
      "model_module_version": "1.5.0",
      "model_name": "ProgressStyleModel",
      "state": {
       "_model_module": "@jupyter-widgets/controls",
       "_model_module_version": "1.5.0",
       "_model_name": "ProgressStyleModel",
       "_view_count": null,
       "_view_module": "@jupyter-widgets/base",
       "_view_module_version": "1.2.0",
       "_view_name": "StyleView",
       "bar_color": null,
       "description_width": ""
      }
     },
     "3852438d227246d4904c2435fd162354": {
      "model_module": "@jupyter-widgets/controls",
      "model_module_version": "1.5.0",
      "model_name": "FloatProgressModel",
      "state": {
       "_dom_classes": [],
       "_model_module": "@jupyter-widgets/controls",
       "_model_module_version": "1.5.0",
       "_model_name": "FloatProgressModel",
       "_view_count": null,
       "_view_module": "@jupyter-widgets/controls",
       "_view_module_version": "1.5.0",
       "_view_name": "ProgressView",
       "bar_style": "success",
       "description": "",
       "description_tooltip": null,
       "layout": "IPY_MODEL_3a863ba7caf3438db1bc887c53a17428",
       "max": 286059269.0,
       "min": 0.0,
       "orientation": "horizontal",
       "style": "IPY_MODEL_26c4b62c3b9347c4bbc67e6f8b78bbbc",
       "value": 286059269.0
      }
     },
     "38a28b7cdda547ddbcb5a36f3a186635": {
      "model_module": "@jupyter-widgets/controls",
      "model_module_version": "1.5.0",
      "model_name": "ProgressStyleModel",
      "state": {
       "_model_module": "@jupyter-widgets/controls",
       "_model_module_version": "1.5.0",
       "_model_name": "ProgressStyleModel",
       "_view_count": null,
       "_view_module": "@jupyter-widgets/base",
       "_view_module_version": "1.2.0",
       "_view_name": "StyleView",
       "bar_color": null,
       "description_width": ""
      }
     },
     "397ebb47243b43a984452e889ab02656": {
      "model_module": "@jupyter-widgets/controls",
      "model_module_version": "1.5.0",
      "model_name": "FloatProgressModel",
      "state": {
       "_dom_classes": [],
       "_model_module": "@jupyter-widgets/controls",
       "_model_module_version": "1.5.0",
       "_model_name": "FloatProgressModel",
       "_view_count": null,
       "_view_module": "@jupyter-widgets/controls",
       "_view_module_version": "1.5.0",
       "_view_name": "ProgressView",
       "bar_style": "success",
       "description": "",
       "description_tooltip": null,
       "layout": "IPY_MODEL_4a53459850b64a34a073950249ab4f56",
       "max": 37.0,
       "min": 0.0,
       "orientation": "horizontal",
       "style": "IPY_MODEL_d1f0edf089304a3b8353267b86cb2aa5",
       "value": 37.0
      }
     },
     "3a34cd6db65c4d3db5a4e44f4867aac7": {
      "model_module": "@jupyter-widgets/controls",
      "model_module_version": "1.5.0",
      "model_name": "HBoxModel",
      "state": {
       "_dom_classes": [],
       "_model_module": "@jupyter-widgets/controls",
       "_model_module_version": "1.5.0",
       "_model_name": "HBoxModel",
       "_view_count": null,
       "_view_module": "@jupyter-widgets/controls",
       "_view_module_version": "1.5.0",
       "_view_name": "HBoxView",
       "box_style": "",
       "children": [
        "IPY_MODEL_44520113f8594e77a9247e38a17cfbb8",
        "IPY_MODEL_24439cb230ea4c9e84a2cbba9d3b7c39",
        "IPY_MODEL_7926e4882cd847269283dbf6e8f8637a"
       ],
       "layout": "IPY_MODEL_e9c71732d896472abfdd54d558c837a8"
      }
     },
     "3a863ba7caf3438db1bc887c53a17428": {
      "model_module": "@jupyter-widgets/base",
      "model_module_version": "1.2.0",
      "model_name": "LayoutModel",
      "state": {
       "_model_module": "@jupyter-widgets/base",
       "_model_module_version": "1.2.0",
       "_model_name": "LayoutModel",
       "_view_count": null,
       "_view_module": "@jupyter-widgets/base",
       "_view_module_version": "1.2.0",
       "_view_name": "LayoutView",
       "align_content": null,
       "align_items": null,
       "align_self": null,
       "border": null,
       "bottom": null,
       "display": null,
       "flex": null,
       "flex_flow": null,
       "grid_area": null,
       "grid_auto_columns": null,
       "grid_auto_flow": null,
       "grid_auto_rows": null,
       "grid_column": null,
       "grid_gap": null,
       "grid_row": null,
       "grid_template_areas": null,
       "grid_template_columns": null,
       "grid_template_rows": null,
       "height": null,
       "justify_content": null,
       "justify_items": null,
       "left": null,
       "margin": null,
       "max_height": null,
       "max_width": null,
       "min_height": null,
       "min_width": null,
       "object_fit": null,
       "object_position": null,
       "order": null,
       "overflow": null,
       "overflow_x": null,
       "overflow_y": null,
       "padding": null,
       "right": null,
       "top": null,
       "visibility": null,
       "width": null
      }
     },
     "3ff8a4a9564c445897229fdbd873a88c": {
      "model_module": "@jupyter-widgets/base",
      "model_module_version": "1.2.0",
      "model_name": "LayoutModel",
      "state": {
       "_model_module": "@jupyter-widgets/base",
       "_model_module_version": "1.2.0",
       "_model_name": "LayoutModel",
       "_view_count": null,
       "_view_module": "@jupyter-widgets/base",
       "_view_module_version": "1.2.0",
       "_view_name": "LayoutView",
       "align_content": null,
       "align_items": null,
       "align_self": null,
       "border": null,
       "bottom": null,
       "display": null,
       "flex": null,
       "flex_flow": null,
       "grid_area": null,
       "grid_auto_columns": null,
       "grid_auto_flow": null,
       "grid_auto_rows": null,
       "grid_column": null,
       "grid_gap": null,
       "grid_row": null,
       "grid_template_areas": null,
       "grid_template_columns": null,
       "grid_template_rows": null,
       "height": null,
       "justify_content": null,
       "justify_items": null,
       "left": null,
       "margin": null,
       "max_height": null,
       "max_width": null,
       "min_height": null,
       "min_width": null,
       "object_fit": null,
       "object_position": null,
       "order": null,
       "overflow": null,
       "overflow_x": null,
       "overflow_y": null,
       "padding": null,
       "right": null,
       "top": null,
       "visibility": null,
       "width": null
      }
     },
     "414e349f5e56439fa5e0727e575cdb4c": {
      "model_module": "@jupyter-widgets/base",
      "model_module_version": "1.2.0",
      "model_name": "LayoutModel",
      "state": {
       "_model_module": "@jupyter-widgets/base",
       "_model_module_version": "1.2.0",
       "_model_name": "LayoutModel",
       "_view_count": null,
       "_view_module": "@jupyter-widgets/base",
       "_view_module_version": "1.2.0",
       "_view_name": "LayoutView",
       "align_content": null,
       "align_items": null,
       "align_self": null,
       "border": null,
       "bottom": null,
       "display": null,
       "flex": null,
       "flex_flow": null,
       "grid_area": null,
       "grid_auto_columns": null,
       "grid_auto_flow": null,
       "grid_auto_rows": null,
       "grid_column": null,
       "grid_gap": null,
       "grid_row": null,
       "grid_template_areas": null,
       "grid_template_columns": null,
       "grid_template_rows": null,
       "height": null,
       "justify_content": null,
       "justify_items": null,
       "left": null,
       "margin": null,
       "max_height": null,
       "max_width": null,
       "min_height": null,
       "min_width": null,
       "object_fit": null,
       "object_position": null,
       "order": null,
       "overflow": null,
       "overflow_x": null,
       "overflow_y": null,
       "padding": null,
       "right": null,
       "top": null,
       "visibility": null,
       "width": null
      }
     },
     "418f591bb5f741368a62ce5e25d8f34f": {
      "model_module": "@jupyter-widgets/controls",
      "model_module_version": "1.5.0",
      "model_name": "HTMLModel",
      "state": {
       "_dom_classes": [],
       "_model_module": "@jupyter-widgets/controls",
       "_model_module_version": "1.5.0",
       "_model_name": "HTMLModel",
       "_view_count": null,
       "_view_module": "@jupyter-widgets/controls",
       "_view_module_version": "1.5.0",
       "_view_name": "HTMLView",
       "description": "",
       "description_tooltip": null,
       "layout": "IPY_MODEL_4af1bbe0f92542f0b437054bdf21e57a",
       "placeholder": "​",
       "style": "IPY_MODEL_b2f68f6fa42f459fbff9bc18a1e98093",
       "value": "Downloading: 100%"
      }
     },
     "42c861f6477648ffb8c3fa9139fbb40f": {
      "model_module": "@jupyter-widgets/controls",
      "model_module_version": "1.5.0",
      "model_name": "HBoxModel",
      "state": {
       "_dom_classes": [],
       "_model_module": "@jupyter-widgets/controls",
       "_model_module_version": "1.5.0",
       "_model_name": "HBoxModel",
       "_view_count": null,
       "_view_module": "@jupyter-widgets/controls",
       "_view_module_version": "1.5.0",
       "_view_name": "HBoxView",
       "box_style": "",
       "children": [
        "IPY_MODEL_e7a044202e7f4b09a653d7017870ac86",
        "IPY_MODEL_fba8ac6008f042acbfafcc2489f77a36",
        "IPY_MODEL_254d6d491c8e493eb566e981771abc21"
       ],
       "layout": "IPY_MODEL_962519fad9474ca4a06ddc02931d1721"
      }
     },
     "444e24e81b0147f1bf2a6ffa657b4b76": {
      "model_module": "@jupyter-widgets/base",
      "model_module_version": "1.2.0",
      "model_name": "LayoutModel",
      "state": {
       "_model_module": "@jupyter-widgets/base",
       "_model_module_version": "1.2.0",
       "_model_name": "LayoutModel",
       "_view_count": null,
       "_view_module": "@jupyter-widgets/base",
       "_view_module_version": "1.2.0",
       "_view_name": "LayoutView",
       "align_content": null,
       "align_items": null,
       "align_self": null,
       "border": null,
       "bottom": null,
       "display": null,
       "flex": null,
       "flex_flow": null,
       "grid_area": null,
       "grid_auto_columns": null,
       "grid_auto_flow": null,
       "grid_auto_rows": null,
       "grid_column": null,
       "grid_gap": null,
       "grid_row": null,
       "grid_template_areas": null,
       "grid_template_columns": null,
       "grid_template_rows": null,
       "height": null,
       "justify_content": null,
       "justify_items": null,
       "left": null,
       "margin": null,
       "max_height": null,
       "max_width": null,
       "min_height": null,
       "min_width": null,
       "object_fit": null,
       "object_position": null,
       "order": null,
       "overflow": null,
       "overflow_x": null,
       "overflow_y": null,
       "padding": null,
       "right": null,
       "top": null,
       "visibility": null,
       "width": null
      }
     },
     "44520113f8594e77a9247e38a17cfbb8": {
      "model_module": "@jupyter-widgets/controls",
      "model_module_version": "1.5.0",
      "model_name": "HTMLModel",
      "state": {
       "_dom_classes": [],
       "_model_module": "@jupyter-widgets/controls",
       "_model_module_version": "1.5.0",
       "_model_name": "HTMLModel",
       "_view_count": null,
       "_view_module": "@jupyter-widgets/controls",
       "_view_module_version": "1.5.0",
       "_view_name": "HTMLView",
       "description": "",
       "description_tooltip": null,
       "layout": "IPY_MODEL_d03d865e68394d13a4ab1ccb322a123f",
       "placeholder": "​",
       "style": "IPY_MODEL_baafdbb860ae4e7bafc804de49402548",
       "value": "100%"
      }
     },
     "47cb31cd528144c4bfa97f0b7d0b3507": {
      "model_module": "@jupyter-widgets/base",
      "model_module_version": "1.2.0",
      "model_name": "LayoutModel",
      "state": {
       "_model_module": "@jupyter-widgets/base",
       "_model_module_version": "1.2.0",
       "_model_name": "LayoutModel",
       "_view_count": null,
       "_view_module": "@jupyter-widgets/base",
       "_view_module_version": "1.2.0",
       "_view_name": "LayoutView",
       "align_content": null,
       "align_items": null,
       "align_self": null,
       "border": null,
       "bottom": null,
       "display": null,
       "flex": null,
       "flex_flow": null,
       "grid_area": null,
       "grid_auto_columns": null,
       "grid_auto_flow": null,
       "grid_auto_rows": null,
       "grid_column": null,
       "grid_gap": null,
       "grid_row": null,
       "grid_template_areas": null,
       "grid_template_columns": null,
       "grid_template_rows": null,
       "height": null,
       "justify_content": null,
       "justify_items": null,
       "left": null,
       "margin": null,
       "max_height": null,
       "max_width": null,
       "min_height": null,
       "min_width": null,
       "object_fit": null,
       "object_position": null,
       "order": null,
       "overflow": null,
       "overflow_x": null,
       "overflow_y": null,
       "padding": null,
       "right": null,
       "top": null,
       "visibility": null,
       "width": null
      }
     },
     "47e95cc5f84942feb9c78294774a4889": {
      "model_module": "@jupyter-widgets/base",
      "model_module_version": "1.2.0",
      "model_name": "LayoutModel",
      "state": {
       "_model_module": "@jupyter-widgets/base",
       "_model_module_version": "1.2.0",
       "_model_name": "LayoutModel",
       "_view_count": null,
       "_view_module": "@jupyter-widgets/base",
       "_view_module_version": "1.2.0",
       "_view_name": "LayoutView",
       "align_content": null,
       "align_items": null,
       "align_self": null,
       "border": null,
       "bottom": null,
       "display": null,
       "flex": null,
       "flex_flow": null,
       "grid_area": null,
       "grid_auto_columns": null,
       "grid_auto_flow": null,
       "grid_auto_rows": null,
       "grid_column": null,
       "grid_gap": null,
       "grid_row": null,
       "grid_template_areas": null,
       "grid_template_columns": null,
       "grid_template_rows": null,
       "height": null,
       "justify_content": null,
       "justify_items": null,
       "left": null,
       "margin": null,
       "max_height": null,
       "max_width": null,
       "min_height": null,
       "min_width": null,
       "object_fit": null,
       "object_position": null,
       "order": null,
       "overflow": null,
       "overflow_x": null,
       "overflow_y": null,
       "padding": null,
       "right": null,
       "top": null,
       "visibility": null,
       "width": null
      }
     },
     "4a53459850b64a34a073950249ab4f56": {
      "model_module": "@jupyter-widgets/base",
      "model_module_version": "1.2.0",
      "model_name": "LayoutModel",
      "state": {
       "_model_module": "@jupyter-widgets/base",
       "_model_module_version": "1.2.0",
       "_model_name": "LayoutModel",
       "_view_count": null,
       "_view_module": "@jupyter-widgets/base",
       "_view_module_version": "1.2.0",
       "_view_name": "LayoutView",
       "align_content": null,
       "align_items": null,
       "align_self": null,
       "border": null,
       "bottom": null,
       "display": null,
       "flex": null,
       "flex_flow": null,
       "grid_area": null,
       "grid_auto_columns": null,
       "grid_auto_flow": null,
       "grid_auto_rows": null,
       "grid_column": null,
       "grid_gap": null,
       "grid_row": null,
       "grid_template_areas": null,
       "grid_template_columns": null,
       "grid_template_rows": null,
       "height": null,
       "justify_content": null,
       "justify_items": null,
       "left": null,
       "margin": null,
       "max_height": null,
       "max_width": null,
       "min_height": null,
       "min_width": null,
       "object_fit": null,
       "object_position": null,
       "order": null,
       "overflow": null,
       "overflow_x": null,
       "overflow_y": null,
       "padding": null,
       "right": null,
       "top": null,
       "visibility": null,
       "width": null
      }
     },
     "4a6350fd28734a9a897a8d18eb902d31": {
      "model_module": "@jupyter-widgets/base",
      "model_module_version": "1.2.0",
      "model_name": "LayoutModel",
      "state": {
       "_model_module": "@jupyter-widgets/base",
       "_model_module_version": "1.2.0",
       "_model_name": "LayoutModel",
       "_view_count": null,
       "_view_module": "@jupyter-widgets/base",
       "_view_module_version": "1.2.0",
       "_view_name": "LayoutView",
       "align_content": null,
       "align_items": null,
       "align_self": null,
       "border": null,
       "bottom": null,
       "display": null,
       "flex": null,
       "flex_flow": null,
       "grid_area": null,
       "grid_auto_columns": null,
       "grid_auto_flow": null,
       "grid_auto_rows": null,
       "grid_column": null,
       "grid_gap": null,
       "grid_row": null,
       "grid_template_areas": null,
       "grid_template_columns": null,
       "grid_template_rows": null,
       "height": null,
       "justify_content": null,
       "justify_items": null,
       "left": null,
       "margin": null,
       "max_height": null,
       "max_width": null,
       "min_height": null,
       "min_width": null,
       "object_fit": null,
       "object_position": null,
       "order": null,
       "overflow": null,
       "overflow_x": null,
       "overflow_y": null,
       "padding": null,
       "right": null,
       "top": null,
       "visibility": null,
       "width": null
      }
     },
     "4af1bbe0f92542f0b437054bdf21e57a": {
      "model_module": "@jupyter-widgets/base",
      "model_module_version": "1.2.0",
      "model_name": "LayoutModel",
      "state": {
       "_model_module": "@jupyter-widgets/base",
       "_model_module_version": "1.2.0",
       "_model_name": "LayoutModel",
       "_view_count": null,
       "_view_module": "@jupyter-widgets/base",
       "_view_module_version": "1.2.0",
       "_view_name": "LayoutView",
       "align_content": null,
       "align_items": null,
       "align_self": null,
       "border": null,
       "bottom": null,
       "display": null,
       "flex": null,
       "flex_flow": null,
       "grid_area": null,
       "grid_auto_columns": null,
       "grid_auto_flow": null,
       "grid_auto_rows": null,
       "grid_column": null,
       "grid_gap": null,
       "grid_row": null,
       "grid_template_areas": null,
       "grid_template_columns": null,
       "grid_template_rows": null,
       "height": null,
       "justify_content": null,
       "justify_items": null,
       "left": null,
       "margin": null,
       "max_height": null,
       "max_width": null,
       "min_height": null,
       "min_width": null,
       "object_fit": null,
       "object_position": null,
       "order": null,
       "overflow": null,
       "overflow_x": null,
       "overflow_y": null,
       "padding": null,
       "right": null,
       "top": null,
       "visibility": null,
       "width": null
      }
     },
     "511d8573005e49b3b80b52d8e7a05883": {
      "model_module": "@jupyter-widgets/controls",
      "model_module_version": "1.5.0",
      "model_name": "DescriptionStyleModel",
      "state": {
       "_model_module": "@jupyter-widgets/controls",
       "_model_module_version": "1.5.0",
       "_model_name": "DescriptionStyleModel",
       "_view_count": null,
       "_view_module": "@jupyter-widgets/base",
       "_view_module_version": "1.2.0",
       "_view_name": "StyleView",
       "description_width": ""
      }
     },
     "539cb01bd5d7450f91ffab21b53c9f8c": {
      "model_module": "@jupyter-widgets/controls",
      "model_module_version": "1.5.0",
      "model_name": "DescriptionStyleModel",
      "state": {
       "_model_module": "@jupyter-widgets/controls",
       "_model_module_version": "1.5.0",
       "_model_name": "DescriptionStyleModel",
       "_view_count": null,
       "_view_module": "@jupyter-widgets/base",
       "_view_module_version": "1.2.0",
       "_view_name": "StyleView",
       "description_width": ""
      }
     },
     "59ae7618b68f4bfca458442a18691800": {
      "model_module": "@jupyter-widgets/base",
      "model_module_version": "1.2.0",
      "model_name": "LayoutModel",
      "state": {
       "_model_module": "@jupyter-widgets/base",
       "_model_module_version": "1.2.0",
       "_model_name": "LayoutModel",
       "_view_count": null,
       "_view_module": "@jupyter-widgets/base",
       "_view_module_version": "1.2.0",
       "_view_name": "LayoutView",
       "align_content": null,
       "align_items": null,
       "align_self": null,
       "border": null,
       "bottom": null,
       "display": null,
       "flex": null,
       "flex_flow": null,
       "grid_area": null,
       "grid_auto_columns": null,
       "grid_auto_flow": null,
       "grid_auto_rows": null,
       "grid_column": null,
       "grid_gap": null,
       "grid_row": null,
       "grid_template_areas": null,
       "grid_template_columns": null,
       "grid_template_rows": null,
       "height": null,
       "justify_content": null,
       "justify_items": null,
       "left": null,
       "margin": null,
       "max_height": null,
       "max_width": null,
       "min_height": null,
       "min_width": null,
       "object_fit": null,
       "object_position": null,
       "order": null,
       "overflow": null,
       "overflow_x": null,
       "overflow_y": null,
       "padding": null,
       "right": null,
       "top": null,
       "visibility": null,
       "width": null
      }
     },
     "6db8a86a21474a3f922cb9d380de8167": {
      "model_module": "@jupyter-widgets/controls",
      "model_module_version": "1.5.0",
      "model_name": "HBoxModel",
      "state": {
       "_dom_classes": [],
       "_model_module": "@jupyter-widgets/controls",
       "_model_module_version": "1.5.0",
       "_model_name": "HBoxModel",
       "_view_count": null,
       "_view_module": "@jupyter-widgets/controls",
       "_view_module_version": "1.5.0",
       "_view_name": "HBoxView",
       "box_style": "",
       "children": [
        "IPY_MODEL_7248b13d737644548fb929b4a45bb421",
        "IPY_MODEL_3852438d227246d4904c2435fd162354",
        "IPY_MODEL_2476e8ae6cc941a58802302381b33108"
       ],
       "layout": "IPY_MODEL_59ae7618b68f4bfca458442a18691800"
      }
     },
     "7248b13d737644548fb929b4a45bb421": {
      "model_module": "@jupyter-widgets/controls",
      "model_module_version": "1.5.0",
      "model_name": "HTMLModel",
      "state": {
       "_dom_classes": [],
       "_model_module": "@jupyter-widgets/controls",
       "_model_module_version": "1.5.0",
       "_model_name": "HTMLModel",
       "_view_count": null,
       "_view_module": "@jupyter-widgets/controls",
       "_view_module_version": "1.5.0",
       "_view_name": "HTMLView",
       "description": "",
       "description_tooltip": null,
       "layout": "IPY_MODEL_47e95cc5f84942feb9c78294774a4889",
       "placeholder": "​",
       "style": "IPY_MODEL_0b579dc10b5a4d2d8ea411f148b8ad4d",
       "value": "Downloading: 100%"
      }
     },
     "77f590728a0c422dac474f4f39993525": {
      "model_module": "@jupyter-widgets/base",
      "model_module_version": "1.2.0",
      "model_name": "LayoutModel",
      "state": {
       "_model_module": "@jupyter-widgets/base",
       "_model_module_version": "1.2.0",
       "_model_name": "LayoutModel",
       "_view_count": null,
       "_view_module": "@jupyter-widgets/base",
       "_view_module_version": "1.2.0",
       "_view_name": "LayoutView",
       "align_content": null,
       "align_items": null,
       "align_self": null,
       "border": null,
       "bottom": null,
       "display": null,
       "flex": null,
       "flex_flow": null,
       "grid_area": null,
       "grid_auto_columns": null,
       "grid_auto_flow": null,
       "grid_auto_rows": null,
       "grid_column": null,
       "grid_gap": null,
       "grid_row": null,
       "grid_template_areas": null,
       "grid_template_columns": null,
       "grid_template_rows": null,
       "height": null,
       "justify_content": null,
       "justify_items": null,
       "left": null,
       "margin": null,
       "max_height": null,
       "max_width": null,
       "min_height": null,
       "min_width": null,
       "object_fit": null,
       "object_position": null,
       "order": null,
       "overflow": null,
       "overflow_x": null,
       "overflow_y": null,
       "padding": null,
       "right": null,
       "top": null,
       "visibility": null,
       "width": null
      }
     },
     "7926e4882cd847269283dbf6e8f8637a": {
      "model_module": "@jupyter-widgets/controls",
      "model_module_version": "1.5.0",
      "model_name": "HTMLModel",
      "state": {
       "_dom_classes": [],
       "_model_module": "@jupyter-widgets/controls",
       "_model_module_version": "1.5.0",
       "_model_name": "HTMLModel",
       "_view_count": null,
       "_view_module": "@jupyter-widgets/controls",
       "_view_module_version": "1.5.0",
       "_view_name": "HTMLView",
       "description": "",
       "description_tooltip": null,
       "layout": "IPY_MODEL_8f6f3e6fda22437c83340d0dabe238fc",
       "placeholder": "​",
       "style": "IPY_MODEL_ee2573a55fb74ba59fa8be755857d785",
       "value": " 37/37 [00:05&lt;00:00,  6.93ba/s]"
      }
     },
     "7e5a4bc4ee704c0bbc1d7712b73f28cd": {
      "model_module": "@jupyter-widgets/base",
      "model_module_version": "1.2.0",
      "model_name": "LayoutModel",
      "state": {
       "_model_module": "@jupyter-widgets/base",
       "_model_module_version": "1.2.0",
       "_model_name": "LayoutModel",
       "_view_count": null,
       "_view_module": "@jupyter-widgets/base",
       "_view_module_version": "1.2.0",
       "_view_name": "LayoutView",
       "align_content": null,
       "align_items": null,
       "align_self": null,
       "border": null,
       "bottom": null,
       "display": null,
       "flex": null,
       "flex_flow": null,
       "grid_area": null,
       "grid_auto_columns": null,
       "grid_auto_flow": null,
       "grid_auto_rows": null,
       "grid_column": null,
       "grid_gap": null,
       "grid_row": null,
       "grid_template_areas": null,
       "grid_template_columns": null,
       "grid_template_rows": null,
       "height": null,
       "justify_content": null,
       "justify_items": null,
       "left": null,
       "margin": null,
       "max_height": null,
       "max_width": null,
       "min_height": null,
       "min_width": null,
       "object_fit": null,
       "object_position": null,
       "order": null,
       "overflow": null,
       "overflow_x": null,
       "overflow_y": null,
       "padding": null,
       "right": null,
       "top": null,
       "visibility": null,
       "width": null
      }
     },
     "82246d077e964b69baa78b36a942b2d8": {
      "model_module": "@jupyter-widgets/controls",
      "model_module_version": "1.5.0",
      "model_name": "DescriptionStyleModel",
      "state": {
       "_model_module": "@jupyter-widgets/controls",
       "_model_module_version": "1.5.0",
       "_model_name": "DescriptionStyleModel",
       "_view_count": null,
       "_view_module": "@jupyter-widgets/base",
       "_view_module_version": "1.2.0",
       "_view_name": "StyleView",
       "description_width": ""
      }
     },
     "8237b8982bda451dabbeb2f7b80d7bd3": {
      "model_module": "@jupyter-widgets/controls",
      "model_module_version": "1.5.0",
      "model_name": "FloatProgressModel",
      "state": {
       "_dom_classes": [],
       "_model_module": "@jupyter-widgets/controls",
       "_model_module_version": "1.5.0",
       "_model_name": "FloatProgressModel",
       "_view_count": null,
       "_view_module": "@jupyter-widgets/controls",
       "_view_module_version": "1.5.0",
       "_view_name": "ProgressView",
       "bar_style": "success",
       "description": "",
       "description_tooltip": null,
       "layout": "IPY_MODEL_4a6350fd28734a9a897a8d18eb902d31",
       "max": 52.0,
       "min": 0.0,
       "orientation": "horizontal",
       "style": "IPY_MODEL_ed0c48e1fb9440b9947c3bb4ff166116",
       "value": 52.0
      }
     },
     "8805464bdc9d48028f326a63cdda611f": {
      "model_module": "@jupyter-widgets/controls",
      "model_module_version": "1.5.0",
      "model_name": "DescriptionStyleModel",
      "state": {
       "_model_module": "@jupyter-widgets/controls",
       "_model_module_version": "1.5.0",
       "_model_name": "DescriptionStyleModel",
       "_view_count": null,
       "_view_module": "@jupyter-widgets/base",
       "_view_module_version": "1.2.0",
       "_view_name": "StyleView",
       "description_width": ""
      }
     },
     "89feb65b78ee442aa6f2499b0e2657ad": {
      "model_module": "@jupyter-widgets/controls",
      "model_module_version": "1.5.0",
      "model_name": "HTMLModel",
      "state": {
       "_dom_classes": [],
       "_model_module": "@jupyter-widgets/controls",
       "_model_module_version": "1.5.0",
       "_model_name": "HTMLModel",
       "_view_count": null,
       "_view_module": "@jupyter-widgets/controls",
       "_view_module_version": "1.5.0",
       "_view_name": "HTMLView",
       "description": "",
       "description_tooltip": null,
       "layout": "IPY_MODEL_a4db94dabc3d4a379ca76ec6f707d535",
       "placeholder": "​",
       "style": "IPY_MODEL_0f0043c4bd0a45dda115b5f26d361cd6",
       "value": " 52.0/52.0 [00:00&lt;00:00, 2.00kB/s]"
      }
     },
     "8f6f3e6fda22437c83340d0dabe238fc": {
      "model_module": "@jupyter-widgets/base",
      "model_module_version": "1.2.0",
      "model_name": "LayoutModel",
      "state": {
       "_model_module": "@jupyter-widgets/base",
       "_model_module_version": "1.2.0",
       "_model_name": "LayoutModel",
       "_view_count": null,
       "_view_module": "@jupyter-widgets/base",
       "_view_module_version": "1.2.0",
       "_view_name": "LayoutView",
       "align_content": null,
       "align_items": null,
       "align_self": null,
       "border": null,
       "bottom": null,
       "display": null,
       "flex": null,
       "flex_flow": null,
       "grid_area": null,
       "grid_auto_columns": null,
       "grid_auto_flow": null,
       "grid_auto_rows": null,
       "grid_column": null,
       "grid_gap": null,
       "grid_row": null,
       "grid_template_areas": null,
       "grid_template_columns": null,
       "grid_template_rows": null,
       "height": null,
       "justify_content": null,
       "justify_items": null,
       "left": null,
       "margin": null,
       "max_height": null,
       "max_width": null,
       "min_height": null,
       "min_width": null,
       "object_fit": null,
       "object_position": null,
       "order": null,
       "overflow": null,
       "overflow_x": null,
       "overflow_y": null,
       "padding": null,
       "right": null,
       "top": null,
       "visibility": null,
       "width": null
      }
     },
     "8fbd1e344c4c4b969c6f8fdda7dc4b46": {
      "model_module": "@jupyter-widgets/controls",
      "model_module_version": "1.5.0",
      "model_name": "DescriptionStyleModel",
      "state": {
       "_model_module": "@jupyter-widgets/controls",
       "_model_module_version": "1.5.0",
       "_model_name": "DescriptionStyleModel",
       "_view_count": null,
       "_view_module": "@jupyter-widgets/base",
       "_view_module_version": "1.2.0",
       "_view_name": "StyleView",
       "description_width": ""
      }
     },
     "91cd73f2314c4520ab23022b1f45e7c8": {
      "model_module": "@jupyter-widgets/controls",
      "model_module_version": "1.5.0",
      "model_name": "DescriptionStyleModel",
      "state": {
       "_model_module": "@jupyter-widgets/controls",
       "_model_module_version": "1.5.0",
       "_model_name": "DescriptionStyleModel",
       "_view_count": null,
       "_view_module": "@jupyter-widgets/base",
       "_view_module_version": "1.2.0",
       "_view_name": "StyleView",
       "description_width": ""
      }
     },
     "962519fad9474ca4a06ddc02931d1721": {
      "model_module": "@jupyter-widgets/base",
      "model_module_version": "1.2.0",
      "model_name": "LayoutModel",
      "state": {
       "_model_module": "@jupyter-widgets/base",
       "_model_module_version": "1.2.0",
       "_model_name": "LayoutModel",
       "_view_count": null,
       "_view_module": "@jupyter-widgets/base",
       "_view_module_version": "1.2.0",
       "_view_name": "LayoutView",
       "align_content": null,
       "align_items": null,
       "align_self": null,
       "border": null,
       "bottom": null,
       "display": null,
       "flex": null,
       "flex_flow": null,
       "grid_area": null,
       "grid_auto_columns": null,
       "grid_auto_flow": null,
       "grid_auto_rows": null,
       "grid_column": null,
       "grid_gap": null,
       "grid_row": null,
       "grid_template_areas": null,
       "grid_template_columns": null,
       "grid_template_rows": null,
       "height": null,
       "justify_content": null,
       "justify_items": null,
       "left": null,
       "margin": null,
       "max_height": null,
       "max_width": null,
       "min_height": null,
       "min_width": null,
       "object_fit": null,
       "object_position": null,
       "order": null,
       "overflow": null,
       "overflow_x": null,
       "overflow_y": null,
       "padding": null,
       "right": null,
       "top": null,
       "visibility": null,
       "width": null
      }
     },
     "9b2d9ef9ea31499dab36f646414423e5": {
      "model_module": "@jupyter-widgets/controls",
      "model_module_version": "1.5.0",
      "model_name": "HTMLModel",
      "state": {
       "_dom_classes": [],
       "_model_module": "@jupyter-widgets/controls",
       "_model_module_version": "1.5.0",
       "_model_name": "HTMLModel",
       "_view_count": null,
       "_view_module": "@jupyter-widgets/controls",
       "_view_module_version": "1.5.0",
       "_view_name": "HTMLView",
       "description": "",
       "description_tooltip": null,
       "layout": "IPY_MODEL_f7d17602d764473c99f873b493c4793c",
       "placeholder": "​",
       "style": "IPY_MODEL_82246d077e964b69baa78b36a942b2d8",
       "value": " 37/37 [00:08&lt;00:00,  4.89ba/s]"
      }
     },
     "9bde5c89565e4fefbf0fd3e505a7fe59": {
      "model_module": "@jupyter-widgets/base",
      "model_module_version": "1.2.0",
      "model_name": "LayoutModel",
      "state": {
       "_model_module": "@jupyter-widgets/base",
       "_model_module_version": "1.2.0",
       "_model_name": "LayoutModel",
       "_view_count": null,
       "_view_module": "@jupyter-widgets/base",
       "_view_module_version": "1.2.0",
       "_view_name": "LayoutView",
       "align_content": null,
       "align_items": null,
       "align_self": null,
       "border": null,
       "bottom": null,
       "display": null,
       "flex": null,
       "flex_flow": null,
       "grid_area": null,
       "grid_auto_columns": null,
       "grid_auto_flow": null,
       "grid_auto_rows": null,
       "grid_column": null,
       "grid_gap": null,
       "grid_row": null,
       "grid_template_areas": null,
       "grid_template_columns": null,
       "grid_template_rows": null,
       "height": null,
       "justify_content": null,
       "justify_items": null,
       "left": null,
       "margin": null,
       "max_height": null,
       "max_width": null,
       "min_height": null,
       "min_width": null,
       "object_fit": null,
       "object_position": null,
       "order": null,
       "overflow": null,
       "overflow_x": null,
       "overflow_y": null,
       "padding": null,
       "right": null,
       "top": null,
       "visibility": null,
       "width": null
      }
     },
     "9ec99d15efd84b778ec5200647dd1404": {
      "model_module": "@jupyter-widgets/controls",
      "model_module_version": "1.5.0",
      "model_name": "HTMLModel",
      "state": {
       "_dom_classes": [],
       "_model_module": "@jupyter-widgets/controls",
       "_model_module_version": "1.5.0",
       "_model_name": "HTMLModel",
       "_view_count": null,
       "_view_module": "@jupyter-widgets/controls",
       "_view_module_version": "1.5.0",
       "_view_name": "HTMLView",
       "description": "",
       "description_tooltip": null,
       "layout": "IPY_MODEL_043965cacf8140bba482a6c1e4c3dc75",
       "placeholder": "​",
       "style": "IPY_MODEL_cfb4379514864431b089903f9ea8d866",
       "value": "100%"
      }
     },
     "a1fbfc0e290440f683690cb0d30784ae": {
      "model_module": "@jupyter-widgets/base",
      "model_module_version": "1.2.0",
      "model_name": "LayoutModel",
      "state": {
       "_model_module": "@jupyter-widgets/base",
       "_model_module_version": "1.2.0",
       "_model_name": "LayoutModel",
       "_view_count": null,
       "_view_module": "@jupyter-widgets/base",
       "_view_module_version": "1.2.0",
       "_view_name": "LayoutView",
       "align_content": null,
       "align_items": null,
       "align_self": null,
       "border": null,
       "bottom": null,
       "display": null,
       "flex": null,
       "flex_flow": null,
       "grid_area": null,
       "grid_auto_columns": null,
       "grid_auto_flow": null,
       "grid_auto_rows": null,
       "grid_column": null,
       "grid_gap": null,
       "grid_row": null,
       "grid_template_areas": null,
       "grid_template_columns": null,
       "grid_template_rows": null,
       "height": null,
       "justify_content": null,
       "justify_items": null,
       "left": null,
       "margin": null,
       "max_height": null,
       "max_width": null,
       "min_height": null,
       "min_width": null,
       "object_fit": null,
       "object_position": null,
       "order": null,
       "overflow": null,
       "overflow_x": null,
       "overflow_y": null,
       "padding": null,
       "right": null,
       "top": null,
       "visibility": null,
       "width": null
      }
     },
     "a4db94dabc3d4a379ca76ec6f707d535": {
      "model_module": "@jupyter-widgets/base",
      "model_module_version": "1.2.0",
      "model_name": "LayoutModel",
      "state": {
       "_model_module": "@jupyter-widgets/base",
       "_model_module_version": "1.2.0",
       "_model_name": "LayoutModel",
       "_view_count": null,
       "_view_module": "@jupyter-widgets/base",
       "_view_module_version": "1.2.0",
       "_view_name": "LayoutView",
       "align_content": null,
       "align_items": null,
       "align_self": null,
       "border": null,
       "bottom": null,
       "display": null,
       "flex": null,
       "flex_flow": null,
       "grid_area": null,
       "grid_auto_columns": null,
       "grid_auto_flow": null,
       "grid_auto_rows": null,
       "grid_column": null,
       "grid_gap": null,
       "grid_row": null,
       "grid_template_areas": null,
       "grid_template_columns": null,
       "grid_template_rows": null,
       "height": null,
       "justify_content": null,
       "justify_items": null,
       "left": null,
       "margin": null,
       "max_height": null,
       "max_width": null,
       "min_height": null,
       "min_width": null,
       "object_fit": null,
       "object_position": null,
       "order": null,
       "overflow": null,
       "overflow_x": null,
       "overflow_y": null,
       "padding": null,
       "right": null,
       "top": null,
       "visibility": null,
       "width": null
      }
     },
     "a592855d4d294c95853c0854007fee54": {
      "model_module": "@jupyter-widgets/controls",
      "model_module_version": "1.5.0",
      "model_name": "HBoxModel",
      "state": {
       "_dom_classes": [],
       "_model_module": "@jupyter-widgets/controls",
       "_model_module_version": "1.5.0",
       "_model_name": "HBoxModel",
       "_view_count": null,
       "_view_module": "@jupyter-widgets/controls",
       "_view_module_version": "1.5.0",
       "_view_name": "HBoxView",
       "box_style": "",
       "children": [
        "IPY_MODEL_9ec99d15efd84b778ec5200647dd1404",
        "IPY_MODEL_f08dab27f64d446eaf7a9407910fcd40",
        "IPY_MODEL_c2eb7f3104be4971aeb3f06119141061"
       ],
       "layout": "IPY_MODEL_444e24e81b0147f1bf2a6ffa657b4b76"
      }
     },
     "aee23dc38cf3419d86736bbc404a5f77": {
      "model_module": "@jupyter-widgets/controls",
      "model_module_version": "1.5.0",
      "model_name": "DescriptionStyleModel",
      "state": {
       "_model_module": "@jupyter-widgets/controls",
       "_model_module_version": "1.5.0",
       "_model_name": "DescriptionStyleModel",
       "_view_count": null,
       "_view_module": "@jupyter-widgets/base",
       "_view_module_version": "1.2.0",
       "_view_name": "StyleView",
       "description_width": ""
      }
     },
     "af27f6397b074ce1ad25e1f81b3d7965": {
      "model_module": "@jupyter-widgets/base",
      "model_module_version": "1.2.0",
      "model_name": "LayoutModel",
      "state": {
       "_model_module": "@jupyter-widgets/base",
       "_model_module_version": "1.2.0",
       "_model_name": "LayoutModel",
       "_view_count": null,
       "_view_module": "@jupyter-widgets/base",
       "_view_module_version": "1.2.0",
       "_view_name": "LayoutView",
       "align_content": null,
       "align_items": null,
       "align_self": null,
       "border": null,
       "bottom": null,
       "display": null,
       "flex": null,
       "flex_flow": null,
       "grid_area": null,
       "grid_auto_columns": null,
       "grid_auto_flow": null,
       "grid_auto_rows": null,
       "grid_column": null,
       "grid_gap": null,
       "grid_row": null,
       "grid_template_areas": null,
       "grid_template_columns": null,
       "grid_template_rows": null,
       "height": null,
       "justify_content": null,
       "justify_items": null,
       "left": null,
       "margin": null,
       "max_height": null,
       "max_width": null,
       "min_height": null,
       "min_width": null,
       "object_fit": null,
       "object_position": null,
       "order": null,
       "overflow": null,
       "overflow_x": null,
       "overflow_y": null,
       "padding": null,
       "right": null,
       "top": null,
       "visibility": null,
       "width": null
      }
     },
     "b16fcdcaa3eb42c990f2fa076b31ae19": {
      "model_module": "@jupyter-widgets/base",
      "model_module_version": "1.2.0",
      "model_name": "LayoutModel",
      "state": {
       "_model_module": "@jupyter-widgets/base",
       "_model_module_version": "1.2.0",
       "_model_name": "LayoutModel",
       "_view_count": null,
       "_view_module": "@jupyter-widgets/base",
       "_view_module_version": "1.2.0",
       "_view_name": "LayoutView",
       "align_content": null,
       "align_items": null,
       "align_self": null,
       "border": null,
       "bottom": null,
       "display": null,
       "flex": null,
       "flex_flow": null,
       "grid_area": null,
       "grid_auto_columns": null,
       "grid_auto_flow": null,
       "grid_auto_rows": null,
       "grid_column": null,
       "grid_gap": null,
       "grid_row": null,
       "grid_template_areas": null,
       "grid_template_columns": null,
       "grid_template_rows": null,
       "height": null,
       "justify_content": null,
       "justify_items": null,
       "left": null,
       "margin": null,
       "max_height": null,
       "max_width": null,
       "min_height": null,
       "min_width": null,
       "object_fit": null,
       "object_position": null,
       "order": null,
       "overflow": null,
       "overflow_x": null,
       "overflow_y": null,
       "padding": null,
       "right": null,
       "top": null,
       "visibility": null,
       "width": null
      }
     },
     "b2f68f6fa42f459fbff9bc18a1e98093": {
      "model_module": "@jupyter-widgets/controls",
      "model_module_version": "1.5.0",
      "model_name": "DescriptionStyleModel",
      "state": {
       "_model_module": "@jupyter-widgets/controls",
       "_model_module_version": "1.5.0",
       "_model_name": "DescriptionStyleModel",
       "_view_count": null,
       "_view_module": "@jupyter-widgets/base",
       "_view_module_version": "1.2.0",
       "_view_name": "StyleView",
       "description_width": ""
      }
     },
     "b3faae0ebed9423b8d4885fb626161db": {
      "model_module": "@jupyter-widgets/controls",
      "model_module_version": "1.5.0",
      "model_name": "HBoxModel",
      "state": {
       "_dom_classes": [],
       "_model_module": "@jupyter-widgets/controls",
       "_model_module_version": "1.5.0",
       "_model_name": "HBoxModel",
       "_view_count": null,
       "_view_module": "@jupyter-widgets/controls",
       "_view_module_version": "1.5.0",
       "_view_name": "HBoxView",
       "box_style": "",
       "children": [
        "IPY_MODEL_f635b9e4ebd348ed8f3e19dc8c488456",
        "IPY_MODEL_1856ab8b3a2d4b84be683c632893adf3",
        "IPY_MODEL_0d6104bb26524d68b96c700e906e55ab"
       ],
       "layout": "IPY_MODEL_e256f1ddbdf046f6bc15513b1a8a5b84"
      }
     },
     "b4f939324f4d48db9b5767af3e7a48c9": {
      "model_module": "@jupyter-widgets/base",
      "model_module_version": "1.2.0",
      "model_name": "LayoutModel",
      "state": {
       "_model_module": "@jupyter-widgets/base",
       "_model_module_version": "1.2.0",
       "_model_name": "LayoutModel",
       "_view_count": null,
       "_view_module": "@jupyter-widgets/base",
       "_view_module_version": "1.2.0",
       "_view_name": "LayoutView",
       "align_content": null,
       "align_items": null,
       "align_self": null,
       "border": null,
       "bottom": null,
       "display": null,
       "flex": null,
       "flex_flow": null,
       "grid_area": null,
       "grid_auto_columns": null,
       "grid_auto_flow": null,
       "grid_auto_rows": null,
       "grid_column": null,
       "grid_gap": null,
       "grid_row": null,
       "grid_template_areas": null,
       "grid_template_columns": null,
       "grid_template_rows": null,
       "height": null,
       "justify_content": null,
       "justify_items": null,
       "left": null,
       "margin": null,
       "max_height": null,
       "max_width": null,
       "min_height": null,
       "min_width": null,
       "object_fit": null,
       "object_position": null,
       "order": null,
       "overflow": null,
       "overflow_x": null,
       "overflow_y": null,
       "padding": null,
       "right": null,
       "top": null,
       "visibility": null,
       "width": null
      }
     },
     "baafdbb860ae4e7bafc804de49402548": {
      "model_module": "@jupyter-widgets/controls",
      "model_module_version": "1.5.0",
      "model_name": "DescriptionStyleModel",
      "state": {
       "_model_module": "@jupyter-widgets/controls",
       "_model_module_version": "1.5.0",
       "_model_name": "DescriptionStyleModel",
       "_view_count": null,
       "_view_module": "@jupyter-widgets/base",
       "_view_module_version": "1.2.0",
       "_view_name": "StyleView",
       "description_width": ""
      }
     },
     "c2eb7f3104be4971aeb3f06119141061": {
      "model_module": "@jupyter-widgets/controls",
      "model_module_version": "1.5.0",
      "model_name": "HTMLModel",
      "state": {
       "_dom_classes": [],
       "_model_module": "@jupyter-widgets/controls",
       "_model_module_version": "1.5.0",
       "_model_name": "HTMLModel",
       "_view_count": null,
       "_view_module": "@jupyter-widgets/controls",
       "_view_module_version": "1.5.0",
       "_view_name": "HTMLView",
       "description": "",
       "description_tooltip": null,
       "layout": "IPY_MODEL_cf2fd33707cf4f73811d25e68f1d4ac8",
       "placeholder": "​",
       "style": "IPY_MODEL_8fbd1e344c4c4b969c6f8fdda7dc4b46",
       "value": " 37/37 [00:07&lt;00:00,  5.39ba/s]"
      }
     },
     "c511025977e64a1785e80b03148772d4": {
      "model_module": "@jupyter-widgets/base",
      "model_module_version": "1.2.0",
      "model_name": "LayoutModel",
      "state": {
       "_model_module": "@jupyter-widgets/base",
       "_model_module_version": "1.2.0",
       "_model_name": "LayoutModel",
       "_view_count": null,
       "_view_module": "@jupyter-widgets/base",
       "_view_module_version": "1.2.0",
       "_view_name": "LayoutView",
       "align_content": null,
       "align_items": null,
       "align_self": null,
       "border": null,
       "bottom": null,
       "display": null,
       "flex": null,
       "flex_flow": null,
       "grid_area": null,
       "grid_auto_columns": null,
       "grid_auto_flow": null,
       "grid_auto_rows": null,
       "grid_column": null,
       "grid_gap": null,
       "grid_row": null,
       "grid_template_areas": null,
       "grid_template_columns": null,
       "grid_template_rows": null,
       "height": null,
       "justify_content": null,
       "justify_items": null,
       "left": null,
       "margin": null,
       "max_height": null,
       "max_width": null,
       "min_height": null,
       "min_width": null,
       "object_fit": null,
       "object_position": null,
       "order": null,
       "overflow": null,
       "overflow_x": null,
       "overflow_y": null,
       "padding": null,
       "right": null,
       "top": null,
       "visibility": null,
       "width": null
      }
     },
     "c64c5f203593465eab064492b80d4753": {
      "model_module": "@jupyter-widgets/controls",
      "model_module_version": "1.5.0",
      "model_name": "DescriptionStyleModel",
      "state": {
       "_model_module": "@jupyter-widgets/controls",
       "_model_module_version": "1.5.0",
       "_model_name": "DescriptionStyleModel",
       "_view_count": null,
       "_view_module": "@jupyter-widgets/base",
       "_view_module_version": "1.2.0",
       "_view_name": "StyleView",
       "description_width": ""
      }
     },
     "cb7bda9dada94983aae454cf541ad094": {
      "model_module": "@jupyter-widgets/controls",
      "model_module_version": "1.5.0",
      "model_name": "HTMLModel",
      "state": {
       "_dom_classes": [],
       "_model_module": "@jupyter-widgets/controls",
       "_model_module_version": "1.5.0",
       "_model_name": "HTMLModel",
       "_view_count": null,
       "_view_module": "@jupyter-widgets/controls",
       "_view_module_version": "1.5.0",
       "_view_name": "HTMLView",
       "description": "",
       "description_tooltip": null,
       "layout": "IPY_MODEL_7e5a4bc4ee704c0bbc1d7712b73f28cd",
       "placeholder": "​",
       "style": "IPY_MODEL_8805464bdc9d48028f326a63cdda611f",
       "value": "100%"
      }
     },
     "cf12c6a4e37b4ceabfbb61ab68683693": {
      "model_module": "@jupyter-widgets/controls",
      "model_module_version": "1.5.0",
      "model_name": "DescriptionStyleModel",
      "state": {
       "_model_module": "@jupyter-widgets/controls",
       "_model_module_version": "1.5.0",
       "_model_name": "DescriptionStyleModel",
       "_view_count": null,
       "_view_module": "@jupyter-widgets/base",
       "_view_module_version": "1.2.0",
       "_view_name": "StyleView",
       "description_width": ""
      }
     },
     "cf2fd33707cf4f73811d25e68f1d4ac8": {
      "model_module": "@jupyter-widgets/base",
      "model_module_version": "1.2.0",
      "model_name": "LayoutModel",
      "state": {
       "_model_module": "@jupyter-widgets/base",
       "_model_module_version": "1.2.0",
       "_model_name": "LayoutModel",
       "_view_count": null,
       "_view_module": "@jupyter-widgets/base",
       "_view_module_version": "1.2.0",
       "_view_name": "LayoutView",
       "align_content": null,
       "align_items": null,
       "align_self": null,
       "border": null,
       "bottom": null,
       "display": null,
       "flex": null,
       "flex_flow": null,
       "grid_area": null,
       "grid_auto_columns": null,
       "grid_auto_flow": null,
       "grid_auto_rows": null,
       "grid_column": null,
       "grid_gap": null,
       "grid_row": null,
       "grid_template_areas": null,
       "grid_template_columns": null,
       "grid_template_rows": null,
       "height": null,
       "justify_content": null,
       "justify_items": null,
       "left": null,
       "margin": null,
       "max_height": null,
       "max_width": null,
       "min_height": null,
       "min_width": null,
       "object_fit": null,
       "object_position": null,
       "order": null,
       "overflow": null,
       "overflow_x": null,
       "overflow_y": null,
       "padding": null,
       "right": null,
       "top": null,
       "visibility": null,
       "width": null
      }
     },
     "cfa01e5e46654f81aa332b48f77620d4": {
      "model_module": "@jupyter-widgets/base",
      "model_module_version": "1.2.0",
      "model_name": "LayoutModel",
      "state": {
       "_model_module": "@jupyter-widgets/base",
       "_model_module_version": "1.2.0",
       "_model_name": "LayoutModel",
       "_view_count": null,
       "_view_module": "@jupyter-widgets/base",
       "_view_module_version": "1.2.0",
       "_view_name": "LayoutView",
       "align_content": null,
       "align_items": null,
       "align_self": null,
       "border": null,
       "bottom": null,
       "display": null,
       "flex": null,
       "flex_flow": null,
       "grid_area": null,
       "grid_auto_columns": null,
       "grid_auto_flow": null,
       "grid_auto_rows": null,
       "grid_column": null,
       "grid_gap": null,
       "grid_row": null,
       "grid_template_areas": null,
       "grid_template_columns": null,
       "grid_template_rows": null,
       "height": null,
       "justify_content": null,
       "justify_items": null,
       "left": null,
       "margin": null,
       "max_height": null,
       "max_width": null,
       "min_height": null,
       "min_width": null,
       "object_fit": null,
       "object_position": null,
       "order": null,
       "overflow": null,
       "overflow_x": null,
       "overflow_y": null,
       "padding": null,
       "right": null,
       "top": null,
       "visibility": null,
       "width": null
      }
     },
     "cfb4379514864431b089903f9ea8d866": {
      "model_module": "@jupyter-widgets/controls",
      "model_module_version": "1.5.0",
      "model_name": "DescriptionStyleModel",
      "state": {
       "_model_module": "@jupyter-widgets/controls",
       "_model_module_version": "1.5.0",
       "_model_name": "DescriptionStyleModel",
       "_view_count": null,
       "_view_module": "@jupyter-widgets/base",
       "_view_module_version": "1.2.0",
       "_view_name": "StyleView",
       "description_width": ""
      }
     },
     "d03d865e68394d13a4ab1ccb322a123f": {
      "model_module": "@jupyter-widgets/base",
      "model_module_version": "1.2.0",
      "model_name": "LayoutModel",
      "state": {
       "_model_module": "@jupyter-widgets/base",
       "_model_module_version": "1.2.0",
       "_model_name": "LayoutModel",
       "_view_count": null,
       "_view_module": "@jupyter-widgets/base",
       "_view_module_version": "1.2.0",
       "_view_name": "LayoutView",
       "align_content": null,
       "align_items": null,
       "align_self": null,
       "border": null,
       "bottom": null,
       "display": null,
       "flex": null,
       "flex_flow": null,
       "grid_area": null,
       "grid_auto_columns": null,
       "grid_auto_flow": null,
       "grid_auto_rows": null,
       "grid_column": null,
       "grid_gap": null,
       "grid_row": null,
       "grid_template_areas": null,
       "grid_template_columns": null,
       "grid_template_rows": null,
       "height": null,
       "justify_content": null,
       "justify_items": null,
       "left": null,
       "margin": null,
       "max_height": null,
       "max_width": null,
       "min_height": null,
       "min_width": null,
       "object_fit": null,
       "object_position": null,
       "order": null,
       "overflow": null,
       "overflow_x": null,
       "overflow_y": null,
       "padding": null,
       "right": null,
       "top": null,
       "visibility": null,
       "width": null
      }
     },
     "d1ad77de7bcf466ba8263aa05680b861": {
      "model_module": "@jupyter-widgets/controls",
      "model_module_version": "1.5.0",
      "model_name": "DescriptionStyleModel",
      "state": {
       "_model_module": "@jupyter-widgets/controls",
       "_model_module_version": "1.5.0",
       "_model_name": "DescriptionStyleModel",
       "_view_count": null,
       "_view_module": "@jupyter-widgets/base",
       "_view_module_version": "1.2.0",
       "_view_name": "StyleView",
       "description_width": ""
      }
     },
     "d1f0edf089304a3b8353267b86cb2aa5": {
      "model_module": "@jupyter-widgets/controls",
      "model_module_version": "1.5.0",
      "model_name": "ProgressStyleModel",
      "state": {
       "_model_module": "@jupyter-widgets/controls",
       "_model_module_version": "1.5.0",
       "_model_name": "ProgressStyleModel",
       "_view_count": null,
       "_view_module": "@jupyter-widgets/base",
       "_view_module_version": "1.2.0",
       "_view_name": "StyleView",
       "bar_color": null,
       "description_width": ""
      }
     },
     "d22213a717bf438ca83d29d4e917beff": {
      "model_module": "@jupyter-widgets/base",
      "model_module_version": "1.2.0",
      "model_name": "LayoutModel",
      "state": {
       "_model_module": "@jupyter-widgets/base",
       "_model_module_version": "1.2.0",
       "_model_name": "LayoutModel",
       "_view_count": null,
       "_view_module": "@jupyter-widgets/base",
       "_view_module_version": "1.2.0",
       "_view_name": "LayoutView",
       "align_content": null,
       "align_items": null,
       "align_self": null,
       "border": null,
       "bottom": null,
       "display": null,
       "flex": null,
       "flex_flow": null,
       "grid_area": null,
       "grid_auto_columns": null,
       "grid_auto_flow": null,
       "grid_auto_rows": null,
       "grid_column": null,
       "grid_gap": null,
       "grid_row": null,
       "grid_template_areas": null,
       "grid_template_columns": null,
       "grid_template_rows": null,
       "height": null,
       "justify_content": null,
       "justify_items": null,
       "left": null,
       "margin": null,
       "max_height": null,
       "max_width": null,
       "min_height": null,
       "min_width": null,
       "object_fit": null,
       "object_position": null,
       "order": null,
       "overflow": null,
       "overflow_x": null,
       "overflow_y": null,
       "padding": null,
       "right": null,
       "top": null,
       "visibility": null,
       "width": null
      }
     },
     "d94bdd17e6364d0c820083a2a677d586": {
      "model_module": "@jupyter-widgets/controls",
      "model_module_version": "1.5.0",
      "model_name": "HTMLModel",
      "state": {
       "_dom_classes": [],
       "_model_module": "@jupyter-widgets/controls",
       "_model_module_version": "1.5.0",
       "_model_name": "HTMLModel",
       "_view_count": null,
       "_view_module": "@jupyter-widgets/controls",
       "_view_module_version": "1.5.0",
       "_view_name": "HTMLView",
       "description": "",
       "description_tooltip": null,
       "layout": "IPY_MODEL_05f9d76ce1d1498bb8ff677c6d6347df",
       "placeholder": "​",
       "style": "IPY_MODEL_c64c5f203593465eab064492b80d4753",
       "value": " 2.35M/2.35M [00:00&lt;00:00, 5.98MB/s]"
      }
     },
     "e13e2e1491494564b791a21fb2cdd402": {
      "model_module": "@jupyter-widgets/controls",
      "model_module_version": "1.5.0",
      "model_name": "HBoxModel",
      "state": {
       "_dom_classes": [],
       "_model_module": "@jupyter-widgets/controls",
       "_model_module_version": "1.5.0",
       "_model_name": "HBoxModel",
       "_view_count": null,
       "_view_module": "@jupyter-widgets/controls",
       "_view_module_version": "1.5.0",
       "_view_name": "HBoxView",
       "box_style": "",
       "children": [
        "IPY_MODEL_418f591bb5f741368a62ce5e25d8f34f",
        "IPY_MODEL_8237b8982bda451dabbeb2f7b80d7bd3",
        "IPY_MODEL_89feb65b78ee442aa6f2499b0e2657ad"
       ],
       "layout": "IPY_MODEL_a1fbfc0e290440f683690cb0d30784ae"
      }
     },
     "e256f1ddbdf046f6bc15513b1a8a5b84": {
      "model_module": "@jupyter-widgets/base",
      "model_module_version": "1.2.0",
      "model_name": "LayoutModel",
      "state": {
       "_model_module": "@jupyter-widgets/base",
       "_model_module_version": "1.2.0",
       "_model_name": "LayoutModel",
       "_view_count": null,
       "_view_module": "@jupyter-widgets/base",
       "_view_module_version": "1.2.0",
       "_view_name": "LayoutView",
       "align_content": null,
       "align_items": null,
       "align_self": null,
       "border": null,
       "bottom": null,
       "display": null,
       "flex": null,
       "flex_flow": null,
       "grid_area": null,
       "grid_auto_columns": null,
       "grid_auto_flow": null,
       "grid_auto_rows": null,
       "grid_column": null,
       "grid_gap": null,
       "grid_row": null,
       "grid_template_areas": null,
       "grid_template_columns": null,
       "grid_template_rows": null,
       "height": null,
       "justify_content": null,
       "justify_items": null,
       "left": null,
       "margin": null,
       "max_height": null,
       "max_width": null,
       "min_height": null,
       "min_width": null,
       "object_fit": null,
       "object_position": null,
       "order": null,
       "overflow": null,
       "overflow_x": null,
       "overflow_y": null,
       "padding": null,
       "right": null,
       "top": null,
       "visibility": null,
       "width": null
      }
     },
     "e62a0f21b4264f4fa48d161bdf9d792e": {
      "model_module": "@jupyter-widgets/base",
      "model_module_version": "1.2.0",
      "model_name": "LayoutModel",
      "state": {
       "_model_module": "@jupyter-widgets/base",
       "_model_module_version": "1.2.0",
       "_model_name": "LayoutModel",
       "_view_count": null,
       "_view_module": "@jupyter-widgets/base",
       "_view_module_version": "1.2.0",
       "_view_name": "LayoutView",
       "align_content": null,
       "align_items": null,
       "align_self": null,
       "border": null,
       "bottom": null,
       "display": null,
       "flex": null,
       "flex_flow": null,
       "grid_area": null,
       "grid_auto_columns": null,
       "grid_auto_flow": null,
       "grid_auto_rows": null,
       "grid_column": null,
       "grid_gap": null,
       "grid_row": null,
       "grid_template_areas": null,
       "grid_template_columns": null,
       "grid_template_rows": null,
       "height": null,
       "justify_content": null,
       "justify_items": null,
       "left": null,
       "margin": null,
       "max_height": null,
       "max_width": null,
       "min_height": null,
       "min_width": null,
       "object_fit": null,
       "object_position": null,
       "order": null,
       "overflow": null,
       "overflow_x": null,
       "overflow_y": null,
       "padding": null,
       "right": null,
       "top": null,
       "visibility": null,
       "width": null
      }
     },
     "e7a044202e7f4b09a653d7017870ac86": {
      "model_module": "@jupyter-widgets/controls",
      "model_module_version": "1.5.0",
      "model_name": "HTMLModel",
      "state": {
       "_dom_classes": [],
       "_model_module": "@jupyter-widgets/controls",
       "_model_module_version": "1.5.0",
       "_model_name": "HTMLModel",
       "_view_count": null,
       "_view_module": "@jupyter-widgets/controls",
       "_view_module_version": "1.5.0",
       "_view_name": "HTMLView",
       "description": "",
       "description_tooltip": null,
       "layout": "IPY_MODEL_f32eca4c927b4f35910f6f4c0a0a2b67",
       "placeholder": "​",
       "style": "IPY_MODEL_d1ad77de7bcf466ba8263aa05680b861",
       "value": "Downloading: 100%"
      }
     },
     "e9a485a54de14cd2a8a83c6a4e87e659": {
      "model_module": "@jupyter-widgets/controls",
      "model_module_version": "1.5.0",
      "model_name": "ProgressStyleModel",
      "state": {
       "_model_module": "@jupyter-widgets/controls",
       "_model_module_version": "1.5.0",
       "_model_name": "ProgressStyleModel",
       "_view_count": null,
       "_view_module": "@jupyter-widgets/base",
       "_view_module_version": "1.2.0",
       "_view_name": "StyleView",
       "bar_color": null,
       "description_width": ""
      }
     },
     "e9c71732d896472abfdd54d558c837a8": {
      "model_module": "@jupyter-widgets/base",
      "model_module_version": "1.2.0",
      "model_name": "LayoutModel",
      "state": {
       "_model_module": "@jupyter-widgets/base",
       "_model_module_version": "1.2.0",
       "_model_name": "LayoutModel",
       "_view_count": null,
       "_view_module": "@jupyter-widgets/base",
       "_view_module_version": "1.2.0",
       "_view_name": "LayoutView",
       "align_content": null,
       "align_items": null,
       "align_self": null,
       "border": null,
       "bottom": null,
       "display": null,
       "flex": null,
       "flex_flow": null,
       "grid_area": null,
       "grid_auto_columns": null,
       "grid_auto_flow": null,
       "grid_auto_rows": null,
       "grid_column": null,
       "grid_gap": null,
       "grid_row": null,
       "grid_template_areas": null,
       "grid_template_columns": null,
       "grid_template_rows": null,
       "height": null,
       "justify_content": null,
       "justify_items": null,
       "left": null,
       "margin": null,
       "max_height": null,
       "max_width": null,
       "min_height": null,
       "min_width": null,
       "object_fit": null,
       "object_position": null,
       "order": null,
       "overflow": null,
       "overflow_x": null,
       "overflow_y": null,
       "padding": null,
       "right": null,
       "top": null,
       "visibility": null,
       "width": null
      }
     },
     "eae37cccbe144e3db82bfcbe15459794": {
      "model_module": "@jupyter-widgets/controls",
      "model_module_version": "1.5.0",
      "model_name": "ProgressStyleModel",
      "state": {
       "_model_module": "@jupyter-widgets/controls",
       "_model_module_version": "1.5.0",
       "_model_name": "ProgressStyleModel",
       "_view_count": null,
       "_view_module": "@jupyter-widgets/base",
       "_view_module_version": "1.2.0",
       "_view_name": "StyleView",
       "bar_color": null,
       "description_width": ""
      }
     },
     "ed0c48e1fb9440b9947c3bb4ff166116": {
      "model_module": "@jupyter-widgets/controls",
      "model_module_version": "1.5.0",
      "model_name": "ProgressStyleModel",
      "state": {
       "_model_module": "@jupyter-widgets/controls",
       "_model_module_version": "1.5.0",
       "_model_name": "ProgressStyleModel",
       "_view_count": null,
       "_view_module": "@jupyter-widgets/base",
       "_view_module_version": "1.2.0",
       "_view_name": "StyleView",
       "bar_color": null,
       "description_width": ""
      }
     },
     "ee2573a55fb74ba59fa8be755857d785": {
      "model_module": "@jupyter-widgets/controls",
      "model_module_version": "1.5.0",
      "model_name": "DescriptionStyleModel",
      "state": {
       "_model_module": "@jupyter-widgets/controls",
       "_model_module_version": "1.5.0",
       "_model_name": "DescriptionStyleModel",
       "_view_count": null,
       "_view_module": "@jupyter-widgets/base",
       "_view_module_version": "1.2.0",
       "_view_name": "StyleView",
       "description_width": ""
      }
     },
     "f08dab27f64d446eaf7a9407910fcd40": {
      "model_module": "@jupyter-widgets/controls",
      "model_module_version": "1.5.0",
      "model_name": "FloatProgressModel",
      "state": {
       "_dom_classes": [],
       "_model_module": "@jupyter-widgets/controls",
       "_model_module_version": "1.5.0",
       "_model_name": "FloatProgressModel",
       "_view_count": null,
       "_view_module": "@jupyter-widgets/controls",
       "_view_module_version": "1.5.0",
       "_view_name": "ProgressView",
       "bar_style": "success",
       "description": "",
       "description_tooltip": null,
       "layout": "IPY_MODEL_cfa01e5e46654f81aa332b48f77620d4",
       "max": 37.0,
       "min": 0.0,
       "orientation": "horizontal",
       "style": "IPY_MODEL_eae37cccbe144e3db82bfcbe15459794",
       "value": 37.0
      }
     },
     "f32eca4c927b4f35910f6f4c0a0a2b67": {
      "model_module": "@jupyter-widgets/base",
      "model_module_version": "1.2.0",
      "model_name": "LayoutModel",
      "state": {
       "_model_module": "@jupyter-widgets/base",
       "_model_module_version": "1.2.0",
       "_model_name": "LayoutModel",
       "_view_count": null,
       "_view_module": "@jupyter-widgets/base",
       "_view_module_version": "1.2.0",
       "_view_name": "LayoutView",
       "align_content": null,
       "align_items": null,
       "align_self": null,
       "border": null,
       "bottom": null,
       "display": null,
       "flex": null,
       "flex_flow": null,
       "grid_area": null,
       "grid_auto_columns": null,
       "grid_auto_flow": null,
       "grid_auto_rows": null,
       "grid_column": null,
       "grid_gap": null,
       "grid_row": null,
       "grid_template_areas": null,
       "grid_template_columns": null,
       "grid_template_rows": null,
       "height": null,
       "justify_content": null,
       "justify_items": null,
       "left": null,
       "margin": null,
       "max_height": null,
       "max_width": null,
       "min_height": null,
       "min_width": null,
       "object_fit": null,
       "object_position": null,
       "order": null,
       "overflow": null,
       "overflow_x": null,
       "overflow_y": null,
       "padding": null,
       "right": null,
       "top": null,
       "visibility": null,
       "width": null
      }
     },
     "f635b9e4ebd348ed8f3e19dc8c488456": {
      "model_module": "@jupyter-widgets/controls",
      "model_module_version": "1.5.0",
      "model_name": "HTMLModel",
      "state": {
       "_dom_classes": [],
       "_model_module": "@jupyter-widgets/controls",
       "_model_module_version": "1.5.0",
       "_model_name": "HTMLModel",
       "_view_count": null,
       "_view_module": "@jupyter-widgets/controls",
       "_view_module_version": "1.5.0",
       "_view_name": "HTMLView",
       "description": "",
       "description_tooltip": null,
       "layout": "IPY_MODEL_e62a0f21b4264f4fa48d161bdf9d792e",
       "placeholder": "​",
       "style": "IPY_MODEL_91cd73f2314c4520ab23022b1f45e7c8",
       "value": "100%"
      }
     },
     "f75a70d07de74838b78f245c8d8ff962": {
      "model_module": "@jupyter-widgets/controls",
      "model_module_version": "1.5.0",
      "model_name": "ProgressStyleModel",
      "state": {
       "_model_module": "@jupyter-widgets/controls",
       "_model_module_version": "1.5.0",
       "_model_name": "ProgressStyleModel",
       "_view_count": null,
       "_view_module": "@jupyter-widgets/base",
       "_view_module_version": "1.2.0",
       "_view_name": "StyleView",
       "bar_color": null,
       "description_width": ""
      }
     },
     "f7d17602d764473c99f873b493c4793c": {
      "model_module": "@jupyter-widgets/base",
      "model_module_version": "1.2.0",
      "model_name": "LayoutModel",
      "state": {
       "_model_module": "@jupyter-widgets/base",
       "_model_module_version": "1.2.0",
       "_model_name": "LayoutModel",
       "_view_count": null,
       "_view_module": "@jupyter-widgets/base",
       "_view_module_version": "1.2.0",
       "_view_name": "LayoutView",
       "align_content": null,
       "align_items": null,
       "align_self": null,
       "border": null,
       "bottom": null,
       "display": null,
       "flex": null,
       "flex_flow": null,
       "grid_area": null,
       "grid_auto_columns": null,
       "grid_auto_flow": null,
       "grid_auto_rows": null,
       "grid_column": null,
       "grid_gap": null,
       "grid_row": null,
       "grid_template_areas": null,
       "grid_template_columns": null,
       "grid_template_rows": null,
       "height": null,
       "justify_content": null,
       "justify_items": null,
       "left": null,
       "margin": null,
       "max_height": null,
       "max_width": null,
       "min_height": null,
       "min_width": null,
       "object_fit": null,
       "object_position": null,
       "order": null,
       "overflow": null,
       "overflow_x": null,
       "overflow_y": null,
       "padding": null,
       "right": null,
       "top": null,
       "visibility": null,
       "width": null
      }
     },
     "fba8ac6008f042acbfafcc2489f77a36": {
      "model_module": "@jupyter-widgets/controls",
      "model_module_version": "1.5.0",
      "model_name": "FloatProgressModel",
      "state": {
       "_dom_classes": [],
       "_model_module": "@jupyter-widgets/controls",
       "_model_module_version": "1.5.0",
       "_model_name": "FloatProgressModel",
       "_view_count": null,
       "_view_module": "@jupyter-widgets/controls",
       "_view_module_version": "1.5.0",
       "_view_name": "ProgressView",
       "bar_style": "success",
       "description": "",
       "description_tooltip": null,
       "layout": "IPY_MODEL_414e349f5e56439fa5e0727e575cdb4c",
       "max": 578.0,
       "min": 0.0,
       "orientation": "horizontal",
       "style": "IPY_MODEL_297eb17b481e465fa1206be483e58e3f",
       "value": 578.0
      }
     }
    },
    "version_major": 2,
    "version_minor": 0
   }
  }
 },
 "nbformat": 4,
 "nbformat_minor": 5
}
